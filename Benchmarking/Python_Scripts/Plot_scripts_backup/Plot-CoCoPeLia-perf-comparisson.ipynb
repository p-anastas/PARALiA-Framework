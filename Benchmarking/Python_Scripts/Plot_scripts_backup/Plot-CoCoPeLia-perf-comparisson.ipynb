{
 "cells": [
  {
   "cell_type": "code",
   "execution_count": 1,
   "metadata": {},
   "outputs": [],
   "source": [
    "import pandas as pd\n",
    "import math\n",
    "import matplotlib as mpl\n",
    "#mpl.use('pdf')\n",
    "import matplotlib.pyplot as plt\n",
    "import numpy as np\n",
    "from collections import OrderedDict\n",
    "import matplotlib\n",
    "import seaborn as sns\n",
    "#Red\n",
    "red1= sns.color_palette(\"Reds_d\",1)\n",
    "red2= sns.color_palette(\"Reds_d\",2)\n",
    "red3= sns.color_palette(\"Reds_d\",3)\n",
    "red4= sns.color_palette(\"Reds_d\",4)\n",
    "red5= sns.color_palette(\"Reds_d\",5)\n",
    "red6= sns.color_palette(\"Reds_d\",6)\n",
    "red7= sns.color_palette(\"Reds_d\",7)\n",
    "red8= sns.color_palette(\"Reds_d\",8)\n",
    "\n",
    "#YellowGreen\n",
    "yg1= sns.color_palette(\"YlGn_d\",1)\n",
    "yg2= sns.color_palette(\"YlGn_d\",2)\n",
    "yg3= sns.color_palette(\"YlGn_d\",3)\n",
    "yg4= sns.color_palette(\"YlGn_d\",4)\n",
    "yg5= sns.color_palette(\"YlGn_d\",5)\n",
    "yg7= sns.color_palette(\"YlGn_d\",7)\n",
    "\n",
    "#GreenBlue\n",
    "gb1= sns.color_palette(\"GnBu_d\",1)\n",
    "gb2= sns.color_palette(\"GnBu_d\",2)\n",
    "gb3= sns.color_palette(\"GnBu_d\",3)\n",
    "gb4= sns.color_palette(\"GnBu_d\",4)\n",
    "gb5= sns.color_palette(\"GnBu_d\",5)\n",
    "gb6= sns.color_palette(\"GnBu_d\",6)\n",
    "gb7= sns.color_palette(\"GnBu_d\",7)\n",
    "gb8= sns.color_palette(\"GnBu_d\",8)\n",
    "\n",
    "cp2 = list(map(lambda x: sns.desaturate(x,0.9),[red7[2],gb7[4]]))\n",
    "cp2v1 = list(map(lambda x: sns.desaturate(x,0.9),[red7[2],yg7[0]]))\n",
    "cp3 = list(map(lambda x: sns.desaturate(x,0.9),[yg7[0],gb7[4],red7[2]]))\n",
    "cp4 = list(map(lambda x: sns.desaturate(x,0.9),[yg7[6],gb7[4],red7[2],yg7[0]]))\n",
    "cp2_2 = list(map(lambda x: sns.desaturate(x,0.9),[red7[0],red7[3],gb7[4],gb7[6]]))\n",
    "cp_total_spectrum = list(map(lambda x: sns.desaturate(x,0.9),gb7 + yg7 + red7))"
   ]
  },
  {
   "cell_type": "code",
   "execution_count": 2,
   "metadata": {},
   "outputs": [
    {
     "data": {
      "text/html": [
       "<svg  width=\"220\" height=\"55\"><rect x=\"0\" y=\"0\" width=\"55\" height=\"55\" style=\"fill:#354c3c;stroke-width:2;stroke:rgb(255,255,255)\"/><rect x=\"55\" y=\"0\" width=\"55\" height=\"55\" style=\"fill:#4486a0;stroke-width:2;stroke:rgb(255,255,255)\"/><rect x=\"110\" y=\"0\" width=\"55\" height=\"55\" style=\"fill:#e15246;stroke-width:2;stroke:rgb(255,255,255)\"/><rect x=\"165\" y=\"0\" width=\"55\" height=\"55\" style=\"fill:#9cce89;stroke-width:2;stroke:rgb(255,255,255)\"/></svg>"
      ],
      "text/plain": [
       "[(0.20872433679354097, 0.2971118800461361, 0.23389619377162635),\n",
       " (0.2649160579264386, 0.5270152505446624, 0.6269460463924131),\n",
       " (0.8807358708189157, 0.32277047289504046, 0.2744659746251443),\n",
       " (0.6120315263360248, 0.8081330257593234, 0.5357962322183777)]"
      ]
     },
     "execution_count": 2,
     "metadata": {},
     "output_type": "execute_result"
    }
   ],
   "source": [
    "sns.set_palette(cp4)\n",
    "sns.color_palette()"
   ]
  },
  {
   "cell_type": "code",
   "execution_count": 3,
   "metadata": {},
   "outputs": [
    {
     "data": {
      "text/html": [
       "<svg  width=\"110\" height=\"55\"><rect x=\"0\" y=\"0\" width=\"55\" height=\"55\" style=\"fill:#e15246;stroke-width:2;stroke:rgb(255,255,255)\"/><rect x=\"55\" y=\"0\" width=\"55\" height=\"55\" style=\"fill:#9cce89;stroke-width:2;stroke:rgb(255,255,255)\"/></svg>"
      ],
      "text/plain": [
       "[(0.8807358708189157, 0.32277047289504046, 0.2744659746251443),\n",
       " (0.6120315263360248, 0.8081330257593234, 0.5357962322183777)]"
      ]
     },
     "execution_count": 3,
     "metadata": {},
     "output_type": "execute_result"
    }
   ],
   "source": [
    "sns.set_palette(cp2v1)\n",
    "sns.color_palette()"
   ]
  },
  {
   "cell_type": "code",
   "execution_count": 4,
   "metadata": {},
   "outputs": [
    {
     "data": {
      "text/html": [
       "<svg  width=\"165\" height=\"55\"><rect x=\"0\" y=\"0\" width=\"55\" height=\"55\" style=\"fill:#9cce89;stroke-width:2;stroke:rgb(255,255,255)\"/><rect x=\"55\" y=\"0\" width=\"55\" height=\"55\" style=\"fill:#4486a0;stroke-width:2;stroke:rgb(255,255,255)\"/><rect x=\"110\" y=\"0\" width=\"55\" height=\"55\" style=\"fill:#e15246;stroke-width:2;stroke:rgb(255,255,255)\"/></svg>"
      ],
      "text/plain": [
       "[(0.6120315263360248, 0.8081330257593234, 0.5357962322183777),\n",
       " (0.2649160579264386, 0.5270152505446624, 0.6269460463924131),\n",
       " (0.8807358708189157, 0.32277047289504046, 0.2744659746251443)]"
      ]
     },
     "execution_count": 4,
     "metadata": {},
     "output_type": "execute_result"
    }
   ],
   "source": [
    "sns.set_palette(cp3)\n",
    "sns.color_palette()"
   ]
  },
  {
   "cell_type": "code",
   "execution_count": 5,
   "metadata": {},
   "outputs": [
    {
     "name": "stdout",
     "output_type": "stream",
     "text": [
      "CoCoPeLia Data len: 2300\n",
      "cuBLASXt Data len: 2380\n",
      "BLASX Data len: 663\n",
      "BLASXEX Data len: 634\n"
     ]
    }
   ],
   "source": [
    "machine = 'silver1'\n",
    "Mmax = math.sqrt(32*1e9/(3*8))/256 #Tesla-V100\n",
    "MemMax = 32*(1024**3)\n",
    "Rmax_Gflops = 7*2*1024\n",
    "#Mmax = math.sqrt(11*1e9/(3*8))/256 #Tesla-K40\n",
    "#machine = 'testbed-II_Tesla-V100'\n",
    "CoCopeLia_data = pd.read_csv('../../%s_build/%s-install/Library_scheduler/testLogs/PARALiaDgemmRunner.log' %(machine, machine), header=None, \n",
    "    names = ['T','dev_num', 'dev_id_token', 'cpu_ratio','TransA','TransB','alpha','beta','M','N','K','Asloc','Bsloc','Csloc', 'CsOutloc', 'avg_t','min_t','max_t'], \n",
    "    dtype = {'M': np.int64, 'N': np.int64, 'K': np.int64, 'avg_t': np.float64, 'min_t': np.float64, 'max_t': np.float64} )\n",
    "BLASX_data = pd.read_csv('../../%s_build/%s-install/Library_scheduler/testLogs/BLASxDgemmRunner.log' %(machine, machine),  header=None, \n",
    "    names = ['T','dev_num', 'dev_id_token', 'cpu_ratio','TransA','TransB','alpha','beta','M','N','K','Asloc','Bsloc','Csloc', 'CsOutloc', 'avg_t','min_t','max_t'], \n",
    "    dtype = {'M': np.int64, 'N': np.int64, 'K': np.int64, 'avg_t': np.float64, 'min_t': np.float64, 'max_t': np.float64} )\n",
    "BLASXEX_data = pd.read_csv('../../%s_build/%s-install/Library_scheduler/testLogs/BLASxExDgemmRunner.log' %(machine, machine),  header=None, \n",
    "    names = ['T','dev_num', 'dev_id_token', 'cpu_ratio','TransA','TransB','alpha','beta','M','N','K','Asloc','Bsloc','Csloc', 'CsOutloc', 'avg_t','min_t','max_t'], \n",
    "    dtype = {'M': np.int64, 'N': np.int64, 'K': np.int64, 'avg_t': np.float64, 'min_t': np.float64, 'max_t': np.float64} )\n",
    "cuBLASXt_data = pd.read_csv('../../%s_build/%s-install/Library_scheduler/testLogs/cuBLASXtDgemmRunner.log' %(machine, machine), header=None, \n",
    "    names = ['T','dev_num', 'dev_id_token', 'cpu_ratio','TransA','TransB','alpha','beta','M','N','K','Asloc','Bsloc','Csloc', 'CsOutloc', 'avg_t','min_t','max_t'], \n",
    "    dtype = {'M': np.int64, 'N': np.int64, 'K': np.int64, 'avg_t': np.float64, 'min_t': np.float64, 'max_t': np.float64} )\n",
    "print('CoCoPeLia Data len: %d' % len(CoCopeLia_data))\n",
    "print('cuBLASXt Data len: %d' % len(cuBLASXt_data))\n",
    "print('BLASX Data len: %d' % len(BLASX_data))\n",
    "print('BLASXEX Data len: %d' % len(BLASXEX_data))"
   ]
  },
  {
   "cell_type": "code",
   "execution_count": 6,
   "metadata": {},
   "outputs": [],
   "source": [
    "font=8\n",
    "plt.rc('font', family='serif', serif='Times')\n",
    "#plt.rc('text', usetex=True)\n",
    "plt.rc('xtick', labelsize=font)\n",
    "plt.rc('ytick', labelsize=font)\n",
    "plt.rc('axes', labelsize=font)\n",
    "\n",
    "# width as measured in inkscape\n",
    "width = 3.487\n",
    "height = width / 1.618\n",
    "\n",
    "#fig, ax = plt.subplots()\n",
    "#fig.subplots_adjust(left=.15, bottom=.17, right=.99, top=.97)"
   ]
  },
  {
   "cell_type": "code",
   "execution_count": 7,
   "metadata": {},
   "outputs": [
    {
     "name": "stderr",
     "output_type": "stream",
     "text": [
      "findfont: Font family ['serif'] not found. Falling back to DejaVu Sans.\n"
     ]
    }
   ],
   "source": [
    "transList = [\"N\",\"T\"]\n",
    "for TransA in transList:\n",
    "    for TransB in transList:\n",
    "        fig, ax = plt.subplots()\n",
    "        fig.subplots_adjust(left=.16, bottom=.16, right=.99, top=.86)\n",
    "        CoCopeLia_data_plot = CoCopeLia_data[(CoCopeLia_data['TransA'].str.contains(TransA))  & (CoCopeLia_data['TransB'].str.contains(TransB))]\n",
    "        plt.plot(CoCopeLia_data_plot['M']/256, CoCopeLia_data_plot['M']*CoCopeLia_data_plot['N']*(2*CoCopeLia_data_plot['K'] + 2)/(1e9*CoCopeLia_data_plot['min_t']), 'o', markersize= 1,  color=cp4[0], label='CoCopeLia')\n",
    "        BLASX_data_plot = BLASX_data[(BLASX_data['TransA'].str.contains(TransA))  & (BLASX_data['TransB'].str.contains(TransB))]\n",
    "        plt.plot(BLASX_data_plot['M']/256, BLASX_data_plot['M']*BLASX_data_plot['N']*(2*BLASX_data_plot['K'] + 2)/(1e9*BLASX_data_plot['min_t']), '+', markersize= 1, color=cp4[1], label='BLASx')\n",
    "        cuBLASXt_data_plot = cuBLASXt_data[(cuBLASXt_data['TransA'].str.contains(TransA))  & (cuBLASXt_data['TransB'].str.contains(TransB))]\n",
    "        plt.plot(cuBLASXt_data_plot['M']/256, cuBLASXt_data_plot['M']*cuBLASXt_data_plot['N']*(2*cuBLASXt_data_plot['K'] + 2)/(1e9*cuBLASXt_data_plot['min_t']), 'x', markersize= 1, color=cp4[2], label='cuBLASXt')\n",
    "        plt.grid(axis='y')\n",
    "        plt.ylabel('Performance (Gflops/s)')\n",
    "        plt.xlabel('Mem. Foot')\n",
    "        plt.axvline(Mmax,color='k',label='Max 1-GPU Mem', linewidth = 0.5, linestyle = '--')\n",
    "        plt.axhline(Rmax_Gflops,color='red',label='Rmax', linewidth = 0.5, linestyle = '--')\n",
    "        #plt.yscale('log')\n",
    "        #fig.set_size_inches(width, height)\n",
    "        fig.legend(loc = 'upper center',#title=\"Model\",  # Title for the legend\n",
    "            fontsize=font, fancybox = False, ncol=4)\n",
    "        #fig.savefig('Plot-Transpose-Comparisson-%s.pdf' % machine)\n",
    "        fig.savefig('Plot-Offload-Perf-Comparisson-%s-%s_%s.png' % (TransA, TransB, machine))\n",
    "        plt.close()"
   ]
  },
  {
   "cell_type": "code",
   "execution_count": 8,
   "metadata": {},
   "outputs": [],
   "source": [
    "# Plot all, in respect to Problem size\n",
    "fig, ax = plt.subplots()\n",
    "fig.subplots_adjust(left=.16, bottom=.16, right=.99, top=.86)\n",
    "CoCopeLia_data_plot = CoCopeLia_data\n",
    "plt.plot(8*(CoCopeLia_data_plot['M']*(CoCopeLia_data_plot['N']+CoCopeLia_data_plot['K']) + CoCopeLia_data_plot['N']*CoCopeLia_data_plot['K']) , \n",
    "         CoCopeLia_data_plot['M']*CoCopeLia_data_plot['N']*(2*CoCopeLia_data_plot['K'] + 2)/(1e9*CoCopeLia_data_plot['min_t']), 'o', markersize= 1,  color=cp4[0], label='CoCopeLia')\n",
    "cuBLASXt_data_plot = cuBLASXt_data\n",
    "plt.plot(8*(cuBLASXt_data_plot['M']*(cuBLASXt_data_plot['N']+cuBLASXt_data_plot['K']) + cuBLASXt_data_plot['N']*cuBLASXt_data_plot['K']) , \n",
    "         cuBLASXt_data_plot['M']*cuBLASXt_data_plot['N']*(2*cuBLASXt_data_plot['K'] + 2)/(1e9*cuBLASXt_data_plot['min_t']), 'x', markersize= 1, color=cp4[1], label='cuBLASXt')\n",
    "BLASX_data_plot = BLASX_data\n",
    "plt.plot(8*(BLASX_data_plot['M']*(BLASX_data_plot['N']+BLASX_data_plot['K']) + BLASX_data_plot['N']*BLASX_data_plot['K']) , \n",
    "         BLASX_data_plot['M']*BLASX_data_plot['N']*(2*BLASX_data_plot['K'] + 2)/(1e9*BLASX_data_plot['min_t']), 's', markersize= 1,  color=cp4[2], label='BLASx')\n",
    "BLASXEX_data_plot = BLASXEX_data\n",
    "plt.plot(8*(BLASXEX_data_plot['M']*(BLASXEX_data_plot['N']+BLASXEX_data_plot['K']) + BLASXEX_data_plot['N']*BLASXEX_data_plot['K']) , \n",
    "         BLASXEX_data_plot['M']*BLASXEX_data_plot['N']*(2*BLASXEX_data_plot['K'] + 2)/(1e9*BLASXEX_data_plot['min_t']), '^', markersize= 1,  color=cp4[3], label='BLASxEx')\n",
    "plt.grid(axis='y')\n",
    "plt.ylabel('Performance (Gflops/s)')\n",
    "plt.xlabel('Problem Size')\n",
    "plt.axvline(MemMax,color='k',label='Max 1-GPU Mem', linewidth = 0.5, linestyle = '--')\n",
    "plt.axhline(Rmax_Gflops,color='red',label='Rmax', linewidth = 0.5, linestyle = '--')\n",
    "#plt.yscale('log')\n",
    "#fig.set_size_inches(width, height)\n",
    "fig.legend(loc = 'upper center',#title=\"Model\",  # Title for the legend\n",
    "    fontsize=font, fancybox = False, ncol=4)\n",
    "#fig.savefig('Plot-Transpose-Comparisson-%s.pdf' % machine)\n",
    "fig.savefig('Plot_all_problemsize_testbed-%s.png' % (machine))\n",
    "fig.savefig('Plot_all_problemsize_testbed-%s.pdf' % (machine))\n",
    "plt.close()"
   ]
  },
  {
   "cell_type": "code",
   "execution_count": 9,
   "metadata": {},
   "outputs": [],
   "source": [
    "# Plot all, in respect to H2D Transfers\n",
    "\n",
    "def requires_h2d(elem):\n",
    "    if elem == -1:\n",
    "        return 1\n",
    "    else:\n",
    "        return 0\n",
    "fig, ax = plt.subplots()\n",
    "fig.subplots_adjust(left=.16, bottom=.16, right=.99, top=.86)\n",
    "CoCopeLia_data_plot = CoCopeLia_data\n",
    "plt.plot(8*(CoCopeLia_data_plot['M']*(CoCopeLia_data_plot['N']*CoCopeLia_data_plot['Csloc'].apply(lambda x: requires_h2d(x))+CoCopeLia_data_plot['K']*CoCopeLia_data_plot['Asloc'].apply(lambda x: requires_h2d(x))) \n",
    "            + CoCopeLia_data_plot['N']*CoCopeLia_data_plot['K']*CoCopeLia_data_plot['Bsloc'].apply(lambda x: requires_h2d(x))) , \n",
    "         CoCopeLia_data_plot['M']*CoCopeLia_data_plot['N']*(2*CoCopeLia_data_plot['K'] + 2)/(1e9*CoCopeLia_data_plot['min_t']), 'o', markersize= 1,  color=cp4[0], label='CoCopeLia')\n",
    "cuBLASXt_data_plot = cuBLASXt_data\n",
    "plt.plot(8*(cuBLASXt_data_plot['M']*(cuBLASXt_data_plot['N']*cuBLASXt_data_plot['Csloc'].apply(lambda x: requires_h2d(x))+cuBLASXt_data_plot['K']*cuBLASXt_data_plot['Asloc'].apply(lambda x: requires_h2d(x))) \n",
    "            + cuBLASXt_data_plot['N']*cuBLASXt_data_plot['K']*cuBLASXt_data_plot['Bsloc'].apply(lambda x: requires_h2d(x))), \n",
    "         cuBLASXt_data_plot['M']*cuBLASXt_data_plot['N']*(2*cuBLASXt_data_plot['K'] + 2)/(1e9*cuBLASXt_data_plot['min_t']), 'x', markersize= 1, color=cp4[1], label='cuBLASXt')\n",
    "plt.plot(8*(BLASX_data_plot['M']*(BLASX_data_plot['N']*BLASX_data_plot['Csloc'].apply(lambda x: requires_h2d(x))+BLASX_data_plot['K']*BLASX_data_plot['Asloc'].apply(lambda x: requires_h2d(x))) \n",
    "            + BLASX_data_plot['N']*BLASX_data_plot['K']*BLASX_data_plot['Bsloc'].apply(lambda x: requires_h2d(x))), \n",
    "         BLASX_data_plot['M']*BLASX_data_plot['N']*(2*BLASX_data_plot['K'] + 2)/(1e9*BLASX_data_plot['min_t']), 's', markersize= 1, color=cp4[2], label='BLASx')\n",
    "plt.plot(8*(BLASXEX_data_plot['M']*(BLASXEX_data_plot['N']*BLASXEX_data_plot['Csloc'].apply(lambda x: requires_h2d(x))+BLASXEX_data_plot['K']*BLASXEX_data_plot['Asloc'].apply(lambda x: requires_h2d(x))) \n",
    "            + BLASXEX_data_plot['N']*BLASXEX_data_plot['K']*BLASXEX_data_plot['Bsloc'].apply(lambda x: requires_h2d(x))), \n",
    "         BLASXEX_data_plot['M']*BLASXEX_data_plot['N']*(2*BLASXEX_data_plot['K'] + 2)/(1e9*BLASXEX_data_plot['min_t']), '^', markersize= 1, color=cp4[3], label='BLASxEx')\n",
    "#BLASX_data_plot = BLASX_data[(BLASX_data['TransA'].str.contains(TransA))  & (BLASX_data['TransB'].str.contains(TransB))]\n",
    "#plt.plot(BLASX_data_plot['M']/256, BLASX_data_plot['M']*BLASX_data_plot['N']*(2*BLASX_data_plot['K'] + 2)/(1e9*BLASX_data_plot['min_t']), linewidth= 1, color=cp4[1], label='BLASx')\n",
    "\n",
    "plt.grid(axis='y')\n",
    "plt.ylabel('Performance (Gflops/s)')\n",
    "plt.xlabel('H2D Transfer Size')\n",
    "plt.axvline(MemMax,color='k',label='Max 1-GPU Mem', linewidth = 0.5, linestyle = '--')\n",
    "plt.axhline(Rmax_Gflops,color='red',label='Rmax', linewidth = 0.5, linestyle = '--')\n",
    "#plt.yscale('log')\n",
    "#fig.set_size_inches(width, height)\n",
    "fig.legend(loc = 'upper center',#title=\"Model\",  # Title for the legend\n",
    "    fontsize=font, fancybox = False, ncol=4)\n",
    "#fig.savefig('Plot-Transpose-Comparisson-%s.pdf' % machine)\n",
    "fig.savefig('Plot_all_h2dsize_testbed-%s.png' % (machine))\n",
    "fig.savefig('Plot_all_h2dsize_testbed-%s.pdf' % (machine))\n",
    "plt.close()"
   ]
  },
  {
   "cell_type": "code",
   "execution_count": 10,
   "metadata": {},
   "outputs": [
    {
     "name": "stderr",
     "output_type": "stream",
     "text": [
      "findfont: Font family ['serif'] not found. Falling back to DejaVu Sans.\n",
      "findfont: Font family ['serif'] not found. Falling back to DejaVu Sans.\n"
     ]
    }
   ],
   "source": [
    "mixed_data = CoCopeLia_data.merge(cuBLASXt_data, on = ['dev_num', 'dev_id_token', 'cpu_ratio','TransA','TransB','alpha','beta','M','N','K','Asloc','Bsloc','Csloc', 'CsOutloc'])\n",
    "mixed_data['Percentile_perf_imp'] = (mixed_data['min_t_y'] - mixed_data['min_t_x'])/mixed_data['min_t_y']*100\n",
    "mixed_data_full_offload = mixed_data[(mixed_data['Asloc'] == -1) &  (mixed_data['Bsloc'] == -1) & (mixed_data['Csloc'] == -1)]\n",
    "mixed_data_partial_offload = mixed_data[(mixed_data['Asloc'] != -1) | (mixed_data['Bsloc'] != -1) | (mixed_data['Csloc'] != -1)]\n",
    "#print(mixed_data)\n",
    "# Plot Perf Improvement over cuBLASXt\n",
    "fig, ax = plt.subplots()\n",
    "fig.subplots_adjust(left=.16, bottom=.16, right=.99, top=.86)\n",
    "plt.plot(8*(mixed_data_partial_offload['M']*(mixed_data_partial_offload['N']+mixed_data_partial_offload['K']) + mixed_data_partial_offload['N']*mixed_data_partial_offload['K']) ,\n",
    "         mixed_data_partial_offload['Percentile_perf_imp'], '^', markersize= 1,  color=cp4[2], label='Partial offload')\n",
    "plt.plot(8*(mixed_data_full_offload['M']*(mixed_data_full_offload['N']+mixed_data_full_offload['K']) + mixed_data_full_offload['N']*mixed_data_full_offload['K']) , \n",
    "         mixed_data_full_offload['Percentile_perf_imp'], 'x', markersize= 1,  color=cp4[0], label='Full offload')\n",
    "plt.grid(axis='y')\n",
    "plt.ylabel('Performance Improvement(%)')\n",
    "plt.xlabel('Problem Size')\n",
    "\n",
    "ymin, ymax = ax.get_ylim()\n",
    "xmin, xmax = ax.get_xlim()\n",
    "plt.axhline(mixed_data['Percentile_perf_imp'].mean(), linewidth = 0.5, color='b', linestyle = '--')\n",
    "plt.text(xmax*0.85, mixed_data['Percentile_perf_imp'].mean() + 5, 'Mean = %2.1lf' % mixed_data['Percentile_perf_imp'].mean(), fontsize = font -2, color='b')\n",
    "plt.axvline(MemMax,color='c',linewidth = 0.5, linestyle = '--')\n",
    "plt.text(MemMax*1.01, ymin+5, 'Single GPU Mem', fontsize = font -2, color='c')\n",
    "#plt.yscale('log')\n",
    "#fig.set_size_inches(width, height)\n",
    "fig.legend(loc = 'upper center',#title=\"Model\",  # Title for the legend\n",
    "    fontsize=font, fancybox = False, ncol=4)\n",
    "plt.title(\"CoCoPeLia Speedup over cuBLASXt (2 GPUs @ %s)\" % machine) \n",
    "#fig.savefig('Plot-Transpose-Comparisson-%s.pdf' % machine)\n",
    "fig.savefig('Plot_all_speedup_over_cuBLASXt_problemsize_testbed-%s.png' % (machine))\n",
    "fig.savefig('Plot_all_speedup_over_cuBLASXt_problemsize_testbed-%s.pdf' % (machine))\n",
    "plt.close()"
   ]
  },
  {
   "cell_type": "code",
   "execution_count": 11,
   "metadata": {},
   "outputs": [],
   "source": [
    "mixed_data = CoCopeLia_data.merge(BLASX_data, on = ['dev_num', 'dev_id_token', 'cpu_ratio','TransA','TransB','alpha','beta','M','N','K','Asloc','Bsloc','Csloc', 'CsOutloc'])\n",
    "mixed_data['Percentile_perf_imp'] = (mixed_data['min_t_y'] - mixed_data['min_t_x'])/mixed_data['min_t_y']*100\n",
    "#print(mixed_data)\n",
    "# Plot Perf Improvement over BLASX\n",
    "fig, ax = plt.subplots()\n",
    "fig.subplots_adjust(left=.16, bottom=.16, right=.99, top=.86)\n",
    "plt.plot(8*(mixed_data['M']*(mixed_data['N']*mixed_data['Csloc'].apply(lambda x: requires_h2d(x))+mixed_data['K']*mixed_data['Asloc'].apply(lambda x: requires_h2d(x))) \n",
    "            + mixed_data['N']*mixed_data['K']*mixed_data['Bsloc'].apply(lambda x: requires_h2d(x))) , \n",
    "         mixed_data['Percentile_perf_imp'], 'x', markersize= 1,  color=cp4[0], label='CoCopeLia')\n",
    "plt.grid(axis='y')\n",
    "plt.ylabel('Performance Improvement(%)')\n",
    "plt.xlabel('H2D Transfer Size')\n",
    "plt.axhline(mixed_data['Percentile_perf_imp'].mean(), linewidth = 1, color=cp4[0],label='Mean')\n",
    "plt.axvline(MemMax,color='k',label='Max 1-GPU Mem', linewidth = 0.5, linestyle = '--')\n",
    "#plt.yscale('log')\n",
    "#fig.set_size_inches(width, height)\n",
    "fig.legend(loc = 'upper center',#title=\"Model\",  # Title for the legend\n",
    "    fontsize=font, fancybox = False, ncol=4)\n",
    "#fig.savefig('Plot-Transpose-Comparisson-%s.pdf' % machine)\n",
    "fig.savefig('Plot_all_speedup_over_BLASX_h2dsize_testbed-%s.png' % (machine))\n",
    "fig.savefig('Plot_all_speedup_over_BLASX_h2dsize_testbed-%s.pdf' % (machine))\n",
    "plt.close()"
   ]
  },
  {
   "cell_type": "code",
   "execution_count": 12,
   "metadata": {},
   "outputs": [
    {
     "name": "stdout",
     "output_type": "stream",
     "text": [
      "M=4096,N=4096,K=4096,Aloc=-1,Bloc=-1,Cloc=0: PerPer=-48.5 (t_mine = 0.028628, t_blasxex = 0.019274) for T_pred = 1536\n",
      "\n",
      "M=4096,N=4096,K=4096,Aloc=-1,Bloc=-1,Cloc=1: PerPer=-48.3 (t_mine = 0.028348, t_blasxex = 0.019110) for T_pred = 1792\n",
      "\n",
      "M=4096,N=4096,K=4096,Aloc=-1,Bloc=-1,Cloc=1: PerPer=-48.3 (t_mine = 0.028348, t_blasxex = 0.019110) for T_pred = 1792\n",
      "\n",
      "M=4096,N=4096,K=4096,Aloc=0,Bloc=-1,Cloc=0: PerPer=-35.8 (t_mine = 0.026055, t_blasxex = 0.019180) for T_pred = 1536\n",
      "\n",
      "M=12288,N=12288,K=12288,Aloc=0,Bloc=-1,Cloc=1: PerPer=-33.4 (t_mine = 0.394187, t_blasxex = 0.295571) for T_pred = 4096\n",
      "\n",
      "M=2730,N=2730,K=9216,Aloc=-1,Bloc=-1,Cloc=-1: PerPer=-26.3 (t_mine = 0.036138, t_blasxex = 0.028620) for T_pred = 1280\n",
      "\n",
      "M=2048,N=2048,K=16384,Aloc=-1,Bloc=-1,Cloc=-1: PerPer=-79.0 (t_mine = 0.049804, t_blasxex = 0.027822) for T_pred = 1024\n",
      "\n",
      "M=2048,N=2048,K=16384,Aloc=-1,Bloc=-1,Cloc=-1: PerPer=-82.2 (t_mine = 0.050681, t_blasxex = 0.027822) for T_pred = 768\n",
      "\n",
      "M=1638,N=1638,K=25600,Aloc=-1,Bloc=-1,Cloc=-1: PerPer=-97.8 (t_mine = 0.053563, t_blasxex = 0.027076) for T_pred = 768\n",
      "\n",
      "M=2560,N=2560,K=20480,Aloc=-1,Bloc=-1,Cloc=-1: PerPer=-42.4 (t_mine = 0.062199, t_blasxex = 0.043666) for T_pred = 1280\n",
      "\n",
      "M=2048,N=2048,K=32000,Aloc=-1,Bloc=-1,Cloc=-1: PerPer=-81.9 (t_mine = 0.087788, t_blasxex = 0.048253) for T_pred = 1024\n",
      "\n",
      "M=2457,N=2457,K=38400,Aloc=-1,Bloc=-1,Cloc=-1: PerPer=-39.1 (t_mine = 0.103452, t_blasxex = 0.074373) for T_pred = 1024\n",
      "\n",
      "M=10752,N=10752,K=3185,Aloc=-1,Bloc=-1,Cloc=-1: PerPer=-21.0 (t_mine = 0.092837, t_blasxex = 0.076700) for T_pred = 2304\n",
      "\n",
      "M=4096,N=4096,K=4096,Aloc=-1,Bloc=-1,Cloc=0: PerPer=-41.3 (t_mine = 0.027179, t_blasxex = 0.019231) for T_pred = 1536\n",
      "\n",
      "M=4096,N=4096,K=4096,Aloc=-1,Bloc=-1,Cloc=1: PerPer=-50.7 (t_mine = 0.028681, t_blasxex = 0.019030) for T_pred = 1536\n",
      "\n",
      "M=4096,N=4096,K=4096,Aloc=-1,Bloc=-1,Cloc=1: PerPer=-47.3 (t_mine = 0.028030, t_blasxex = 0.019030) for T_pred = 1792\n",
      "\n"
     ]
    }
   ],
   "source": [
    "mixed_data = CoCopeLia_data.merge(BLASXEX_data, on = ['dev_num', 'dev_id_token', 'cpu_ratio','TransA','TransB','alpha','beta','M','N','K','Asloc','Bsloc','Csloc', 'CsOutloc'])\n",
    "mixed_data['Percentile_perf_imp'] = (mixed_data['min_t_y'] - mixed_data['min_t_x'])/mixed_data['min_t_y']*100\n",
    "for index, row in mixed_data.iterrows():\n",
    "    #print(row)\n",
    "    if row['Percentile_perf_imp'] < - 20:\n",
    "        print(\"M=%d,N=%d,K=%d,Aloc=%d,Bloc=%d,Cloc=%d: PerPer=%3.1lf (t_mine = %lf, t_blasxex = %lf) for T_pred = %d\\n\" \n",
    "              %(row['M'],row['N'],row['K'], row['Asloc'],row['Bsloc'],row['Csloc'], row['Percentile_perf_imp'], row['min_t_x'], row['min_t_y'], row['T_x']))\n",
    "#print(mixed_data)\n",
    "# Plot Perf Improvement over BLASXEX\n",
    "fig, ax = plt.subplots()\n",
    "fig.subplots_adjust(left=.16, bottom=.16, right=.99, top=.86)\n",
    "plt.plot(8*(mixed_data['M']*(mixed_data['N']*mixed_data['Csloc'].apply(lambda x: requires_h2d(x))+mixed_data['K']*mixed_data['Asloc'].apply(lambda x: requires_h2d(x))) \n",
    "            + mixed_data['N']*mixed_data['K']*mixed_data['Bsloc'].apply(lambda x: requires_h2d(x))) , \n",
    "         mixed_data['Percentile_perf_imp'], 'x', markersize= 1,  color=cp4[0], label='CoCopeLia')\n",
    "plt.grid(axis='y')\n",
    "plt.ylabel('Performance Improvement(%)')\n",
    "plt.xlabel('H2D Transfer Size')\n",
    "plt.axhline(mixed_data['Percentile_perf_imp'].mean(), linewidth = 1, color=cp4[0],label='Mean')\n",
    "plt.axvline(MemMax,color='k',label='Max 1-GPU Mem', linewidth = 0.5, linestyle = '--')\n",
    "#plt.yscale('log')\n",
    "#fig.set_size_inches(width, height)\n",
    "fig.legend(loc = 'upper center',#title=\"Model\",  # Title for the legend\n",
    "    fontsize=font, fancybox = False, ncol=4)\n",
    "#fig.savefig('Plot-Transpose-Comparisson-%s.pdf' % machine)\n",
    "fig.savefig('Plot_all_speedup_over_BLASXEX_h2dsize_testbed-%s.png' % (machine))\n",
    "fig.savefig('Plot_all_speedup_over_BLASXEX_h2dsize_testbed-%s.pdf' % (machine))\n",
    "plt.close()"
   ]
  },
  {
   "cell_type": "code",
   "execution_count": null,
   "metadata": {},
   "outputs": [],
   "source": []
  }
 ],
 "metadata": {
  "kernelspec": {
   "display_name": "Python 3",
   "language": "python",
   "name": "python3"
  },
  "language_info": {
   "codemirror_mode": {
    "name": "ipython",
    "version": 3
   },
   "file_extension": ".py",
   "mimetype": "text/x-python",
   "name": "python",
   "nbconvert_exporter": "python",
   "pygments_lexer": "ipython3",
   "version": "3.7.4"
  }
 },
 "nbformat": 4,
 "nbformat_minor": 4
}
