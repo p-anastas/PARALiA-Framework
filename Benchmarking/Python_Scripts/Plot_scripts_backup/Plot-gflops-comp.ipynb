{
 "cells": [
  {
   "cell_type": "code",
   "execution_count": 1,
   "metadata": {},
   "outputs": [],
   "source": [
    "import pandas as pd\n",
    "import math\n",
    "import matplotlib as mpl\n",
    "#mpl.use('pdf')\n",
    "import matplotlib.pyplot as plt\n",
    "import numpy as np\n",
    "from collections import OrderedDict\n",
    "import matplotlib\n",
    "import seaborn as sns\n",
    "#Red\n",
    "red1= sns.color_palette(\"Reds_d\",1)\n",
    "red2= sns.color_palette(\"Reds_d\",2)\n",
    "red3= sns.color_palette(\"Reds_d\",3)\n",
    "red4= sns.color_palette(\"Reds_d\",4)\n",
    "red5= sns.color_palette(\"Reds_d\",5)\n",
    "red6= sns.color_palette(\"Reds_d\",6)\n",
    "red7= sns.color_palette(\"Reds_d\",7)\n",
    "red8= sns.color_palette(\"Reds_d\",8)\n",
    "\n",
    "#YellowGreen\n",
    "yg1= sns.color_palette(\"YlGn_d\",1)\n",
    "yg2= sns.color_palette(\"YlGn_d\",2)\n",
    "yg3= sns.color_palette(\"YlGn_d\",3)\n",
    "yg4= sns.color_palette(\"YlGn_d\",4)\n",
    "yg5= sns.color_palette(\"YlGn_d\",5)\n",
    "yg7= sns.color_palette(\"YlGn_d\",7)\n",
    "\n",
    "#GreenBlue\n",
    "gb1= sns.color_palette(\"GnBu_d\",1)\n",
    "gb2= sns.color_palette(\"GnBu_d\",2)\n",
    "gb3= sns.color_palette(\"GnBu_d\",3)\n",
    "gb4= sns.color_palette(\"GnBu_d\",4)\n",
    "gb5= sns.color_palette(\"GnBu_d\",5)\n",
    "gb6= sns.color_palette(\"GnBu_d\",6)\n",
    "gb7= sns.color_palette(\"GnBu_d\",7)\n",
    "gb8= sns.color_palette(\"GnBu_d\",8)\n",
    "\n",
    "cp2 = list(map(lambda x: sns.desaturate(x,0.9),[red7[2],gb7[4]]))\n",
    "cp2v1 = list(map(lambda x: sns.desaturate(x,0.9),[red7[2],yg7[0]]))\n",
    "cp3 = list(map(lambda x: sns.desaturate(x,0.9),[yg7[0],gb7[4],red7[2]]))\n",
    "cp4 = list(map(lambda x: sns.desaturate(x,0.9),[yg7[6],gb7[4],red7[2],yg7[0]]))\n",
    "cp2_2 = list(map(lambda x: sns.desaturate(x,0.9),[red7[0],red7[3],gb7[4],gb7[6]]))\n",
    "cp_total_spectrum = list(map(lambda x: sns.desaturate(x,0.9),gb7 + yg7 + red7))"
   ]
  },
  {
   "cell_type": "code",
   "execution_count": 2,
   "metadata": {},
   "outputs": [
    {
     "data": {
      "text/html": [
       "<svg  width=\"220\" height=\"55\"><rect x=\"0\" y=\"0\" width=\"55\" height=\"55\" style=\"fill:#354c3c;stroke-width:2;stroke:rgb(255,255,255)\"/><rect x=\"55\" y=\"0\" width=\"55\" height=\"55\" style=\"fill:#4486a0;stroke-width:2;stroke:rgb(255,255,255)\"/><rect x=\"110\" y=\"0\" width=\"55\" height=\"55\" style=\"fill:#e15246;stroke-width:2;stroke:rgb(255,255,255)\"/><rect x=\"165\" y=\"0\" width=\"55\" height=\"55\" style=\"fill:#9cce89;stroke-width:2;stroke:rgb(255,255,255)\"/></svg>"
      ],
      "text/plain": [
       "[(0.20872433679354097, 0.2971118800461361, 0.23389619377162635),\n",
       " (0.2649160579264386, 0.5270152505446624, 0.6269460463924131),\n",
       " (0.8807358708189157, 0.32277047289504046, 0.2744659746251443),\n",
       " (0.6120315263360248, 0.8081330257593234, 0.5357962322183777)]"
      ]
     },
     "execution_count": 2,
     "metadata": {},
     "output_type": "execute_result"
    }
   ],
   "source": [
    "sns.set_palette(cp4)\n",
    "sns.color_palette()"
   ]
  },
  {
   "cell_type": "code",
   "execution_count": 3,
   "metadata": {},
   "outputs": [
    {
     "data": {
      "text/html": [
       "<svg  width=\"110\" height=\"55\"><rect x=\"0\" y=\"0\" width=\"55\" height=\"55\" style=\"fill:#e15246;stroke-width:2;stroke:rgb(255,255,255)\"/><rect x=\"55\" y=\"0\" width=\"55\" height=\"55\" style=\"fill:#9cce89;stroke-width:2;stroke:rgb(255,255,255)\"/></svg>"
      ],
      "text/plain": [
       "[(0.8807358708189157, 0.32277047289504046, 0.2744659746251443),\n",
       " (0.6120315263360248, 0.8081330257593234, 0.5357962322183777)]"
      ]
     },
     "execution_count": 3,
     "metadata": {},
     "output_type": "execute_result"
    }
   ],
   "source": [
    "sns.set_palette(cp2v1)\n",
    "sns.color_palette()"
   ]
  },
  {
   "cell_type": "code",
   "execution_count": 4,
   "metadata": {},
   "outputs": [
    {
     "data": {
      "text/html": [
       "<svg  width=\"165\" height=\"55\"><rect x=\"0\" y=\"0\" width=\"55\" height=\"55\" style=\"fill:#9cce89;stroke-width:2;stroke:rgb(255,255,255)\"/><rect x=\"55\" y=\"0\" width=\"55\" height=\"55\" style=\"fill:#4486a0;stroke-width:2;stroke:rgb(255,255,255)\"/><rect x=\"110\" y=\"0\" width=\"55\" height=\"55\" style=\"fill:#e15246;stroke-width:2;stroke:rgb(255,255,255)\"/></svg>"
      ],
      "text/plain": [
       "[(0.6120315263360248, 0.8081330257593234, 0.5357962322183777),\n",
       " (0.2649160579264386, 0.5270152505446624, 0.6269460463924131),\n",
       " (0.8807358708189157, 0.32277047289504046, 0.2744659746251443)]"
      ]
     },
     "execution_count": 4,
     "metadata": {},
     "output_type": "execute_result"
    }
   ],
   "source": [
    "sns.set_palette(cp3)\n",
    "sns.color_palette()"
   ]
  },
  {
   "cell_type": "code",
   "execution_count": 5,
   "metadata": {},
   "outputs": [
    {
     "name": "stdout",
     "output_type": "stream",
     "text": [
      "CoCoPeLia Data len: 760\n",
      "cuBLASXt Data len: 730\n",
      "BLASX Data len: 749\n",
      "BLASXEX Data len: 749\n",
      "XKBLAS Data len: 749\n"
     ]
    }
   ],
   "source": [
    "def CoCoPeLia_log_read(filename):\n",
    "    temp = pd.read_csv(filename, header=None, names = ['T','dev_num', 'dev_id_token', 'cachesize_limit','TransA','TransB',\n",
    "                                                    'alpha','beta','M','N','K','Asloc','Bsloc','Csloc', 'CsOutloc', 'timer'], \n",
    "                                                     dtype = {'M': np.int64, 'N': np.int64, 'K': np.int64, 'timer': np.float64} )\n",
    "    temp.sort_values(by=['M','N','K'])\n",
    "    return temp\n",
    "\n",
    "machine = 'silver1'\n",
    "version=\"0.1\"\n",
    "Mmax = math.sqrt(32*1e9/(3*8))/256 #Tesla-V100\n",
    "MemMax = 32*(1024**3)\n",
    "Rmax_Gflops = 7*2*1024\n",
    "#Mmax = math.sqrt(11*1e9/(3*8))/256 #Tesla-K40\n",
    "#machine = 'testbed-II_Tesla-V100'\n",
    "CoCopeLia_data = CoCoPeLia_log_read('../../%s_build/%s-install/Benchmarking/testLogs/CoCoPeLiaDgemmRunner_%s.log' %(machine, machine, version))\n",
    "cuBLASXt_data = CoCoPeLia_log_read('../../%s_build/%s-install/Benchmarking/testLogs/cuBLASXtDgemmRunner_%s.log' %(machine, machine, version))\n",
    "BLASX_data = CoCoPeLia_log_read('../../%s_build/%s-install/Benchmarking/testLogs/BLASxDgemmRunner_%s.log' %(machine, machine, version))\n",
    "BLASXEX_data = CoCoPeLia_log_read('../../%s_build/%s-install/Benchmarking/testLogs/BLASxExDgemmRunner_%s.log' %(machine, machine, version))\n",
    "XKBLAS_data = CoCoPeLia_log_read('../../%s_build/%s-install/Benchmarking/testLogs/XKBLASDgemmRunner_%s.log' %(machine, machine, version))\n",
    "print('CoCoPeLia Data len: %d' % len(CoCopeLia_data))\n",
    "print('cuBLASXt Data len: %d' % len(cuBLASXt_data))\n",
    "print('BLASX Data len: %d' % len(BLASX_data))\n",
    "print('BLASXEX Data len: %d' % len(BLASXEX_data))\n",
    "print('XKBLAS Data len: %d' % len(XKBLAS_data))"
   ]
  },
  {
   "cell_type": "code",
   "execution_count": 6,
   "metadata": {},
   "outputs": [],
   "source": [
    "def CoCoPeLia_grouby_avg(df):\n",
    "    return df.groupby(['T','dev_num', 'dev_id_token', 'cpu_ratio','TransA','TransB',\n",
    "        'alpha','beta','M','N','K','Asloc','Bsloc','Csloc', 'CsOutloc'], as_index=False, sort=False).mean()\n",
    "#CoCoPeLia_group = CoCoPeLia_grouby_list_avg(CoCopeLia_data)\n",
    "#print(CoCoPeLia_plot_data)\n"
   ]
  },
  {
   "cell_type": "code",
   "execution_count": 7,
   "metadata": {},
   "outputs": [],
   "source": [
    "font=8\n",
    "plt.rc('font', family='serif', serif='Times')\n",
    "#plt.rc('text', usetex=True)\n",
    "plt.rc('xtick', labelsize=font)\n",
    "plt.rc('ytick', labelsize=font)\n",
    "plt.rc('axes', labelsize=font)\n",
    "\n",
    "# width as measured in inkscape\n",
    "width = 3.487\n",
    "height = width / 1.618\n",
    "\n",
    "#fig, ax = plt.subplots()\n",
    "#fig.subplots_adjust(left=.15, bottom=.17, right=.99, top=.97)"
   ]
  },
  {
   "cell_type": "code",
   "execution_count": null,
   "metadata": {},
   "outputs": [],
   "source": []
  },
  {
   "cell_type": "code",
   "execution_count": 11,
   "metadata": {},
   "outputs": [],
   "source": [
    "# Plot all, in respect to Problem size\n",
    "fig, ax = plt.subplots()\n",
    "fig.subplots_adjust(left=.16, bottom=.16, right=.99, top=.86)\n",
    "CoCopeLia_data_plot = CoCoPeLia_grouby_avg(CoCopeLia_data)\n",
    "plt.plot(8*(CoCopeLia_data_plot['M']*(CoCopeLia_data_plot['N']+CoCopeLia_data_plot['K']) + CoCopeLia_data_plot['N']*CoCopeLia_data_plot['K']) , \n",
    "         CoCopeLia_data_plot['M']*CoCopeLia_data_plot['N']*(2*CoCopeLia_data_plot['K'] + 2)/(1e9*CoCopeLia_data_plot['timer']),  color=cp4[0], label='CoCopeLia')\n",
    "cuBLASXt_data_plot = CoCoPeLia_grouby_avg(cuBLASXt_data)\n",
    "plt.plot(8*(cuBLASXt_data_plot['M']*(cuBLASXt_data_plot['N']+cuBLASXt_data_plot['K']) + cuBLASXt_data_plot['N']*cuBLASXt_data_plot['K']) , \n",
    "         cuBLASXt_data_plot['M']*cuBLASXt_data_plot['N']*(2*cuBLASXt_data_plot['K'] + 2)/(1e9*cuBLASXt_data_plot['timer']), color=cp4[1], label='cuBLASXt')\n",
    "BLASX_data_plot = CoCoPeLia_grouby_avg(BLASX_data)\n",
    "plt.plot(8*(BLASX_data_plot['M']*(BLASX_data_plot['N']+BLASX_data_plot['K']) + BLASX_data_plot['N']*BLASX_data_plot['K']) , \n",
    "         BLASX_data_plot['M']*BLASX_data_plot['N']*(2*BLASX_data_plot['K'] + 2)/(1e9*BLASX_data_plot['timer']),  color=cp4[2], label='BLASx')\n",
    "BLASXEX_data_plot = CoCoPeLia_grouby_avg(BLASXEX_data)\n",
    "plt.plot(8*(BLASXEX_data_plot['M']*(BLASXEX_data_plot['N']+BLASXEX_data_plot['K']) + BLASXEX_data_plot['N']*BLASXEX_data_plot['K']) , \n",
    "         BLASXEX_data_plot['M']*BLASXEX_data_plot['N']*(2*BLASXEX_data_plot['K'] + 2)/(1e9*BLASXEX_data_plot['timer']), color=cp4[3], label='BLASxEx')\n",
    "XKBLAS_data_plot = CoCoPeLia_grouby_avg(XKBLAS_data)\n",
    "plt.plot(8*(XKBLAS_data_plot['M']*(XKBLAS_data_plot['N']+XKBLAS_data_plot['K']) + XKBLAS_data_plot['N']*XKBLAS_data_plot['K']) , \n",
    "         XKBLAS_data_plot['M']*XKBLAS_data_plot['N']*(2*XKBLAS_data_plot['K'] + 2)/(1e9*XKBLAS_data_plot['timer']), color='m', label='XKBLAS')\n",
    "plt.grid(axis='y')\n",
    "plt.ylabel('Performance (Gflops/s)')\n",
    "plt.xlabel('Problem Size')\n",
    "\n",
    "ymin, ymax = ax.get_ylim()\n",
    "xmin, xmax = ax.get_xlim()\n",
    "plt.axhline(Rmax_Gflops, linewidth = 0.5, color='b', linestyle = '--')\n",
    "plt.text(xmax - (xmax-xmin)*0.05, Rmax_Gflops*0.95, 'Peak' , fontsize = font -2, color='b')\n",
    "plt.axvline(MemMax,color='c',linewidth = 0.5, linestyle = '--')\n",
    "plt.text(MemMax*1.01, ymin + (ymax-ymin)*0.05, 'Single GPU Mem', fontsize = font -2, color='c')\n",
    "\n",
    "#plt.yscale('log')\n",
    "#fig.set_size_inches(width, height)\n",
    "fig.legend(loc = 'upper center',#title=\"Model\",  # Title for the legend\n",
    "    fontsize=font, fancybox = False, ncol=4)\n",
    "#fig.savefig('Plot-Transpose-Comparisson-%s.pdf' % machine)\n",
    "fig.savefig('Plots/Plot_full_gflops_comp-all_%s.png' % (machine))\n",
    "fig.savefig('Plots/Plot_full_gflops_comp-all_%s.pdf' % (machine))\n",
    "plt.close()"
   ]
  },
  {
   "cell_type": "code",
   "execution_count": 9,
   "metadata": {},
   "outputs": [
    {
     "ename": "KeyError",
     "evalue": "'min_t'",
     "output_type": "error",
     "traceback": [
      "\u001b[0;31m---------------------------------------------------------------------------\u001b[0m",
      "\u001b[0;31mKeyError\u001b[0m                                  Traceback (most recent call last)",
      "\u001b[0;32m~/miniconda3/lib/python3.7/site-packages/pandas/core/indexes/base.py\u001b[0m in \u001b[0;36mget_loc\u001b[0;34m(self, key, method, tolerance)\u001b[0m\n\u001b[1;32m   2894\u001b[0m             \u001b[0;32mtry\u001b[0m\u001b[0;34m:\u001b[0m\u001b[0;34m\u001b[0m\u001b[0;34m\u001b[0m\u001b[0m\n\u001b[0;32m-> 2895\u001b[0;31m                 \u001b[0;32mreturn\u001b[0m \u001b[0mself\u001b[0m\u001b[0;34m.\u001b[0m\u001b[0m_engine\u001b[0m\u001b[0;34m.\u001b[0m\u001b[0mget_loc\u001b[0m\u001b[0;34m(\u001b[0m\u001b[0mcasted_key\u001b[0m\u001b[0;34m)\u001b[0m\u001b[0;34m\u001b[0m\u001b[0;34m\u001b[0m\u001b[0m\n\u001b[0m\u001b[1;32m   2896\u001b[0m             \u001b[0;32mexcept\u001b[0m \u001b[0mKeyError\u001b[0m \u001b[0;32mas\u001b[0m \u001b[0merr\u001b[0m\u001b[0;34m:\u001b[0m\u001b[0;34m\u001b[0m\u001b[0;34m\u001b[0m\u001b[0m\n",
      "\u001b[0;32mpandas/_libs/index.pyx\u001b[0m in \u001b[0;36mpandas._libs.index.IndexEngine.get_loc\u001b[0;34m()\u001b[0m\n",
      "\u001b[0;32mpandas/_libs/index.pyx\u001b[0m in \u001b[0;36mpandas._libs.index.IndexEngine.get_loc\u001b[0;34m()\u001b[0m\n",
      "\u001b[0;32mpandas/_libs/hashtable_class_helper.pxi\u001b[0m in \u001b[0;36mpandas._libs.hashtable.PyObjectHashTable.get_item\u001b[0;34m()\u001b[0m\n",
      "\u001b[0;32mpandas/_libs/hashtable_class_helper.pxi\u001b[0m in \u001b[0;36mpandas._libs.hashtable.PyObjectHashTable.get_item\u001b[0;34m()\u001b[0m\n",
      "\u001b[0;31mKeyError\u001b[0m: 'min_t'",
      "\nThe above exception was the direct cause of the following exception:\n",
      "\u001b[0;31mKeyError\u001b[0m                                  Traceback (most recent call last)",
      "\u001b[0;32m<ipython-input-9-983b22c7f2b1>\u001b[0m in \u001b[0;36m<module>\u001b[0;34m\u001b[0m\n\u001b[1;32m     11\u001b[0m plt.plot(8*(CoCopeLia_data_plot['M']*(CoCopeLia_data_plot['N']*CoCopeLia_data_plot['Csloc'].apply(lambda x: requires_h2d(x))+CoCopeLia_data_plot['K']*CoCopeLia_data_plot['Asloc'].apply(lambda x: requires_h2d(x))) \n\u001b[1;32m     12\u001b[0m             + CoCopeLia_data_plot['N']*CoCopeLia_data_plot['K']*CoCopeLia_data_plot['Bsloc'].apply(lambda x: requires_h2d(x))) , \n\u001b[0;32m---> 13\u001b[0;31m          CoCopeLia_data_plot['M']*CoCopeLia_data_plot['N']*(2*CoCopeLia_data_plot['K'] + 2)/(1e9*CoCopeLia_data_plot['min_t']), 'o', markersize= 1,  color=cp4[0], label='CoCopeLia')\n\u001b[0m\u001b[1;32m     14\u001b[0m \u001b[0mcuBLASXt_data_plot\u001b[0m \u001b[0;34m=\u001b[0m \u001b[0mcuBLASXt_data\u001b[0m\u001b[0;34m\u001b[0m\u001b[0;34m\u001b[0m\u001b[0m\n\u001b[1;32m     15\u001b[0m plt.plot(8*(cuBLASXt_data_plot['M']*(cuBLASXt_data_plot['N']*cuBLASXt_data_plot['Csloc'].apply(lambda x: requires_h2d(x))+cuBLASXt_data_plot['K']*cuBLASXt_data_plot['Asloc'].apply(lambda x: requires_h2d(x))) \n",
      "\u001b[0;32m~/miniconda3/lib/python3.7/site-packages/pandas/core/frame.py\u001b[0m in \u001b[0;36m__getitem__\u001b[0;34m(self, key)\u001b[0m\n\u001b[1;32m   2900\u001b[0m             \u001b[0;32mif\u001b[0m \u001b[0mself\u001b[0m\u001b[0;34m.\u001b[0m\u001b[0mcolumns\u001b[0m\u001b[0;34m.\u001b[0m\u001b[0mnlevels\u001b[0m \u001b[0;34m>\u001b[0m \u001b[0;36m1\u001b[0m\u001b[0;34m:\u001b[0m\u001b[0;34m\u001b[0m\u001b[0;34m\u001b[0m\u001b[0m\n\u001b[1;32m   2901\u001b[0m                 \u001b[0;32mreturn\u001b[0m \u001b[0mself\u001b[0m\u001b[0;34m.\u001b[0m\u001b[0m_getitem_multilevel\u001b[0m\u001b[0;34m(\u001b[0m\u001b[0mkey\u001b[0m\u001b[0;34m)\u001b[0m\u001b[0;34m\u001b[0m\u001b[0;34m\u001b[0m\u001b[0m\n\u001b[0;32m-> 2902\u001b[0;31m             \u001b[0mindexer\u001b[0m \u001b[0;34m=\u001b[0m \u001b[0mself\u001b[0m\u001b[0;34m.\u001b[0m\u001b[0mcolumns\u001b[0m\u001b[0;34m.\u001b[0m\u001b[0mget_loc\u001b[0m\u001b[0;34m(\u001b[0m\u001b[0mkey\u001b[0m\u001b[0;34m)\u001b[0m\u001b[0;34m\u001b[0m\u001b[0;34m\u001b[0m\u001b[0m\n\u001b[0m\u001b[1;32m   2903\u001b[0m             \u001b[0;32mif\u001b[0m \u001b[0mis_integer\u001b[0m\u001b[0;34m(\u001b[0m\u001b[0mindexer\u001b[0m\u001b[0;34m)\u001b[0m\u001b[0;34m:\u001b[0m\u001b[0;34m\u001b[0m\u001b[0;34m\u001b[0m\u001b[0m\n\u001b[1;32m   2904\u001b[0m                 \u001b[0mindexer\u001b[0m \u001b[0;34m=\u001b[0m \u001b[0;34m[\u001b[0m\u001b[0mindexer\u001b[0m\u001b[0;34m]\u001b[0m\u001b[0;34m\u001b[0m\u001b[0;34m\u001b[0m\u001b[0m\n",
      "\u001b[0;32m~/miniconda3/lib/python3.7/site-packages/pandas/core/indexes/base.py\u001b[0m in \u001b[0;36mget_loc\u001b[0;34m(self, key, method, tolerance)\u001b[0m\n\u001b[1;32m   2895\u001b[0m                 \u001b[0;32mreturn\u001b[0m \u001b[0mself\u001b[0m\u001b[0;34m.\u001b[0m\u001b[0m_engine\u001b[0m\u001b[0;34m.\u001b[0m\u001b[0mget_loc\u001b[0m\u001b[0;34m(\u001b[0m\u001b[0mcasted_key\u001b[0m\u001b[0;34m)\u001b[0m\u001b[0;34m\u001b[0m\u001b[0;34m\u001b[0m\u001b[0m\n\u001b[1;32m   2896\u001b[0m             \u001b[0;32mexcept\u001b[0m \u001b[0mKeyError\u001b[0m \u001b[0;32mas\u001b[0m \u001b[0merr\u001b[0m\u001b[0;34m:\u001b[0m\u001b[0;34m\u001b[0m\u001b[0;34m\u001b[0m\u001b[0m\n\u001b[0;32m-> 2897\u001b[0;31m                 \u001b[0;32mraise\u001b[0m \u001b[0mKeyError\u001b[0m\u001b[0;34m(\u001b[0m\u001b[0mkey\u001b[0m\u001b[0;34m)\u001b[0m \u001b[0;32mfrom\u001b[0m \u001b[0merr\u001b[0m\u001b[0;34m\u001b[0m\u001b[0;34m\u001b[0m\u001b[0m\n\u001b[0m\u001b[1;32m   2898\u001b[0m \u001b[0;34m\u001b[0m\u001b[0m\n\u001b[1;32m   2899\u001b[0m         \u001b[0;32mif\u001b[0m \u001b[0mtolerance\u001b[0m \u001b[0;32mis\u001b[0m \u001b[0;32mnot\u001b[0m \u001b[0;32mNone\u001b[0m\u001b[0;34m:\u001b[0m\u001b[0;34m\u001b[0m\u001b[0;34m\u001b[0m\u001b[0m\n",
      "\u001b[0;31mKeyError\u001b[0m: 'min_t'"
     ]
    },
    {
     "data": {
      "image/png": "[encoded data removed]",
      "text/plain": [
       "<Figure size 432x288 with 1 Axes>"
      ]
     },
     "metadata": {
      "needs_background": "light"
     },
     "output_type": "display_data"
    }
   ],
   "source": [
    "# Plot all, in respect to H2D Transfers\n",
    "\n",
    "def requires_h2d(elem):\n",
    "    if elem == -1:\n",
    "        return 1\n",
    "    else:\n",
    "        return 0\n",
    "fig, ax = plt.subplots()\n",
    "fig.subplots_adjust(left=.16, bottom=.16, right=.99, top=.86)\n",
    "CoCopeLia_data_plot = CoCopeLia_data\n",
    "plt.plot(8*(CoCopeLia_data_plot['M']*(CoCopeLia_data_plot['N']*CoCopeLia_data_plot['Csloc'].apply(lambda x: requires_h2d(x))+CoCopeLia_data_plot['K']*CoCopeLia_data_plot['Asloc'].apply(lambda x: requires_h2d(x))) \n",
    "            + CoCopeLia_data_plot['N']*CoCopeLia_data_plot['K']*CoCopeLia_data_plot['Bsloc'].apply(lambda x: requires_h2d(x))) , \n",
    "         CoCopeLia_data_plot['M']*CoCopeLia_data_plot['N']*(2*CoCopeLia_data_plot['K'] + 2)/(1e9*CoCopeLia_data_plot['min_t']), 'o', markersize= 1,  color=cp4[0], label='CoCopeLia')\n",
    "cuBLASXt_data_plot = cuBLASXt_data\n",
    "plt.plot(8*(cuBLASXt_data_plot['M']*(cuBLASXt_data_plot['N']*cuBLASXt_data_plot['Csloc'].apply(lambda x: requires_h2d(x))+cuBLASXt_data_plot['K']*cuBLASXt_data_plot['Asloc'].apply(lambda x: requires_h2d(x))) \n",
    "            + cuBLASXt_data_plot['N']*cuBLASXt_data_plot['K']*cuBLASXt_data_plot['Bsloc'].apply(lambda x: requires_h2d(x))), \n",
    "         cuBLASXt_data_plot['M']*cuBLASXt_data_plot['N']*(2*cuBLASXt_data_plot['K'] + 2)/(1e9*cuBLASXt_data_plot['min_t']), 'x', markersize= 1, color=cp4[1], label='cuBLASXt')\n",
    "plt.plot(8*(BLASX_data_plot['M']*(BLASX_data_plot['N']*BLASX_data_plot['Csloc'].apply(lambda x: requires_h2d(x))+BLASX_data_plot['K']*BLASX_data_plot['Asloc'].apply(lambda x: requires_h2d(x))) \n",
    "            + BLASX_data_plot['N']*BLASX_data_plot['K']*BLASX_data_plot['Bsloc'].apply(lambda x: requires_h2d(x))), \n",
    "         BLASX_data_plot['M']*BLASX_data_plot['N']*(2*BLASX_data_plot['K'] + 2)/(1e9*BLASX_data_plot['min_t']), 's', markersize= 1, color=cp4[2], label='BLASx')\n",
    "plt.plot(8*(BLASXEX_data_plot['M']*(BLASXEX_data_plot['N']*BLASXEX_data_plot['Csloc'].apply(lambda x: requires_h2d(x))+BLASXEX_data_plot['K']*BLASXEX_data_plot['Asloc'].apply(lambda x: requires_h2d(x))) \n",
    "            + BLASXEX_data_plot['N']*BLASXEX_data_plot['K']*BLASXEX_data_plot['Bsloc'].apply(lambda x: requires_h2d(x))), \n",
    "         BLASXEX_data_plot['M']*BLASXEX_data_plot['N']*(2*BLASXEX_data_plot['K'] + 2)/(1e9*BLASXEX_data_plot['min_t']), '^', markersize= 1, color=cp4[3], label='BLASxEx')\n",
    "#BLASX_data_plot = BLASX_data[(BLASX_data['TransA'].str.contains(TransA))  & (BLASX_data['TransB'].str.contains(TransB))]\n",
    "#plt.plot(BLASX_data_plot['M']/256, BLASX_data_plot['M']*BLASX_data_plot['N']*(2*BLASX_data_plot['K'] + 2)/(1e9*BLASX_data_plot['min_t']), linewidth= 1, color=cp4[1], label='BLASx')\n",
    "\n",
    "plt.grid(axis='y')\n",
    "plt.ylabel('Performance (Gflops/s)')\n",
    "plt.xlabel('H2D Transfer Size')\n",
    "\n",
    "ymin, ymax = ax.get_ylim()\n",
    "xmin, xmax = ax.get_xlim()\n",
    "plt.axhline(Rmax_Gflops, linewidth = 0.5, color='b', linestyle = '--')\n",
    "plt.text(xmax - (xmax-xmin)*0.05, Rmax_Gflops*0.95, 'Peak' , fontsize = font -2, color='b')\n",
    "plt.axvline(MemMax,color='c',linewidth = 0.5, linestyle = '--')\n",
    "plt.text(MemMax*1.01, ymin + (ymax-ymin)*0.05, 'Single GPU Mem', fontsize = font -2, color='c')\n",
    "\n",
    "#plt.yscale('log')\n",
    "#fig.set_size_inches(width, height)\n",
    "fig.legend(loc = 'upper center',#title=\"Model\",  # Title for the legend\n",
    "    fontsize=font, fancybox = False, ncol=4)\n",
    "#fig.savefig('Plot-Transpose-Comparisson-%s.pdf' % machine)\n",
    "fig.savefig('Plots/Plot_full_gflops_comp-h2dtransfers_%s.png' % (machine))\n",
    "fig.savefig('Plots/Plot_full_gflops_comp-h2dtransfers_%s.pdf' % (machine))\n",
    "plt.close()"
   ]
  },
  {
   "cell_type": "code",
   "execution_count": null,
   "metadata": {},
   "outputs": [],
   "source": []
  }
 ],
 "metadata": {
  "kernelspec": {
   "display_name": "Python 3",
   "language": "python",
   "name": "python3"
  },
  "language_info": {
   "codemirror_mode": {
    "name": "ipython",
    "version": 3
   },
   "file_extension": ".py",
   "mimetype": "text/x-python",
   "name": "python",
   "nbconvert_exporter": "python",
   "pygments_lexer": "ipython3",
   "version": "3.7.4"
  }
 },
 "nbformat": 4,
 "nbformat_minor": 4
}
