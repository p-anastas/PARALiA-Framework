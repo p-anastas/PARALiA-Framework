{
 "cells": [
  {
   "cell_type": "code",
   "execution_count": 1,
   "metadata": {},
   "outputs": [],
   "source": [
    "import pandas as pd\n",
    "import math\n",
    "import matplotlib as mpl\n",
    "#mpl.use('pdf')\n",
    "import matplotlib.pyplot as plt\n",
    "import numpy as np\n",
    "from collections import OrderedDict\n",
    "import matplotlib\n",
    "import seaborn as sns\n",
    "#Red\n",
    "red1= sns.color_palette(\"Reds_d\",1)\n",
    "red2= sns.color_palette(\"Reds_d\",2)\n",
    "red3= sns.color_palette(\"Reds_d\",3)\n",
    "red4= sns.color_palette(\"Reds_d\",4)\n",
    "red5= sns.color_palette(\"Reds_d\",5)\n",
    "red6= sns.color_palette(\"Reds_d\",6)\n",
    "red7= sns.color_palette(\"Reds_d\",7)\n",
    "red8= sns.color_palette(\"Reds_d\",8)\n",
    "\n",
    "#YellowGreen\n",
    "yg1= sns.color_palette(\"YlGn_d\",1)\n",
    "yg2= sns.color_palette(\"YlGn_d\",2)\n",
    "yg3= sns.color_palette(\"YlGn_d\",3)\n",
    "yg4= sns.color_palette(\"YlGn_d\",4)\n",
    "yg5= sns.color_palette(\"YlGn_d\",5)\n",
    "yg7= sns.color_palette(\"YlGn_d\",7)\n",
    "\n",
    "#GreenBlue\n",
    "gb1= sns.color_palette(\"GnBu_d\",1)\n",
    "gb2= sns.color_palette(\"GnBu_d\",2)\n",
    "gb3= sns.color_palette(\"GnBu_d\",3)\n",
    "gb4= sns.color_palette(\"GnBu_d\",4)\n",
    "gb5= sns.color_palette(\"GnBu_d\",5)\n",
    "gb6= sns.color_palette(\"GnBu_d\",6)\n",
    "gb7= sns.color_palette(\"GnBu_d\",7)\n",
    "gb8= sns.color_palette(\"GnBu_d\",8)\n",
    "\n",
    "cp2 = list(map(lambda x: sns.desaturate(x,0.9),[red7[2],gb7[4]]))\n",
    "cp2v1 = list(map(lambda x: sns.desaturate(x,0.9),[red7[2],yg7[0]]))\n",
    "cp3 = list(map(lambda x: sns.desaturate(x,0.9),[yg7[0],gb7[4],red7[2]]))\n",
    "cp4 = list(map(lambda x: sns.desaturate(x,0.9),[yg7[6],gb7[4],red7[2],yg7[0]]))\n",
    "cp2_2 = list(map(lambda x: sns.desaturate(x,0.9),[red7[0],red7[3],gb7[4],gb7[6]]))\n",
    "cp_total_spectrum = list(map(lambda x: sns.desaturate(x,0.9),gb7 + yg7 + red7))"
   ]
  },
  {
   "cell_type": "code",
   "execution_count": 2,
   "metadata": {},
   "outputs": [
    {
     "data": {
      "text/html": [
       "<svg  width=\"220\" height=\"55\"><rect x=\"0\" y=\"0\" width=\"55\" height=\"55\" style=\"fill:#354c3c;stroke-width:2;stroke:rgb(255,255,255)\"/><rect x=\"55\" y=\"0\" width=\"55\" height=\"55\" style=\"fill:#4486a0;stroke-width:2;stroke:rgb(255,255,255)\"/><rect x=\"110\" y=\"0\" width=\"55\" height=\"55\" style=\"fill:#e15246;stroke-width:2;stroke:rgb(255,255,255)\"/><rect x=\"165\" y=\"0\" width=\"55\" height=\"55\" style=\"fill:#9cce89;stroke-width:2;stroke:rgb(255,255,255)\"/></svg>"
      ],
      "text/plain": [
       "[(0.20872433679354097, 0.2971118800461361, 0.23389619377162635),\n",
       " (0.2649160579264386, 0.5270152505446624, 0.6269460463924131),\n",
       " (0.8807358708189157, 0.32277047289504046, 0.2744659746251443),\n",
       " (0.6120315263360248, 0.8081330257593234, 0.5357962322183777)]"
      ]
     },
     "execution_count": 2,
     "metadata": {},
     "output_type": "execute_result"
    }
   ],
   "source": [
    "sns.set_palette(cp4)\n",
    "sns.color_palette()"
   ]
  },
  {
   "cell_type": "code",
   "execution_count": 3,
   "metadata": {},
   "outputs": [
    {
     "data": {
      "text/html": [
       "<svg  width=\"110\" height=\"55\"><rect x=\"0\" y=\"0\" width=\"55\" height=\"55\" style=\"fill:#e15246;stroke-width:2;stroke:rgb(255,255,255)\"/><rect x=\"55\" y=\"0\" width=\"55\" height=\"55\" style=\"fill:#9cce89;stroke-width:2;stroke:rgb(255,255,255)\"/></svg>"
      ],
      "text/plain": [
       "[(0.8807358708189157, 0.32277047289504046, 0.2744659746251443),\n",
       " (0.6120315263360248, 0.8081330257593234, 0.5357962322183777)]"
      ]
     },
     "execution_count": 3,
     "metadata": {},
     "output_type": "execute_result"
    }
   ],
   "source": [
    "sns.set_palette(cp2v1)\n",
    "sns.color_palette()"
   ]
  },
  {
   "cell_type": "code",
   "execution_count": 4,
   "metadata": {},
   "outputs": [
    {
     "data": {
      "text/html": [
       "<svg  width=\"165\" height=\"55\"><rect x=\"0\" y=\"0\" width=\"55\" height=\"55\" style=\"fill:#9cce89;stroke-width:2;stroke:rgb(255,255,255)\"/><rect x=\"55\" y=\"0\" width=\"55\" height=\"55\" style=\"fill:#4486a0;stroke-width:2;stroke:rgb(255,255,255)\"/><rect x=\"110\" y=\"0\" width=\"55\" height=\"55\" style=\"fill:#e15246;stroke-width:2;stroke:rgb(255,255,255)\"/></svg>"
      ],
      "text/plain": [
       "[(0.6120315263360248, 0.8081330257593234, 0.5357962322183777),\n",
       " (0.2649160579264386, 0.5270152505446624, 0.6269460463924131),\n",
       " (0.8807358708189157, 0.32277047289504046, 0.2744659746251443)]"
      ]
     },
     "execution_count": 4,
     "metadata": {},
     "output_type": "execute_result"
    }
   ],
   "source": [
    "sns.set_palette(cp3)\n",
    "sns.color_palette()"
   ]
  },
  {
   "cell_type": "code",
   "execution_count": 5,
   "metadata": {},
   "outputs": [
    {
     "name": "stdout",
     "output_type": "stream",
     "text": [
      "XKBLAS_data len: 705\n",
      "CoCopeLia_bestest_data len: 694\n",
      "CoCopeLia_data_nonormalize len: 705\n",
      "CoCopeLia_data_normalize_005 len: 705\n",
      "CoCopeLia_data_normalize_005_imbalpen_005 len: 705\n",
      "CoCopeLia_data_normalize_005_imbalpen_005_reducepen_010 len: 705\n"
     ]
    }
   ],
   "source": [
    "def CoCoPeLia_log_read(filename):\n",
    "    temp = pd.read_csv(filename, header=None, names = ['T','dev_num', 'dev_id_token', 'cachesize_limit','TransA','TransB',\n",
    "                                                    'alpha','beta','M','N','K','Asloc','Bsloc','Csloc', 'CsOutloc', 'timer'], \n",
    "                                                     dtype = {'M': np.int64, 'N': np.int64, 'K': np.int64, 'timer': np.float64} )\n",
    "    temp.sort_values(by=['M','N','K'])\n",
    "    return temp\n",
    "\n",
    "devices=2\n",
    "machine = 'silver1'\n",
    "Mmax = math.sqrt(32*1e9/(3*8))/256 #Tesla-V100\n",
    "MemMax = 32*(1024*1024*1024)*devices # Questionable limit\n",
    "Rmax_Gflops = 7*2*1024\n",
    "#Mmax = math.sqrt(11*1e9/(3*8))/256 #Tesla-K40\n",
    "\n",
    "version=\"0.21\"\n",
    "#Mmax = math.sqrt(32*1e9/(3*8))/256 #Tesla-V100\n",
    "#MemMax = 32*(1024**3)\n",
    "#Rmax_Gflops = 7*2*1024\n",
    "#Mmax = math.sqrt(11*1e9/(3*8))/256 #Tesla-K40\n",
    "#machine = 'testbed-II_Tesla-V100'\n",
    "XKBLAS_data = CoCoPeLia_log_read('../../%s_build/%s-install/Benchmarking/testLogs/XKBLASDgemmRunner_%s.log' %(machine, machine, version))\n",
    "\n",
    "version=\"1.1\"\n",
    "implementation=\"MR-BL4\"\n",
    "split=\"SPLIT-CHUNKS-ROBIN-REVERSE\"\n",
    "CoCopeLia_bestest_data = CoCoPeLia_log_read('../../%s_build/%s-install/Benchmarking/testLogs/CoCoPeLiaDgemmRunnerBestest_%s_%s_%s.log' %(machine, machine, split, implementation, version))\n",
    "CoCopeLia_data_nonormalize = CoCoPeLia_log_read('../../%s_build/%s-install/Benchmarking/testLogs/CoCoPeLiaDgemmRunner_%s_%s_%s_Normalize-000_relmode-percentile.log' %(machine, machine, split, implementation, version))\n",
    "CoCopeLia_data_normalize_005 = CoCoPeLia_log_read('../../%s_build/%s-install/Benchmarking/testLogs/CoCoPeLiaDgemmRunner_%s_%s_%s_Normalize-005_relmode-percentile.log' %(machine, machine, split, implementation, version))\n",
    "CoCopeLia_data_normalize_005_imbalpen_005 = CoCoPeLia_log_read('../../%s_build/%s-install/Benchmarking/testLogs/CoCoPeLiaDgemmRunner_%s_%s_%s_Normalize-005_Imbal-005_relmode-percentile.log' %(machine, machine, split, implementation, version))\n",
    "CoCopeLia_data_normalize_005_imbalpen_005_reducepen_010 = CoCoPeLia_log_read('../../%s_build/%s-install/Benchmarking/testLogs/CoCoPeLiaDgemmRunner_%s_%s_%s_Normalize-005_Imbal-005_ReduceP-010_relmode-percentile.log' %(machine, machine, split, implementation, version))\n",
    "\n",
    "print('XKBLAS_data len: %d' % len(XKBLAS_data))\n",
    "print('CoCopeLia_bestest_data len: %d' % len(CoCopeLia_bestest_data))\n",
    "print('CoCopeLia_data_nonormalize len: %d' % len(CoCopeLia_data_nonormalize))\n",
    "print('CoCopeLia_data_normalize_005 len: %d' % len(CoCopeLia_data_normalize_005))\n",
    "print('CoCopeLia_data_normalize_005_imbalpen_005 len: %d' % len(CoCopeLia_data_normalize_005_imbalpen_005))\n",
    "print('CoCopeLia_data_normalize_005_imbalpen_005_reducepen_010 len: %d' % len(CoCopeLia_data_normalize_005_imbalpen_005_reducepen_010))"
   ]
  },
  {
   "cell_type": "code",
   "execution_count": 6,
   "metadata": {},
   "outputs": [],
   "source": [
    "def CoCoPeLia_grouby_avg(df):\n",
    "    return df.groupby(['T','dev_num', 'dev_id_token', 'cachesize_limit','TransA','TransB',\n",
    "        'alpha','beta','M','N','K','Asloc','Bsloc','Csloc', 'CsOutloc'], as_index=False, sort=False).mean()\n",
    "#CoCoPeLia_group = CoCoPeLia_grouby_list_avg(CoCopeLia_data)\n",
    "#print(CoCoPeLia_plot_data)\n",
    "\n",
    "def CoCoPeLia_grouby_min(df):\n",
    "    return df.groupby(['T','dev_num', 'dev_id_token', 'cachesize_limit','TransA','TransB',\n",
    "        'alpha','beta','M','N','K','Asloc','Bsloc','Csloc', 'CsOutloc'], as_index=False, sort=False).min()"
   ]
  },
  {
   "cell_type": "code",
   "execution_count": 7,
   "metadata": {},
   "outputs": [],
   "source": [
    "font=8\n",
    "plt.rc('font', family='serif', serif='Times')\n",
    "#plt.rc('text', usetex=True)\n",
    "plt.rc('xtick', labelsize=font)\n",
    "plt.rc('ytick', labelsize=font)\n",
    "plt.rc('axes', labelsize=font)\n",
    "\n",
    "# width as measured in inkscape\n",
    "width = 3.487\n",
    "height = width / 1.618\n",
    "\n",
    "#fig, ax = plt.subplots()\n",
    "#fig.subplots_adjust(left=.15, bottom=.17, right=.99, top=.97)"
   ]
  },
  {
   "cell_type": "code",
   "execution_count": 8,
   "metadata": {},
   "outputs": [],
   "source": [
    "def dgemm_flops(df):\n",
    "    return df['M']*df['N']*(2*df['K'] + 2)\n",
    "def dgemm_bytes(df):\n",
    "    return 8*(df['M']*(df['N']+df['K']) + df['N']*df['K']) "
   ]
  },
  {
   "cell_type": "code",
   "execution_count": 18,
   "metadata": {},
   "outputs": [],
   "source": [
    "# Plot all, in respect to Problem size\n",
    "fig, ax = plt.subplots()\n",
    "fig.subplots_adjust(left=.16, bottom=.16, right=.99, top=.86)\n",
    "\n",
    "#XKBLAS_data_plot = CoCoPeLia_grouby_avg(XKBLAS_data)\n",
    "#plt.plot(dgemm_bytes(XKBLAS_data_plot), dgemm_flops(XKBLAS_data_plot)/(1e9*XKBLAS_data_plot['timer']), color='m', label='XKBLAS-cache')\n",
    "\n",
    "CoCopeLia_bestest_data_p = CoCoPeLia_grouby_avg(CoCopeLia_bestest_data)\n",
    "plt.plot(dgemm_bytes(CoCopeLia_bestest_data_p), dgemm_flops(CoCopeLia_bestest_data_p)\n",
    "         /(1e9*CoCopeLia_bestest_data_p['timer']), color='m', label='Brute Search Best')\n",
    "\n",
    "CoCopeLia_data_nonormalize_p = CoCoPeLia_grouby_avg(CoCopeLia_data_nonormalize)\n",
    "plt.plot(dgemm_bytes(CoCopeLia_data_nonormalize_p), dgemm_flops(CoCopeLia_data_nonormalize_p)\n",
    "         /(1e9*CoCopeLia_data_nonormalize_p['timer']), color=cp4[0], label='Multi-GPU Baseline')\n",
    "\n",
    "CoCopeLia_data_normalize_005_p = CoCoPeLia_grouby_avg(CoCopeLia_data_normalize_005)\n",
    "plt.plot(dgemm_bytes(CoCopeLia_data_normalize_005_p), dgemm_flops(CoCopeLia_data_normalize_005_p)\n",
    "         /(1e9*CoCopeLia_data_normalize_005_p['timer']), color=cp4[1], label='+5% Min Device Work')\n",
    "\n",
    "CoCopeLia_data_normalize_005_imbalpen_005_p = CoCoPeLia_grouby_avg(CoCopeLia_data_normalize_005_imbalpen_005)\n",
    "plt.plot(dgemm_bytes(CoCopeLia_data_normalize_005_imbalpen_005_p), dgemm_flops(CoCopeLia_data_normalize_005_imbalpen_005_p)\n",
    "         /(1e9*CoCopeLia_data_normalize_005_imbalpen_005_p['timer']), color=cp4[2], label='+5% Imbal penalty')\n",
    "\n",
    "CoCopeLia_data_normalize_005_imbalpen_005_reducepen_010_p = CoCoPeLia_grouby_avg(CoCopeLia_data_normalize_005_imbalpen_005_reducepen_010)\n",
    "plt.plot(dgemm_bytes(CoCopeLia_data_normalize_005_imbalpen_005_reducepen_010_p), dgemm_flops(CoCopeLia_data_normalize_005_imbalpen_005_reducepen_010_p)\n",
    "         /(1e9*CoCopeLia_data_normalize_005_imbalpen_005_reducepen_010_p['timer']), color=cp4[3], label='+10% Reduce penalty')\n",
    "\n",
    "plt.grid(axis='y')\n",
    "plt.ylabel('Performance (Gflops/s)')\n",
    "plt.xlabel('Problem Size')\n",
    "\n",
    "ymin, ymax = ax.get_ylim()\n",
    "xmin, xmax = ax.get_xlim()\n",
    "plt.axhline(Rmax_Gflops, linewidth = 0.5, color='b', linestyle = '--')\n",
    "plt.text(xmax - (xmax-xmin)*0.05, Rmax_Gflops*0.95, 'Peak' , fontsize = font -2, color='b')\n",
    "plt.axvline(MemMax,color='c',linewidth = 0.5, linestyle = '--')\n",
    "plt.text(MemMax*1.01, ymin + (ymax-ymin)*0.05, 'Combined GPU Mem', fontsize = font -2, color='c')\n",
    "\n",
    "plt.xscale('log')\n",
    "#fig.set_size_inches(width, height)\n",
    "fig.legend(loc = 'center right',#title=\"Model\",  # Title for the legend\n",
    "    fontsize=font, fancybox = False, ncol=1)\n",
    "#fig.savefig('Plot-Transpose-Comparisson-%s.pdf' % machine)\n",
    "fig.savefig('Plots/Plot_full_gflops_modeling_%s.png' % (machine), dpi=300)\n",
    "fig.savefig('Plots/Plot_full_gflops_modeling_%s.pdf' % (machine))\n",
    "plt.close()"
   ]
  },
  {
   "cell_type": "code",
   "execution_count": null,
   "metadata": {},
   "outputs": [],
   "source": []
  },
  {
   "cell_type": "code",
   "execution_count": null,
   "metadata": {},
   "outputs": [],
   "source": []
  }
 ],
 "metadata": {
  "kernelspec": {
   "display_name": "Python 3",
   "language": "python",
   "name": "python3"
  },
  "language_info": {
   "codemirror_mode": {
    "name": "ipython",
    "version": 3
   },
   "file_extension": ".py",
   "mimetype": "text/x-python",
   "name": "python",
   "nbconvert_exporter": "python",
   "pygments_lexer": "ipython3",
   "version": "3.7.4"
  }
 },
 "nbformat": 4,
 "nbformat_minor": 4
}
