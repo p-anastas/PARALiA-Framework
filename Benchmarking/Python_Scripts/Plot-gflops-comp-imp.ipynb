{
 "cells": [
  {
   "cell_type": "code",
   "execution_count": 1,
   "metadata": {},
   "outputs": [],
   "source": [
    "import pandas as pd\n",
    "import math\n",
    "import matplotlib as mpl\n",
    "#mpl.use('pdf')\n",
    "import matplotlib.pyplot as plt\n",
    "import numpy as np\n",
    "from collections import OrderedDict\n",
    "import matplotlib\n",
    "import seaborn as sns\n",
    "#Red\n",
    "red1= sns.color_palette(\"Reds_d\",1)\n",
    "red2= sns.color_palette(\"Reds_d\",2)\n",
    "red3= sns.color_palette(\"Reds_d\",3)\n",
    "red4= sns.color_palette(\"Reds_d\",4)\n",
    "red5= sns.color_palette(\"Reds_d\",5)\n",
    "red6= sns.color_palette(\"Reds_d\",6)\n",
    "red7= sns.color_palette(\"Reds_d\",7)\n",
    "red8= sns.color_palette(\"Reds_d\",8)\n",
    "\n",
    "#YellowGreen\n",
    "yg1= sns.color_palette(\"YlGn_d\",1)\n",
    "yg2= sns.color_palette(\"YlGn_d\",2)\n",
    "yg3= sns.color_palette(\"YlGn_d\",3)\n",
    "yg4= sns.color_palette(\"YlGn_d\",4)\n",
    "yg5= sns.color_palette(\"YlGn_d\",5)\n",
    "yg7= sns.color_palette(\"YlGn_d\",7)\n",
    "\n",
    "#GreenBlue\n",
    "gb1= sns.color_palette(\"GnBu_d\",1)\n",
    "gb2= sns.color_palette(\"GnBu_d\",2)\n",
    "gb3= sns.color_palette(\"GnBu_d\",3)\n",
    "gb4= sns.color_palette(\"GnBu_d\",4)\n",
    "gb5= sns.color_palette(\"GnBu_d\",5)\n",
    "gb6= sns.color_palette(\"GnBu_d\",6)\n",
    "gb7= sns.color_palette(\"GnBu_d\",7)\n",
    "gb8= sns.color_palette(\"GnBu_d\",8)\n",
    "\n",
    "cp2 = list(map(lambda x: sns.desaturate(x,0.9),[red7[2],gb7[4]]))\n",
    "cp2v1 = list(map(lambda x: sns.desaturate(x,0.9),[red7[2],yg7[0]]))\n",
    "cp3 = list(map(lambda x: sns.desaturate(x,0.9),[yg7[0],gb7[4],red7[2]]))\n",
    "cp4 = list(map(lambda x: sns.desaturate(x,0.9),[yg7[6],gb7[4],red7[2],yg7[0]]))\n",
    "cp2_2 = list(map(lambda x: sns.desaturate(x,0.9),[red7[0],red7[3],gb7[4],gb7[6]]))\n",
    "cp_total_spectrum = list(map(lambda x: sns.desaturate(x,0.9),gb7 + yg7 + red7))"
   ]
  },
  {
   "cell_type": "code",
   "execution_count": 2,
   "metadata": {},
   "outputs": [
    {
     "data": {
      "text/html": [
       "<svg  width=\"220\" height=\"55\"><rect x=\"0\" y=\"0\" width=\"55\" height=\"55\" style=\"fill:#354c3c;stroke-width:2;stroke:rgb(255,255,255)\"/><rect x=\"55\" y=\"0\" width=\"55\" height=\"55\" style=\"fill:#4486a0;stroke-width:2;stroke:rgb(255,255,255)\"/><rect x=\"110\" y=\"0\" width=\"55\" height=\"55\" style=\"fill:#e15246;stroke-width:2;stroke:rgb(255,255,255)\"/><rect x=\"165\" y=\"0\" width=\"55\" height=\"55\" style=\"fill:#9cce89;stroke-width:2;stroke:rgb(255,255,255)\"/></svg>"
      ],
      "text/plain": [
       "[(0.20872433679354097, 0.2971118800461361, 0.23389619377162635),\n",
       " (0.2649160579264386, 0.5270152505446624, 0.6269460463924131),\n",
       " (0.8807358708189157, 0.32277047289504046, 0.2744659746251443),\n",
       " (0.6120315263360248, 0.8081330257593233, 0.5357962322183778)]"
      ]
     },
     "execution_count": 2,
     "metadata": {},
     "output_type": "execute_result"
    }
   ],
   "source": [
    "sns.set_palette(cp4)\n",
    "sns.color_palette()"
   ]
  },
  {
   "cell_type": "code",
   "execution_count": 3,
   "metadata": {},
   "outputs": [
    {
     "data": {
      "text/html": [
       "<svg  width=\"110\" height=\"55\"><rect x=\"0\" y=\"0\" width=\"55\" height=\"55\" style=\"fill:#e15246;stroke-width:2;stroke:rgb(255,255,255)\"/><rect x=\"55\" y=\"0\" width=\"55\" height=\"55\" style=\"fill:#9cce89;stroke-width:2;stroke:rgb(255,255,255)\"/></svg>"
      ],
      "text/plain": [
       "[(0.8807358708189157, 0.32277047289504046, 0.2744659746251443),\n",
       " (0.6120315263360248, 0.8081330257593233, 0.5357962322183778)]"
      ]
     },
     "execution_count": 3,
     "metadata": {},
     "output_type": "execute_result"
    }
   ],
   "source": [
    "sns.set_palette(cp2v1)\n",
    "sns.color_palette()"
   ]
  },
  {
   "cell_type": "code",
   "execution_count": 4,
   "metadata": {},
   "outputs": [
    {
     "data": {
      "text/html": [
       "<svg  width=\"165\" height=\"55\"><rect x=\"0\" y=\"0\" width=\"55\" height=\"55\" style=\"fill:#9cce89;stroke-width:2;stroke:rgb(255,255,255)\"/><rect x=\"55\" y=\"0\" width=\"55\" height=\"55\" style=\"fill:#4486a0;stroke-width:2;stroke:rgb(255,255,255)\"/><rect x=\"110\" y=\"0\" width=\"55\" height=\"55\" style=\"fill:#e15246;stroke-width:2;stroke:rgb(255,255,255)\"/></svg>"
      ],
      "text/plain": [
       "[(0.6120315263360248, 0.8081330257593233, 0.5357962322183778),\n",
       " (0.2649160579264386, 0.5270152505446624, 0.6269460463924131),\n",
       " (0.8807358708189157, 0.32277047289504046, 0.2744659746251443)]"
      ]
     },
     "execution_count": 4,
     "metadata": {},
     "output_type": "execute_result"
    }
   ],
   "source": [
    "sns.set_palette(cp3)\n",
    "sns.color_palette()"
   ]
  },
  {
   "cell_type": "code",
   "execution_count": 5,
   "metadata": {},
   "outputs": [
    {
     "name": "stdout",
     "output_type": "stream",
     "text": [
      "CoCopeLia_data_rhops len: 6060\n",
      "CoCopeLia_data_rhops_alldev len: 6020\n",
      "\n",
      "CoCopeLia_data_nohops_alldev len: 12500\n",
      "cuBLASXt_best_data len: 12500\n",
      "\n",
      "CoCopeLia_data_rhops_02pen_alldev len: 12500\n",
      "BLASxEx_data len: 12500\n",
      "\n",
      "CoCopeLia_data_allhops_02pen_alldev len: 12500\n",
      "XKBLAS_nocache_data len: 12420\n",
      "CoCopeLia_data_allhops_02pen_preddev len: 12500\n",
      "\n",
      "CoCopeLia_data_allhops_02pen_ESPA_alldev len: 0\n",
      "\n"
     ]
    }
   ],
   "source": [
    "def CoCoPeLia_log_read(filename):\n",
    "    temp = pd.read_csv(filename, header=None, names = ['T','dev_num', 'dev_id_token', 'cachesize_limit','TransA','TransB',\n",
    "                                                    'alpha','beta','M','N','K','Asloc','Bsloc','Csloc', 'CsOutloc', 'timer'], \n",
    "                                                     dtype = {'M': np.int64, 'N': np.int64, 'K': np.int64, 'timer': np.float64} )\n",
    "    temp.sort_values(by=['M','N','K'])\n",
    "    return temp\n",
    "\n",
    "def PARALia_log_read(filename):\n",
    "    temp = pd.read_csv(filename, header=None, names = ['T','dev_num', 'dev_id_token', 'cachesize_limit','TransA','TransB',\n",
    "                                                    'alpha','beta','M','N','K','Asloc','Bsloc','Csloc', 'CsOutloc', 'timer', 'pred_t', 'pred_J'], \n",
    "                                                     dtype = {'M': np.int64, 'N': np.int64, 'K': np.int64, 'timer': np.float64, 'pred_t': np.float64, 'pred_J': np.float64} )\n",
    "    temp.sort_values(by=['M','N','K'])\n",
    "    return temp\n",
    "\n",
    "all_dev = 8\n",
    "def keep_dev_8(dataframe):\n",
    "    return dataframe[dataframe['dev_num'] == all_dev]\n",
    "\n",
    "    \n",
    "devices=8\n",
    "machine = 'vulcan'\n",
    "Mmax = math.sqrt(32*1e9/(3*8))/256 #Tesla-V100\n",
    "MemMax = 4*(1024*1024*1024)*devices # Questionable limit\n",
    "Rmax_Gflops = 7*1024*devices\n",
    "#Mmax = math.sqrt(11*1e9/(3*8))/256 #Tesla-K40\n",
    "#machine = 'testbed-II_Tesla-V100'\n",
    "\n",
    "version=\"1.4\"\n",
    "split=\"ST-2D-BLOCK-CYCLIC\"\n",
    "sr_over=\"\"\n",
    "implementation=\"_UN-PB-L4\"\n",
    "pw_optimize=\"_PW-PRED-PERF\"\n",
    "\n",
    "impl_hops=\"_ALL-HOPS-1-0.15\"\n",
    "homedir = \"~/mount_vulcan\"\n",
    "benchdir= homedir + \"/PhD_stuff/CoCoPeLia-Framework-bench\"\n",
    "#XKBLAS_nocache_data = CoCoPeLia_log_read('%s/%s-build/%s-install/Benchmarking/testLogs/XKBLASDgemmRunner_%s_%s%s%s%s_%s.log' %(benchdir, machine, machine, split, sr_over, implementation, impl_hops, pw_optimize, version))\n",
    "#print('XKBLAS_nocache_data len: %d' % len(XKBLAS_nocache_data))\n",
    "#BLASx_data = CoCoPeLia_log_read('%s/%s-build/%s-install/Benchmarking/testLogs/BLASxDgemmRunner_%s_%s%s%s%s_%s.log' %(benchdir, machine, machine, split, sr_over, implementation, impl_hops, pw_optimize, version))\n",
    "#print('BLASx_data len: %d' % len(BLASx_data))\n",
    "#BLASxEx_data = CoCoPeLia_log_read('%s/%s-build/%s-install/Benchmarking/testLogs/BLASxExDgemmRunner_%s_%s%s%s%s_%s.log' %(benchdir, machine, machine, split, sr_over, implementation, impl_hops, pw_optimize, version))\n",
    "#print('BLASxEx_data len: %d' % len(BLASxEx_data))\n",
    "#cuBLASXt_best_data = CoCoPeLia_log_read('%s/%s-build/%s-install/Benchmarking/testLogs/cuBLASXtDgemmRunner_%s_%s%s%s%s_%s.log' %(benchdir, machine, machine, split, sr_over, implementation, impl_hops, pw_optimize, version))\n",
    "#print('cuBLASXt_best_data len: %d' % len(cuBLASXt_best_data))\n",
    "\n",
    "sr_over=\"\"\n",
    "impl_hops=\"_RONLY-HOPS-1-0.15\"\n",
    "benchdir= homedir + \"/PhD_stuff/CoCoPeLia-Framework-bench-Rhops-old\"\n",
    "CoCopeLia_data_rhops = CoCoPeLia_log_read('%s/%s-build/%s-install/Benchmarking/testLogs/CoCoPeLiaDgemmRunner_%s_%s%s%s%s_%s.log' \n",
    "                                          %(benchdir, machine, machine, split, sr_over, implementation, impl_hops, pw_optimize, version))\n",
    "print('CoCopeLia_data_rhops len: %d' % len(CoCopeLia_data_rhops))\n",
    "CoCopeLia_data_rhops_alldev = keep_dev_8(CoCoPeLia_log_read('%s/%s-build/%s-install/Benchmarking/testLogs/CoCoPeLiaDgemmRunner_predefined_vals_%s_%s%s%s%s_%s.log' \n",
    "                                                 %(benchdir, machine, machine, split, sr_over, implementation, impl_hops, pw_optimize, version)))\n",
    "print('CoCopeLia_data_rhops_alldev len: %d\\n' % len(CoCopeLia_data_rhops_alldev))\n",
    "\n",
    "impl_hops=\"\"\n",
    "benchdir= homedir + \"/PhD_stuff/CoCoPeLia-Framework-bench-Nohops\"\n",
    "CoCopeLia_data_nohops_alldev = (CoCoPeLia_log_read('%s/%s-build/%s-install/Benchmarking/testLogs/CoCoPeLiaDgemmRunner_predefined_vals_%s_%s%s%s%s_%s.log' \n",
    "                                                                  %(benchdir, machine, machine, split, sr_over, implementation, impl_hops, pw_optimize, version)))\n",
    "print('CoCopeLia_data_nohops_alldev len: %d' % len(CoCopeLia_data_nohops_alldev))\n",
    "cuBLASXt_best_data = CoCoPeLia_log_read('%s/%s-build/%s-install/Benchmarking/testLogs/cuBLASXtDgemmRunner_%s_%s%s%s%s_%s.log' %(benchdir, machine, machine, split, sr_over, implementation, impl_hops, pw_optimize, version))\n",
    "print('cuBLASXt_best_data len: %d\\n' % len(cuBLASXt_best_data))\n",
    "\n",
    "impl_hops=\"_RONLY-HOPS-1-0.20\"\n",
    "benchdir= homedir + \"/PhD_stuff/CoCoPeLia-Framework-bench-Rhops-0.2pen\"\n",
    "CoCopeLia_data_rhops_02pen_alldev = (CoCoPeLia_log_read('%s/%s-build/%s-install/Benchmarking/testLogs/CoCoPeLiaDgemmRunner_predefined_vals_%s_%s%s%s%s_%s.log' \n",
    "                                                                  %(benchdir, machine, machine, split, sr_over, implementation, impl_hops, pw_optimize, version)))\n",
    "print('CoCopeLia_data_rhops_02pen_alldev len: %d' % len(CoCopeLia_data_rhops_02pen_alldev))\n",
    "BLASxEx_data = CoCoPeLia_log_read('%s/%s-build/%s-install/Benchmarking/testLogs/BLASxExDgemmRunner_%s_%s%s%s%s_%s.log' %(benchdir, machine, machine, split, sr_over, implementation, impl_hops, pw_optimize, version))\n",
    "print('BLASxEx_data len: %d\\n' % len(BLASxEx_data))\n",
    "\n",
    "impl_hops=\"_ALL-HOPS-1-0.20\"\n",
    "benchdir= homedir + \"/PhD_stuff/CoCoPeLia-Framework-bench-Allhops-0.2pen\"\n",
    "CoCopeLia_data_allhops_02pen_alldev = (CoCoPeLia_log_read('%s/%s-build/%s-install/Benchmarking/testLogs/CoCoPeLiaDgemmRunner_predefined_vals_%s_%s%s%s%s_%s.log' \n",
    "                                                                  %(benchdir, machine, machine, split, sr_over, implementation, impl_hops, pw_optimize, version)))\n",
    "print('CoCopeLia_data_allhops_02pen_alldev len: %d' % len(CoCopeLia_data_allhops_02pen_alldev))\n",
    "XKBLAS_nocache_data = CoCoPeLia_log_read('%s/%s-build/%s-install/Benchmarking/testLogs/XKBLASDgemmRunner_%s_%s%s%s%s_%s.log' %(benchdir, machine, machine, split, sr_over, implementation, impl_hops, pw_optimize, version))\n",
    "print('XKBLAS_nocache_data len: %d' % len(XKBLAS_nocache_data))\n",
    "CoCopeLia_data_allhops_02pen_preddev = CoCoPeLia_log_read('%s/%s-build/%s-install/Benchmarking/testLogs/CoCoPeLiaDgemmRunner_%s_%s%s%s%s_%s.log' \n",
    "                                                                  %(benchdir, machine, machine, split, sr_over, implementation, impl_hops, pw_optimize, version))\n",
    "print('CoCopeLia_data_allhops_02pen_preddev len: %d\\n' % len(CoCopeLia_data_allhops_02pen_preddev))\n",
    "\n",
    "version=\"1.5\"\n",
    "benchdir= homedir + \"/PhD_stuff/CoCoPeLia-Framework\"\n",
    "CoCopeLia_data_allhops_02pen_ESPA_alldev = keep_dev_8(PARALia_log_read('%s/%s-build/%s-install/Benchmarking/testLogs/CoCoPeLiaDgemmRunner_predefined_vals_%s_%s%s%s%s_%s.log' \n",
    "                                                                  %(benchdir, machine, machine, split, sr_over, implementation, impl_hops, pw_optimize, version)))\n",
    "print('CoCopeLia_data_allhops_02pen_ESPA_alldev len: %d\\n' % len(CoCopeLia_data_allhops_02pen_ESPA_alldev))"
   ]
  },
  {
   "cell_type": "code",
   "execution_count": 6,
   "metadata": {},
   "outputs": [],
   "source": [
    "def CoCoPeLia_grouby_avg(df):\n",
    "    result = df.groupby(['T','dev_num', 'dev_id_token', 'cachesize_limit','TransA','TransB',\n",
    "        'alpha','beta','M','N','K','Asloc','Bsloc','Csloc', 'CsOutloc'], as_index=False, sort=True).mean()\n",
    "    #print(result)\n",
    "    return result\n",
    "#CoCoPeLia_group = CoCoPeLia_grouby_list_avg(CoCopeLia_data)\n",
    "#print(CoCoPeLia_plot_data)\n",
    "\n",
    "def CoCoPeLia_modified_grouby_avg(df):\n",
    "    result = df.groupby(['T','dev_num', 'dev_id_token', 'cachesize_limit','TransA','TransB',\n",
    "        'alpha','beta','M','N','K','Asloc','Bsloc','Csloc', 'CsOutloc', 'flops', 'bytes', 'loc_str', 'imp'], as_index=False, sort=True).mean()\n",
    "    #print(result)\n",
    "    return result\n",
    "#CoCoPeLia_group = CoCoPeLia_grouby_list_avg(CoCopeLia_data)\n",
    "#print(CoCoPeLia_plot_data)\n",
    "\n",
    "def CoCoPeLia_grouby_min(df):\n",
    "    return df.groupby(['T','dev_num', 'dev_id_token', 'cachesize_limit','TransA','TransB',\n",
    "        'alpha','beta','M','N','K','Asloc','Bsloc','Csloc', 'CsOutloc'], as_index=False, sort=True).min()\n",
    "\n",
    "def CoCoPeLia_select_subset(df, subset_str):\n",
    "    if subset_str == 'square': \n",
    "        return df.loc[(df['M'] == df['N']) & (df['M'] == df['K'])]\n",
    "    elif subset_str == 'fat-thin':\n",
    "        return df.loc[(df['M'] == df['N']) & (df['M'] > df['K'])]\n",
    "    elif subset_str == 'thin-fat':        \n",
    "        return df.loc[(df['M'] == df['N']) & (df['M'] < df['K'])]\n",
    "    \n",
    "def CoCoPeLia_select_indata_locs(df, loc1, loc2, loc3):\n",
    "    return df.loc[(df['Asloc'] == loc1) & (df['Bsloc'] == loc2) & (df['Csloc'] == loc3) & (df['M'] == df['N']) & (df['M'] < df['K'])]"
   ]
  },
  {
   "cell_type": "code",
   "execution_count": 7,
   "metadata": {},
   "outputs": [],
   "source": [
    "font=8\n",
    "#plt.rc('font', family='serif', serif='Times') #annoying warning filling my view, so disabled until needed\n",
    "#plt.rc('text', usetex=True)\n",
    "plt.rc('xtick', labelsize=font)\n",
    "plt.rc('ytick', labelsize=font)\n",
    "plt.rc('axes', labelsize=font)\n",
    "\n",
    "# width as measured in inkscape\n",
    "width = 3.487\n",
    "height = width / 1.618\n",
    "\n",
    "#fig, ax = plt.subplots()\n",
    "#fig.subplots_adjust(left=.15, bottom=.17, right=.99, top=.97)"
   ]
  },
  {
   "cell_type": "code",
   "execution_count": 8,
   "metadata": {},
   "outputs": [],
   "source": [
    "def dgemm_flops(df):\n",
    "    df['flops'] = df['M']*df['N']*(2*df['K'] + 2)\n",
    "    return df['M']*df['N']*(2*df['K'] + 2)\n",
    "def dgemm_bytes(df):\n",
    "    df['bytes'] = 8*(df['M']*(df['N']+df['K']) + df['N']*df['K']) \n",
    "    return 8*(df['M']*(df['N']+df['K']) + df['N']*df['K']) "
   ]
  },
  {
   "cell_type": "code",
   "execution_count": 9,
   "metadata": {},
   "outputs": [
    {
     "name": "stdout",
     "output_type": "stream",
     "text": [
      "cuBLASXt_best_data mean of 710 cases -> perf = 3847.871004 Gflops/s\n",
      "BLASxEx_data mean of 710 cases -> perf = 10224.578950 Gflops/s\n",
      "XKBLAS_nocache_data mean of 702 cases -> perf = 8371.323652 Gflops/s\n",
      "CoCopeLia_data_rhops_alldev mean of 281 cases -> perf = 15640.159582 Gflops/s\n",
      "CoCopeLia_data_nohops_alldev mean of 710 cases -> perf = 11404.583845 Gflops/s\n",
      "CoCopeLia_data_rhops_02pen_alldev mean of 710 cases -> perf = 15660.421021 Gflops/s\n",
      "CoCopeLia_data_allhops_02pen_alldev mean of 710 cases -> perf = 18400.439119 Gflops/s\n",
      "CoCopeLia_data_allhops_02pen_ESPA_alldev mean of 0 cases -> perf = nan Gflops/s\n",
      "CoCopeLia_data_allhops_02pen_preddev mean of 710 cases -> perf = 17743.833330 Gflops/s\n"
     ]
    }
   ],
   "source": [
    "    dgemm_bytes(cuBLASXt_best_data)\n",
    "    dgemm_flops(cuBLASXt_best_data)\n",
    "    cuBLASXt_best_data['perf'] = cuBLASXt_best_data['flops']/(1e9*cuBLASXt_best_data['timer'])\n",
    "    cuBLASXt_best_data['loc_str'] = 100*(cuBLASXt_best_data['Asloc']+1) + 10*(cuBLASXt_best_data['Bsloc']+1) + cuBLASXt_best_data['Csloc']+1\n",
    "    cuBLASXt_best_data['imp'] = '0.cuBLASXt'\n",
    "    print(\"cuBLASXt_best_data mean of %d cases -> perf = %lf Gflops/s\" % (len(CoCoPeLia_modified_grouby_avg(cuBLASXt_best_data)), cuBLASXt_best_data['perf'].mean()))\n",
    "    \n",
    "    dgemm_bytes(BLASxEx_data)\n",
    "    dgemm_flops(BLASxEx_data)\n",
    "    BLASxEx_data['perf'] = BLASxEx_data['flops']/(1e9*BLASxEx_data['timer'])\n",
    "    BLASxEx_data['loc_str'] = 100*(BLASxEx_data['Asloc']+1) + 10*(BLASxEx_data['Bsloc']+1) + BLASxEx_data['Csloc']+1\n",
    "    BLASxEx_data['imp'] = '1.BLASX'\n",
    "    print(\"BLASxEx_data mean of %d cases -> perf = %lf Gflops/s\" % (len(CoCoPeLia_modified_grouby_avg(BLASxEx_data)), BLASxEx_data['perf'].mean()))\n",
    "\n",
    "    \n",
    "    dgemm_bytes(XKBLAS_nocache_data)\n",
    "    dgemm_flops(XKBLAS_nocache_data)\n",
    "    XKBLAS_nocache_data['perf'] = XKBLAS_nocache_data['flops']/(1e9*XKBLAS_nocache_data['timer'])\n",
    "    XKBLAS_nocache_data['loc_str'] = 100*(XKBLAS_nocache_data['Asloc']+1) + 10*(XKBLAS_nocache_data['Bsloc']+1) + XKBLAS_nocache_data['Csloc']+1\n",
    "    XKBLAS_nocache_data['imp'] = '2.XKBLAS'\n",
    "    print(\"XKBLAS_nocache_data mean of %d cases -> perf = %lf Gflops/s\" % (len(CoCoPeLia_modified_grouby_avg(XKBLAS_nocache_data)), XKBLAS_nocache_data['perf'].mean()))\n",
    "\n",
    "    dgemm_bytes(CoCopeLia_data_rhops_alldev)\n",
    "    dgemm_flops(CoCopeLia_data_rhops_alldev)\n",
    "    CoCopeLia_data_rhops_alldev['perf'] = CoCopeLia_data_rhops_alldev['flops']/(1e9*CoCopeLia_data_rhops_alldev['timer'])\n",
    "    CoCopeLia_data_rhops_alldev['loc_str'] = 100*(CoCopeLia_data_rhops_alldev['Asloc']+1) + 10*(CoCopeLia_data_rhops_alldev['Bsloc']+1) + CoCopeLia_data_rhops_alldev['Csloc']+1\n",
    "    CoCopeLia_data_rhops_alldev['imp'] = 'Rhops-0.15-old'\n",
    "    print(\"CoCopeLia_data_rhops_alldev mean of %d cases -> perf = %lf Gflops/s\" % (len(CoCoPeLia_modified_grouby_avg(CoCopeLia_data_rhops_alldev)), CoCopeLia_data_rhops_alldev['perf'].mean()))\n",
    "\n",
    "    dgemm_bytes(CoCopeLia_data_nohops_alldev)\n",
    "    dgemm_flops(CoCopeLia_data_nohops_alldev)\n",
    "    CoCopeLia_data_nohops_alldev['perf'] = CoCopeLia_data_nohops_alldev['flops']/(1e9*CoCopeLia_data_nohops_alldev['timer'])\n",
    "    CoCopeLia_data_nohops_alldev['loc_str'] = 100*(CoCopeLia_data_nohops_alldev['Asloc']+1) + 10*(CoCopeLia_data_nohops_alldev['Bsloc']+1) + CoCopeLia_data_nohops_alldev['Csloc']+1\n",
    "    CoCopeLia_data_nohops_alldev['imp'] = '3.Nohops'\n",
    "    print(\"CoCopeLia_data_nohops_alldev mean of %d cases -> perf = %lf Gflops/s\" % (len(CoCoPeLia_modified_grouby_avg(CoCopeLia_data_nohops_alldev)), CoCopeLia_data_nohops_alldev['perf'].mean()))\n",
    "\n",
    "    \n",
    "    dgemm_bytes(CoCopeLia_data_rhops_02pen_alldev)\n",
    "    dgemm_flops(CoCopeLia_data_rhops_02pen_alldev)\n",
    "    CoCopeLia_data_rhops_02pen_alldev['perf'] = CoCopeLia_data_rhops_02pen_alldev['flops']/(1e9*CoCopeLia_data_rhops_02pen_alldev['timer'])\n",
    "    CoCopeLia_data_rhops_02pen_alldev['loc_str'] = 100*(CoCopeLia_data_rhops_02pen_alldev['Asloc']+1) + 10*(CoCopeLia_data_rhops_02pen_alldev['Bsloc']+1) + CoCopeLia_data_rhops_02pen_alldev['Csloc']+1\n",
    "    CoCopeLia_data_rhops_02pen_alldev['imp'] = '4.Rhops-0.2'\n",
    "    print(\"CoCopeLia_data_rhops_02pen_alldev mean of %d cases -> perf = %lf Gflops/s\" % (len(CoCoPeLia_modified_grouby_avg(CoCopeLia_data_rhops_02pen_alldev)), CoCopeLia_data_rhops_02pen_alldev['perf'].mean()))\n",
    "\n",
    "    dgemm_bytes(CoCopeLia_data_allhops_02pen_alldev)\n",
    "    dgemm_flops(CoCopeLia_data_allhops_02pen_alldev)\n",
    "    CoCopeLia_data_allhops_02pen_alldev['perf'] = CoCopeLia_data_allhops_02pen_alldev['flops']/(1e9*CoCopeLia_data_allhops_02pen_alldev['timer'])\n",
    "    CoCopeLia_data_allhops_02pen_alldev['loc_str'] = 100*(CoCopeLia_data_allhops_02pen_alldev['Asloc']+1) + 10*(CoCopeLia_data_allhops_02pen_alldev['Bsloc']+1) + CoCopeLia_data_allhops_02pen_alldev['Csloc']+1\n",
    "    CoCopeLia_data_allhops_02pen_alldev['imp'] = '5.Allhops-0.2'\n",
    "    print(\"CoCopeLia_data_allhops_02pen_alldev mean of %d cases -> perf = %lf Gflops/s\" % (len(CoCoPeLia_modified_grouby_avg(CoCopeLia_data_allhops_02pen_alldev)), CoCopeLia_data_allhops_02pen_alldev['perf'].mean()))\n",
    "\n",
    "    dgemm_bytes(CoCopeLia_data_allhops_02pen_ESPA_alldev)\n",
    "    dgemm_flops(CoCopeLia_data_allhops_02pen_ESPA_alldev)\n",
    "    CoCopeLia_data_allhops_02pen_ESPA_alldev['perf'] = CoCopeLia_data_allhops_02pen_ESPA_alldev['flops']/(1e9*CoCopeLia_data_allhops_02pen_ESPA_alldev['timer'])\n",
    "    CoCopeLia_data_allhops_02pen_ESPA_alldev['loc_str'] = 100*(CoCopeLia_data_allhops_02pen_ESPA_alldev['Asloc']+1) + 10*(CoCopeLia_data_allhops_02pen_ESPA_alldev['Bsloc']+1) + CoCopeLia_data_allhops_02pen_ESPA_alldev['Csloc']+1\n",
    "    CoCopeLia_data_allhops_02pen_ESPA_alldev['imp'] = '5.1.Allhops-0.2-ESPA'\n",
    "    print(\"CoCopeLia_data_allhops_02pen_ESPA_alldev mean of %d cases -> perf = %lf Gflops/s\" % (len(CoCoPeLia_modified_grouby_avg(CoCopeLia_data_allhops_02pen_ESPA_alldev)), CoCopeLia_data_allhops_02pen_ESPA_alldev['perf'].mean()))\n",
    "    \n",
    "    #dgemm_bytes(CoCopeLia_data_allhops_02pen_select_sk_low_alldev)\n",
    "    #dgemm_flops(CoCopeLia_data_allhops_02pen_select_sk_low_alldev)\n",
    "    #CoCopeLia_data_allhops_02pen_select_sk_low_alldev['perf'] = CoCopeLia_data_allhops_02pen_select_sk_low_alldev['flops']/(1e9*CoCopeLia_data_allhops_02pen_select_sk_low_alldev['timer'])\n",
    "    #print(\"CoCopeLia_data_allhops_02pen_select_sk_low_alldev mean perf = %lf Gflops/s\" % CoCopeLia_data_allhops_02pen_select_sk_low_alldev['perf'].mean())\n",
    "    #CoCopeLia_data_allhops_02pen_select_sk_low_alldev['loc_str'] = 100*(CoCopeLia_data_allhops_02pen_select_sk_low_alldev['Asloc']+1) + 10*(CoCopeLia_data_allhops_02pen_select_sk_low_alldev['Bsloc']+1) + CoCopeLia_data_allhops_02pen_select_sk_low_alldev['Csloc']+1\n",
    "    #CoCopeLia_data_allhops_02pen_select_sk_low_alldev['imp'] = '6.Allhops-0.2 - select_sk_low'\n",
    "    \n",
    "    #dgemm_bytes(CoCopeLia_data_allhops_02pen_select_sk_high_alldev)\n",
    "    #dgemm_flops(CoCopeLia_data_allhops_02pen_select_sk_high_alldev)\n",
    "    #CoCopeLia_data_allhops_02pen_select_sk_high_alldev['perf'] = CoCopeLia_data_allhops_02pen_select_sk_high_alldev['flops']/(1e9*CoCopeLia_data_allhops_02pen_select_sk_high_alldev['timer'])\n",
    "    #print(\"CoCopeLia_data_allhops_02pen_select_sk_high_alldev mean perf = %lf Gflops/s\" % CoCopeLia_data_allhops_02pen_select_sk_high_alldev['perf'].mean())\n",
    "    #CoCopeLia_data_allhops_02pen_select_sk_high_alldev['loc_str'] = 100*(CoCopeLia_data_allhops_02pen_select_sk_high_alldev['Asloc']+1) + 10*(CoCopeLia_data_allhops_02pen_select_sk_high_alldev['Bsloc']+1) + CoCopeLia_data_allhops_02pen_select_sk_high_alldev['Csloc']+1\n",
    "    #CoCopeLia_data_allhops_02pen_select_sk_high_alldev['imp'] = '7.Allhops-0.2 - select_sk_high'\n",
    "    \n",
    "    dgemm_bytes(CoCopeLia_data_allhops_02pen_preddev)\n",
    "    dgemm_flops(CoCopeLia_data_allhops_02pen_preddev)\n",
    "    CoCopeLia_data_allhops_02pen_preddev['perf'] = CoCopeLia_data_allhops_02pen_preddev['flops']/(1e9*CoCopeLia_data_allhops_02pen_preddev['timer'])\n",
    "    CoCopeLia_data_allhops_02pen_preddev['loc_str'] = 100*(CoCopeLia_data_allhops_02pen_preddev['Asloc']+1) + 10*(CoCopeLia_data_allhops_02pen_preddev['Bsloc']+1) + CoCopeLia_data_allhops_02pen_preddev['Csloc']+1\n",
    "    CoCopeLia_data_allhops_02pen_preddev['imp'] = '9.Allhops-0.2 Predict Units'   \n",
    "    print(\"CoCopeLia_data_allhops_02pen_preddev mean of %d cases -> perf = %lf Gflops/s\" % (len(CoCoPeLia_modified_grouby_avg(CoCopeLia_data_allhops_02pen_preddev)), CoCopeLia_data_allhops_02pen_preddev['perf'].mean()))\n"
   ]
  },
  {
   "cell_type": "code",
   "execution_count": 10,
   "metadata": {},
   "outputs": [
    {
     "name": "stdout",
     "output_type": "stream",
     "text": [
      "   T  dev_num  dev_id_token  cachesize_limit TransA TransB   alpha    beta  \\\n",
      "0 -1       -1             0                0      N      N  1.2345  1.1154   \n",
      "1 -1       -1             0                0      N      N  1.2345  1.1154   \n",
      "2 -1       -1             0                0      N      N  1.2345  1.1154   \n",
      "3 -1       -1             0                0      N      N  1.2345  1.1154   \n",
      "4 -1       -1             0                0      N      N  1.2345  1.1154   \n",
      "\n",
      "     M    N  ...  Asloc  Bsloc  Csloc  CsOutloc       flops     bytes  \\\n",
      "0  224  224  ...     -1     -1   -1.0      -1.0  2055309312  73801728   \n",
      "1  224  224  ...     -1     -1   -1.0      -1.0  2055309312  73801728   \n",
      "2  224  224  ...     -1     -1    0.0       0.0  2055309312  73801728   \n",
      "3  224  224  ...     -1     -1    0.0       0.0  2055309312  73801728   \n",
      "4  224  224  ...     -1      0    5.0       5.0  2055309312  73801728   \n",
      "\n",
      "   loc_str       imp     timer         perf  \n",
      "0      0.0   1.BLASX  0.001620  1886.017691  \n",
      "1      0.0  2.XKBLAS  0.010001   205.515952  \n",
      "2      1.0   1.BLASX  0.000934  2215.355659  \n",
      "3      1.0  2.XKBLAS  0.010068   204.203731  \n",
      "4     16.0   1.BLASX  0.001842  1748.759309  \n",
      "\n",
      "[5 rows x 21 columns]\n"
     ]
    },
    {
     "data": {
      "image/png": "[encoded data removed]",
      "text/plain": [
       "<Figure size 1004.26x775.847 with 3 Axes>"
      ]
     },
     "metadata": {
      "needs_background": "light"
     },
     "output_type": "display_data"
    }
   ],
   "source": [
    "CoCopeLia_all_data_alldev = pd.concat([BLASxEx_data,XKBLAS_nocache_data])\n",
    "#CoCopeLia_all_data_alldev = pd.concat([CoCopeLia_all_data_alldev,CoCopeLia_data_rhops_alldev])\n",
    "CoCopeLia_all_data_alldev = pd.concat([CoCopeLia_all_data_alldev,CoCopeLia_data_nohops_alldev])\n",
    "CoCopeLia_all_data_alldev = pd.concat([CoCopeLia_all_data_alldev,CoCopeLia_data_rhops_02pen_alldev])\n",
    "CoCopeLia_all_data_alldev = pd.concat([CoCopeLia_all_data_alldev,CoCopeLia_data_allhops_02pen_alldev])\n",
    "CoCopeLia_all_data_alldev = pd.concat([CoCopeLia_all_data_alldev,CoCopeLia_data_allhops_02pen_ESPA_alldev])\n",
    "#CoCopeLia_all_data_alldev = pd.concat([CoCopeLia_all_data_alldev,CoCopeLia_data_allhops_02pen_select_sk_low_alldev])\n",
    "#CoCopeLia_all_data_alldev = pd.concat([CoCopeLia_all_data_alldev,CoCopeLia_data_allhops_02pen_select_sk_high_alldev])\n",
    "#CoCopeLia_all_data_alldev = pd.concat([CoCopeLia_all_data_alldev,CoCopeLia_data_allhops_02pen_preddev])\n",
    "CoCopeLia_all_data_mean = CoCoPeLia_modified_grouby_avg(CoCopeLia_all_data_alldev)\n",
    "print(CoCopeLia_all_data_mean.head(5))\n",
    "CoCopeLia_all_data_alldev_list = []\n",
    "CoCopeLia_all_data_alldev_list.append(CoCoPeLia_select_subset(CoCopeLia_all_data_mean,'square'))\n",
    "CoCopeLia_all_data_alldev_list.append(CoCoPeLia_select_subset(CoCopeLia_all_data_mean,'fat-thin'))\n",
    "CoCopeLia_all_data_alldev_list.append(CoCoPeLia_select_subset(CoCopeLia_all_data_mean,'thin-fat'))\n",
    "elem_name=['Square ( M = N = K)', 'Fat-thin ( M = N > K )', 'Thin-fat (M = N < K )']\n",
    "fig, ax = plt.subplots(3)\n",
    "fig.set_size_inches(width*4, height*5)\n",
    "fig.subplots_adjust(left=.1, bottom=.06, right=.99, top=.86)\n",
    "for ctr in range(0,len(ax)):\n",
    "    sns.boxplot(data=CoCopeLia_all_data_alldev_list[ctr], x = 'loc_str', y = 'perf', hue = 'imp', ax=ax[ctr])\n",
    "    ax[ctr].set_title(elem_name[ctr])\n",
    "    ax[ctr].get_legend().remove()\n",
    "    #ax[ctr].set_xticks([])\n",
    "    ax[ctr].set_xlabel('')\n",
    "    #ax[ctr].set_xticklabels(['[-1,-1,-1]', '[0,0,-1]', '[4,2,-1]', '[-1,-1,0]', '[-1,0,5]', '[0,0,0]', '[0,1,2]', '[0,3,6]', '[4,2,5]', '[1,6,7]'])\n",
    "    if ctr == 0: \n",
    "        fig.legend(loc = 'upper center',#title=\"Model\",  # Title for the legend\n",
    "            fontsize=font, fancybox = False, ncol=6)\n",
    "fig.savefig('Plots/MaxDev/Plot_testbed-%s_gflops_sumup.pdf' % (machine))        "
   ]
  },
  {
   "cell_type": "code",
   "execution_count": 11,
   "metadata": {},
   "outputs": [
    {
     "name": "stdout",
     "output_type": "stream",
     "text": [
      "loc = [-1, -1, -1]\n",
      "XKBLAS_nocache_data_p mean perf = 14076.697291 Gflops/s\n",
      "BLASxEx_data_p mean perf = 11994.329460 Gflops/s\n",
      "BLASxEx_data_p mean perf = 11994.329460 Gflops/s\n",
      "CoCopeLia_data_nohops_alldev_p mean perf = 10929.710973 Gflops/s\n",
      "CoCopeLia_data_rhops_02pen_alldev_p mean perf = 11435.720410 Gflops/s\n",
      "CoCopeLia_data_allhops_02pen_alldev_p mean perf = 11849.992478 Gflops/s\n",
      "CoCopeLia_data_allhops_02pen_ESPA_alldev_p mean perf = nan Gflops/s\n"
     ]
    },
    {
     "name": "stderr",
     "output_type": "stream",
     "text": [
      "/tmp/ipykernel_20899/4290392213.py:3: FutureWarning: The default value of numeric_only in DataFrameGroupBy.mean is deprecated. In a future version, numeric_only will default to False. Either specify numeric_only or select only columns which should be valid for the function.\n",
      "  'alpha','beta','M','N','K','Asloc','Bsloc','Csloc', 'CsOutloc'], as_index=False, sort=True).mean()\n",
      "/tmp/ipykernel_20899/4290392213.py:3: FutureWarning: The default value of numeric_only in DataFrameGroupBy.mean is deprecated. In a future version, numeric_only will default to False. Either specify numeric_only or select only columns which should be valid for the function.\n",
      "  'alpha','beta','M','N','K','Asloc','Bsloc','Csloc', 'CsOutloc'], as_index=False, sort=True).mean()\n",
      "/tmp/ipykernel_20899/4290392213.py:3: FutureWarning: The default value of numeric_only in DataFrameGroupBy.mean is deprecated. In a future version, numeric_only will default to False. Either specify numeric_only or select only columns which should be valid for the function.\n",
      "  'alpha','beta','M','N','K','Asloc','Bsloc','Csloc', 'CsOutloc'], as_index=False, sort=True).mean()\n",
      "/tmp/ipykernel_20899/4290392213.py:3: FutureWarning: The default value of numeric_only in DataFrameGroupBy.mean is deprecated. In a future version, numeric_only will default to False. Either specify numeric_only or select only columns which should be valid for the function.\n",
      "  'alpha','beta','M','N','K','Asloc','Bsloc','Csloc', 'CsOutloc'], as_index=False, sort=True).mean()\n",
      "/tmp/ipykernel_20899/4290392213.py:3: FutureWarning: The default value of numeric_only in DataFrameGroupBy.mean is deprecated. In a future version, numeric_only will default to False. Either specify numeric_only or select only columns which should be valid for the function.\n",
      "  'alpha','beta','M','N','K','Asloc','Bsloc','Csloc', 'CsOutloc'], as_index=False, sort=True).mean()\n",
      "/tmp/ipykernel_20899/4290392213.py:3: FutureWarning: The default value of numeric_only in DataFrameGroupBy.mean is deprecated. In a future version, numeric_only will default to False. Either specify numeric_only or select only columns which should be valid for the function.\n",
      "  'alpha','beta','M','N','K','Asloc','Bsloc','Csloc', 'CsOutloc'], as_index=False, sort=True).mean()\n",
      "/tmp/ipykernel_20899/4290392213.py:3: FutureWarning: The default value of numeric_only in DataFrameGroupBy.mean is deprecated. In a future version, numeric_only will default to False. Either specify numeric_only or select only columns which should be valid for the function.\n",
      "  'alpha','beta','M','N','K','Asloc','Bsloc','Csloc', 'CsOutloc'], as_index=False, sort=True).mean()\n"
     ]
    },
    {
     "name": "stdout",
     "output_type": "stream",
     "text": [
      "loc = [0, 0, -1]\n",
      "XKBLAS_nocache_data_p mean perf = 8382.863698 Gflops/s\n",
      "BLASxEx_data_p mean perf = 11856.171866 Gflops/s\n",
      "BLASxEx_data_p mean perf = 11856.171866 Gflops/s\n",
      "CoCopeLia_data_nohops_alldev_p mean perf = 10288.822036 Gflops/s\n",
      "CoCopeLia_data_rhops_02pen_alldev_p mean perf = 14300.114703 Gflops/s\n",
      "CoCopeLia_data_allhops_02pen_alldev_p mean perf = 14587.859150 Gflops/s\n",
      "CoCopeLia_data_allhops_02pen_ESPA_alldev_p mean perf = nan Gflops/s\n"
     ]
    },
    {
     "name": "stderr",
     "output_type": "stream",
     "text": [
      "/tmp/ipykernel_20899/4290392213.py:3: FutureWarning: The default value of numeric_only in DataFrameGroupBy.mean is deprecated. In a future version, numeric_only will default to False. Either specify numeric_only or select only columns which should be valid for the function.\n",
      "  'alpha','beta','M','N','K','Asloc','Bsloc','Csloc', 'CsOutloc'], as_index=False, sort=True).mean()\n",
      "/tmp/ipykernel_20899/4290392213.py:3: FutureWarning: The default value of numeric_only in DataFrameGroupBy.mean is deprecated. In a future version, numeric_only will default to False. Either specify numeric_only or select only columns which should be valid for the function.\n",
      "  'alpha','beta','M','N','K','Asloc','Bsloc','Csloc', 'CsOutloc'], as_index=False, sort=True).mean()\n",
      "/tmp/ipykernel_20899/4290392213.py:3: FutureWarning: The default value of numeric_only in DataFrameGroupBy.mean is deprecated. In a future version, numeric_only will default to False. Either specify numeric_only or select only columns which should be valid for the function.\n",
      "  'alpha','beta','M','N','K','Asloc','Bsloc','Csloc', 'CsOutloc'], as_index=False, sort=True).mean()\n",
      "/tmp/ipykernel_20899/4290392213.py:3: FutureWarning: The default value of numeric_only in DataFrameGroupBy.mean is deprecated. In a future version, numeric_only will default to False. Either specify numeric_only or select only columns which should be valid for the function.\n",
      "  'alpha','beta','M','N','K','Asloc','Bsloc','Csloc', 'CsOutloc'], as_index=False, sort=True).mean()\n",
      "/tmp/ipykernel_20899/4290392213.py:3: FutureWarning: The default value of numeric_only in DataFrameGroupBy.mean is deprecated. In a future version, numeric_only will default to False. Either specify numeric_only or select only columns which should be valid for the function.\n",
      "  'alpha','beta','M','N','K','Asloc','Bsloc','Csloc', 'CsOutloc'], as_index=False, sort=True).mean()\n",
      "/tmp/ipykernel_20899/4290392213.py:3: FutureWarning: The default value of numeric_only in DataFrameGroupBy.mean is deprecated. In a future version, numeric_only will default to False. Either specify numeric_only or select only columns which should be valid for the function.\n",
      "  'alpha','beta','M','N','K','Asloc','Bsloc','Csloc', 'CsOutloc'], as_index=False, sort=True).mean()\n",
      "/tmp/ipykernel_20899/4290392213.py:3: FutureWarning: The default value of numeric_only in DataFrameGroupBy.mean is deprecated. In a future version, numeric_only will default to False. Either specify numeric_only or select only columns which should be valid for the function.\n",
      "  'alpha','beta','M','N','K','Asloc','Bsloc','Csloc', 'CsOutloc'], as_index=False, sort=True).mean()\n"
     ]
    },
    {
     "name": "stdout",
     "output_type": "stream",
     "text": [
      "loc = [4, 2, -1]\n",
      "XKBLAS_nocache_data_p mean perf = 9008.671362 Gflops/s\n",
      "BLASxEx_data_p mean perf = 11734.077845 Gflops/s\n",
      "BLASxEx_data_p mean perf = 11734.077845 Gflops/s\n",
      "CoCopeLia_data_nohops_alldev_p mean perf = 13227.525108 Gflops/s\n",
      "CoCopeLia_data_rhops_02pen_alldev_p mean perf = 16529.832504 Gflops/s\n",
      "CoCopeLia_data_allhops_02pen_alldev_p mean perf = 16882.311122 Gflops/s\n",
      "CoCopeLia_data_allhops_02pen_ESPA_alldev_p mean perf = nan Gflops/s\n"
     ]
    },
    {
     "name": "stderr",
     "output_type": "stream",
     "text": [
      "/tmp/ipykernel_20899/4290392213.py:3: FutureWarning: The default value of numeric_only in DataFrameGroupBy.mean is deprecated. In a future version, numeric_only will default to False. Either specify numeric_only or select only columns which should be valid for the function.\n",
      "  'alpha','beta','M','N','K','Asloc','Bsloc','Csloc', 'CsOutloc'], as_index=False, sort=True).mean()\n",
      "/tmp/ipykernel_20899/4290392213.py:3: FutureWarning: The default value of numeric_only in DataFrameGroupBy.mean is deprecated. In a future version, numeric_only will default to False. Either specify numeric_only or select only columns which should be valid for the function.\n",
      "  'alpha','beta','M','N','K','Asloc','Bsloc','Csloc', 'CsOutloc'], as_index=False, sort=True).mean()\n",
      "/tmp/ipykernel_20899/4290392213.py:3: FutureWarning: The default value of numeric_only in DataFrameGroupBy.mean is deprecated. In a future version, numeric_only will default to False. Either specify numeric_only or select only columns which should be valid for the function.\n",
      "  'alpha','beta','M','N','K','Asloc','Bsloc','Csloc', 'CsOutloc'], as_index=False, sort=True).mean()\n",
      "/tmp/ipykernel_20899/4290392213.py:3: FutureWarning: The default value of numeric_only in DataFrameGroupBy.mean is deprecated. In a future version, numeric_only will default to False. Either specify numeric_only or select only columns which should be valid for the function.\n",
      "  'alpha','beta','M','N','K','Asloc','Bsloc','Csloc', 'CsOutloc'], as_index=False, sort=True).mean()\n",
      "/tmp/ipykernel_20899/4290392213.py:3: FutureWarning: The default value of numeric_only in DataFrameGroupBy.mean is deprecated. In a future version, numeric_only will default to False. Either specify numeric_only or select only columns which should be valid for the function.\n",
      "  'alpha','beta','M','N','K','Asloc','Bsloc','Csloc', 'CsOutloc'], as_index=False, sort=True).mean()\n",
      "/tmp/ipykernel_20899/4290392213.py:3: FutureWarning: The default value of numeric_only in DataFrameGroupBy.mean is deprecated. In a future version, numeric_only will default to False. Either specify numeric_only or select only columns which should be valid for the function.\n",
      "  'alpha','beta','M','N','K','Asloc','Bsloc','Csloc', 'CsOutloc'], as_index=False, sort=True).mean()\n",
      "/tmp/ipykernel_20899/4290392213.py:3: FutureWarning: The default value of numeric_only in DataFrameGroupBy.mean is deprecated. In a future version, numeric_only will default to False. Either specify numeric_only or select only columns which should be valid for the function.\n",
      "  'alpha','beta','M','N','K','Asloc','Bsloc','Csloc', 'CsOutloc'], as_index=False, sort=True).mean()\n"
     ]
    },
    {
     "name": "stdout",
     "output_type": "stream",
     "text": [
      "loc = [-1, -1, 0]\n",
      "XKBLAS_nocache_data_p mean perf = 9733.469574 Gflops/s\n",
      "BLASxEx_data_p mean perf = 10423.496959 Gflops/s\n",
      "BLASxEx_data_p mean perf = 10423.496959 Gflops/s\n",
      "CoCopeLia_data_nohops_alldev_p mean perf = 10511.637833 Gflops/s\n",
      "CoCopeLia_data_rhops_02pen_alldev_p mean perf = 11148.331353 Gflops/s\n",
      "CoCopeLia_data_allhops_02pen_alldev_p mean perf = 12447.469309 Gflops/s\n",
      "CoCopeLia_data_allhops_02pen_ESPA_alldev_p mean perf = nan Gflops/s\n"
     ]
    },
    {
     "name": "stderr",
     "output_type": "stream",
     "text": [
      "/tmp/ipykernel_20899/4290392213.py:3: FutureWarning: The default value of numeric_only in DataFrameGroupBy.mean is deprecated. In a future version, numeric_only will default to False. Either specify numeric_only or select only columns which should be valid for the function.\n",
      "  'alpha','beta','M','N','K','Asloc','Bsloc','Csloc', 'CsOutloc'], as_index=False, sort=True).mean()\n",
      "/tmp/ipykernel_20899/4290392213.py:3: FutureWarning: The default value of numeric_only in DataFrameGroupBy.mean is deprecated. In a future version, numeric_only will default to False. Either specify numeric_only or select only columns which should be valid for the function.\n",
      "  'alpha','beta','M','N','K','Asloc','Bsloc','Csloc', 'CsOutloc'], as_index=False, sort=True).mean()\n",
      "/tmp/ipykernel_20899/4290392213.py:3: FutureWarning: The default value of numeric_only in DataFrameGroupBy.mean is deprecated. In a future version, numeric_only will default to False. Either specify numeric_only or select only columns which should be valid for the function.\n",
      "  'alpha','beta','M','N','K','Asloc','Bsloc','Csloc', 'CsOutloc'], as_index=False, sort=True).mean()\n",
      "/tmp/ipykernel_20899/4290392213.py:3: FutureWarning: The default value of numeric_only in DataFrameGroupBy.mean is deprecated. In a future version, numeric_only will default to False. Either specify numeric_only or select only columns which should be valid for the function.\n",
      "  'alpha','beta','M','N','K','Asloc','Bsloc','Csloc', 'CsOutloc'], as_index=False, sort=True).mean()\n",
      "/tmp/ipykernel_20899/4290392213.py:3: FutureWarning: The default value of numeric_only in DataFrameGroupBy.mean is deprecated. In a future version, numeric_only will default to False. Either specify numeric_only or select only columns which should be valid for the function.\n",
      "  'alpha','beta','M','N','K','Asloc','Bsloc','Csloc', 'CsOutloc'], as_index=False, sort=True).mean()\n",
      "/tmp/ipykernel_20899/4290392213.py:3: FutureWarning: The default value of numeric_only in DataFrameGroupBy.mean is deprecated. In a future version, numeric_only will default to False. Either specify numeric_only or select only columns which should be valid for the function.\n",
      "  'alpha','beta','M','N','K','Asloc','Bsloc','Csloc', 'CsOutloc'], as_index=False, sort=True).mean()\n",
      "/tmp/ipykernel_20899/4290392213.py:3: FutureWarning: The default value of numeric_only in DataFrameGroupBy.mean is deprecated. In a future version, numeric_only will default to False. Either specify numeric_only or select only columns which should be valid for the function.\n",
      "  'alpha','beta','M','N','K','Asloc','Bsloc','Csloc', 'CsOutloc'], as_index=False, sort=True).mean()\n"
     ]
    },
    {
     "name": "stdout",
     "output_type": "stream",
     "text": [
      "loc = [-1, 0, 5]\n",
      "XKBLAS_nocache_data_p mean perf = 7753.039681 Gflops/s\n",
      "BLASxEx_data_p mean perf = 10041.324203 Gflops/s\n",
      "BLASxEx_data_p mean perf = 10041.324203 Gflops/s\n",
      "CoCopeLia_data_nohops_alldev_p mean perf = 9322.978228 Gflops/s\n",
      "CoCopeLia_data_rhops_02pen_alldev_p mean perf = 13197.164231 Gflops/s\n",
      "CoCopeLia_data_allhops_02pen_alldev_p mean perf = 15256.042276 Gflops/s\n",
      "CoCopeLia_data_allhops_02pen_ESPA_alldev_p mean perf = nan Gflops/s\n"
     ]
    },
    {
     "name": "stderr",
     "output_type": "stream",
     "text": [
      "/tmp/ipykernel_20899/4290392213.py:3: FutureWarning: The default value of numeric_only in DataFrameGroupBy.mean is deprecated. In a future version, numeric_only will default to False. Either specify numeric_only or select only columns which should be valid for the function.\n",
      "  'alpha','beta','M','N','K','Asloc','Bsloc','Csloc', 'CsOutloc'], as_index=False, sort=True).mean()\n",
      "/tmp/ipykernel_20899/4290392213.py:3: FutureWarning: The default value of numeric_only in DataFrameGroupBy.mean is deprecated. In a future version, numeric_only will default to False. Either specify numeric_only or select only columns which should be valid for the function.\n",
      "  'alpha','beta','M','N','K','Asloc','Bsloc','Csloc', 'CsOutloc'], as_index=False, sort=True).mean()\n",
      "/tmp/ipykernel_20899/4290392213.py:3: FutureWarning: The default value of numeric_only in DataFrameGroupBy.mean is deprecated. In a future version, numeric_only will default to False. Either specify numeric_only or select only columns which should be valid for the function.\n",
      "  'alpha','beta','M','N','K','Asloc','Bsloc','Csloc', 'CsOutloc'], as_index=False, sort=True).mean()\n",
      "/tmp/ipykernel_20899/4290392213.py:3: FutureWarning: The default value of numeric_only in DataFrameGroupBy.mean is deprecated. In a future version, numeric_only will default to False. Either specify numeric_only or select only columns which should be valid for the function.\n",
      "  'alpha','beta','M','N','K','Asloc','Bsloc','Csloc', 'CsOutloc'], as_index=False, sort=True).mean()\n",
      "/tmp/ipykernel_20899/4290392213.py:3: FutureWarning: The default value of numeric_only in DataFrameGroupBy.mean is deprecated. In a future version, numeric_only will default to False. Either specify numeric_only or select only columns which should be valid for the function.\n",
      "  'alpha','beta','M','N','K','Asloc','Bsloc','Csloc', 'CsOutloc'], as_index=False, sort=True).mean()\n",
      "/tmp/ipykernel_20899/4290392213.py:3: FutureWarning: The default value of numeric_only in DataFrameGroupBy.mean is deprecated. In a future version, numeric_only will default to False. Either specify numeric_only or select only columns which should be valid for the function.\n",
      "  'alpha','beta','M','N','K','Asloc','Bsloc','Csloc', 'CsOutloc'], as_index=False, sort=True).mean()\n",
      "/tmp/ipykernel_20899/4290392213.py:3: FutureWarning: The default value of numeric_only in DataFrameGroupBy.mean is deprecated. In a future version, numeric_only will default to False. Either specify numeric_only or select only columns which should be valid for the function.\n",
      "  'alpha','beta','M','N','K','Asloc','Bsloc','Csloc', 'CsOutloc'], as_index=False, sort=True).mean()\n"
     ]
    },
    {
     "name": "stdout",
     "output_type": "stream",
     "text": [
      "loc = [0, 0, 0]\n",
      "XKBLAS_nocache_data_p mean perf = 5782.007337 Gflops/s\n",
      "BLASxEx_data_p mean perf = 10082.582138 Gflops/s\n",
      "BLASxEx_data_p mean perf = 10082.582138 Gflops/s\n",
      "CoCopeLia_data_nohops_alldev_p mean perf = 10723.740873 Gflops/s\n",
      "CoCopeLia_data_rhops_02pen_alldev_p mean perf = 13569.492401 Gflops/s\n",
      "CoCopeLia_data_allhops_02pen_alldev_p mean perf = 14765.686025 Gflops/s\n",
      "CoCopeLia_data_allhops_02pen_ESPA_alldev_p mean perf = nan Gflops/s\n"
     ]
    },
    {
     "name": "stderr",
     "output_type": "stream",
     "text": [
      "/tmp/ipykernel_20899/4290392213.py:3: FutureWarning: The default value of numeric_only in DataFrameGroupBy.mean is deprecated. In a future version, numeric_only will default to False. Either specify numeric_only or select only columns which should be valid for the function.\n",
      "  'alpha','beta','M','N','K','Asloc','Bsloc','Csloc', 'CsOutloc'], as_index=False, sort=True).mean()\n",
      "/tmp/ipykernel_20899/4290392213.py:3: FutureWarning: The default value of numeric_only in DataFrameGroupBy.mean is deprecated. In a future version, numeric_only will default to False. Either specify numeric_only or select only columns which should be valid for the function.\n",
      "  'alpha','beta','M','N','K','Asloc','Bsloc','Csloc', 'CsOutloc'], as_index=False, sort=True).mean()\n",
      "/tmp/ipykernel_20899/4290392213.py:3: FutureWarning: The default value of numeric_only in DataFrameGroupBy.mean is deprecated. In a future version, numeric_only will default to False. Either specify numeric_only or select only columns which should be valid for the function.\n",
      "  'alpha','beta','M','N','K','Asloc','Bsloc','Csloc', 'CsOutloc'], as_index=False, sort=True).mean()\n",
      "/tmp/ipykernel_20899/4290392213.py:3: FutureWarning: The default value of numeric_only in DataFrameGroupBy.mean is deprecated. In a future version, numeric_only will default to False. Either specify numeric_only or select only columns which should be valid for the function.\n",
      "  'alpha','beta','M','N','K','Asloc','Bsloc','Csloc', 'CsOutloc'], as_index=False, sort=True).mean()\n",
      "/tmp/ipykernel_20899/4290392213.py:3: FutureWarning: The default value of numeric_only in DataFrameGroupBy.mean is deprecated. In a future version, numeric_only will default to False. Either specify numeric_only or select only columns which should be valid for the function.\n",
      "  'alpha','beta','M','N','K','Asloc','Bsloc','Csloc', 'CsOutloc'], as_index=False, sort=True).mean()\n",
      "/tmp/ipykernel_20899/4290392213.py:3: FutureWarning: The default value of numeric_only in DataFrameGroupBy.mean is deprecated. In a future version, numeric_only will default to False. Either specify numeric_only or select only columns which should be valid for the function.\n",
      "  'alpha','beta','M','N','K','Asloc','Bsloc','Csloc', 'CsOutloc'], as_index=False, sort=True).mean()\n",
      "/tmp/ipykernel_20899/4290392213.py:3: FutureWarning: The default value of numeric_only in DataFrameGroupBy.mean is deprecated. In a future version, numeric_only will default to False. Either specify numeric_only or select only columns which should be valid for the function.\n",
      "  'alpha','beta','M','N','K','Asloc','Bsloc','Csloc', 'CsOutloc'], as_index=False, sort=True).mean()\n"
     ]
    },
    {
     "name": "stdout",
     "output_type": "stream",
     "text": [
      "loc = [0, 1, 2]\n",
      "XKBLAS_nocache_data_p mean perf = 5826.885336 Gflops/s\n",
      "BLASxEx_data_p mean perf = 9975.893932 Gflops/s\n",
      "BLASxEx_data_p mean perf = 9975.893932 Gflops/s\n",
      "CoCopeLia_data_nohops_alldev_p mean perf = 7284.051144 Gflops/s\n",
      "CoCopeLia_data_rhops_02pen_alldev_p mean perf = 15563.915157 Gflops/s\n",
      "CoCopeLia_data_allhops_02pen_alldev_p mean perf = 17180.756728 Gflops/s\n",
      "CoCopeLia_data_allhops_02pen_ESPA_alldev_p mean perf = nan Gflops/s\n"
     ]
    },
    {
     "name": "stderr",
     "output_type": "stream",
     "text": [
      "/tmp/ipykernel_20899/4290392213.py:3: FutureWarning: The default value of numeric_only in DataFrameGroupBy.mean is deprecated. In a future version, numeric_only will default to False. Either specify numeric_only or select only columns which should be valid for the function.\n",
      "  'alpha','beta','M','N','K','Asloc','Bsloc','Csloc', 'CsOutloc'], as_index=False, sort=True).mean()\n",
      "/tmp/ipykernel_20899/4290392213.py:3: FutureWarning: The default value of numeric_only in DataFrameGroupBy.mean is deprecated. In a future version, numeric_only will default to False. Either specify numeric_only or select only columns which should be valid for the function.\n",
      "  'alpha','beta','M','N','K','Asloc','Bsloc','Csloc', 'CsOutloc'], as_index=False, sort=True).mean()\n",
      "/tmp/ipykernel_20899/4290392213.py:3: FutureWarning: The default value of numeric_only in DataFrameGroupBy.mean is deprecated. In a future version, numeric_only will default to False. Either specify numeric_only or select only columns which should be valid for the function.\n",
      "  'alpha','beta','M','N','K','Asloc','Bsloc','Csloc', 'CsOutloc'], as_index=False, sort=True).mean()\n",
      "/tmp/ipykernel_20899/4290392213.py:3: FutureWarning: The default value of numeric_only in DataFrameGroupBy.mean is deprecated. In a future version, numeric_only will default to False. Either specify numeric_only or select only columns which should be valid for the function.\n",
      "  'alpha','beta','M','N','K','Asloc','Bsloc','Csloc', 'CsOutloc'], as_index=False, sort=True).mean()\n",
      "/tmp/ipykernel_20899/4290392213.py:3: FutureWarning: The default value of numeric_only in DataFrameGroupBy.mean is deprecated. In a future version, numeric_only will default to False. Either specify numeric_only or select only columns which should be valid for the function.\n",
      "  'alpha','beta','M','N','K','Asloc','Bsloc','Csloc', 'CsOutloc'], as_index=False, sort=True).mean()\n",
      "/tmp/ipykernel_20899/4290392213.py:3: FutureWarning: The default value of numeric_only in DataFrameGroupBy.mean is deprecated. In a future version, numeric_only will default to False. Either specify numeric_only or select only columns which should be valid for the function.\n",
      "  'alpha','beta','M','N','K','Asloc','Bsloc','Csloc', 'CsOutloc'], as_index=False, sort=True).mean()\n",
      "/tmp/ipykernel_20899/4290392213.py:3: FutureWarning: The default value of numeric_only in DataFrameGroupBy.mean is deprecated. In a future version, numeric_only will default to False. Either specify numeric_only or select only columns which should be valid for the function.\n",
      "  'alpha','beta','M','N','K','Asloc','Bsloc','Csloc', 'CsOutloc'], as_index=False, sort=True).mean()\n"
     ]
    },
    {
     "name": "stdout",
     "output_type": "stream",
     "text": [
      "loc = [0, 3, 6]\n",
      "XKBLAS_nocache_data_p mean perf = 6752.771902 Gflops/s\n",
      "BLASxEx_data_p mean perf = 10288.638761 Gflops/s\n",
      "BLASxEx_data_p mean perf = 10288.638761 Gflops/s\n",
      "CoCopeLia_data_nohops_alldev_p mean perf = 9821.232594 Gflops/s\n",
      "CoCopeLia_data_rhops_02pen_alldev_p mean perf = 15442.948869 Gflops/s\n",
      "CoCopeLia_data_allhops_02pen_alldev_p mean perf = 16926.029897 Gflops/s\n",
      "CoCopeLia_data_allhops_02pen_ESPA_alldev_p mean perf = nan Gflops/s\n"
     ]
    },
    {
     "name": "stderr",
     "output_type": "stream",
     "text": [
      "/tmp/ipykernel_20899/4290392213.py:3: FutureWarning: The default value of numeric_only in DataFrameGroupBy.mean is deprecated. In a future version, numeric_only will default to False. Either specify numeric_only or select only columns which should be valid for the function.\n",
      "  'alpha','beta','M','N','K','Asloc','Bsloc','Csloc', 'CsOutloc'], as_index=False, sort=True).mean()\n",
      "/tmp/ipykernel_20899/4290392213.py:3: FutureWarning: The default value of numeric_only in DataFrameGroupBy.mean is deprecated. In a future version, numeric_only will default to False. Either specify numeric_only or select only columns which should be valid for the function.\n",
      "  'alpha','beta','M','N','K','Asloc','Bsloc','Csloc', 'CsOutloc'], as_index=False, sort=True).mean()\n",
      "/tmp/ipykernel_20899/4290392213.py:3: FutureWarning: The default value of numeric_only in DataFrameGroupBy.mean is deprecated. In a future version, numeric_only will default to False. Either specify numeric_only or select only columns which should be valid for the function.\n",
      "  'alpha','beta','M','N','K','Asloc','Bsloc','Csloc', 'CsOutloc'], as_index=False, sort=True).mean()\n",
      "/tmp/ipykernel_20899/4290392213.py:3: FutureWarning: The default value of numeric_only in DataFrameGroupBy.mean is deprecated. In a future version, numeric_only will default to False. Either specify numeric_only or select only columns which should be valid for the function.\n",
      "  'alpha','beta','M','N','K','Asloc','Bsloc','Csloc', 'CsOutloc'], as_index=False, sort=True).mean()\n",
      "/tmp/ipykernel_20899/4290392213.py:3: FutureWarning: The default value of numeric_only in DataFrameGroupBy.mean is deprecated. In a future version, numeric_only will default to False. Either specify numeric_only or select only columns which should be valid for the function.\n",
      "  'alpha','beta','M','N','K','Asloc','Bsloc','Csloc', 'CsOutloc'], as_index=False, sort=True).mean()\n",
      "/tmp/ipykernel_20899/4290392213.py:3: FutureWarning: The default value of numeric_only in DataFrameGroupBy.mean is deprecated. In a future version, numeric_only will default to False. Either specify numeric_only or select only columns which should be valid for the function.\n",
      "  'alpha','beta','M','N','K','Asloc','Bsloc','Csloc', 'CsOutloc'], as_index=False, sort=True).mean()\n",
      "/tmp/ipykernel_20899/4290392213.py:3: FutureWarning: The default value of numeric_only in DataFrameGroupBy.mean is deprecated. In a future version, numeric_only will default to False. Either specify numeric_only or select only columns which should be valid for the function.\n",
      "  'alpha','beta','M','N','K','Asloc','Bsloc','Csloc', 'CsOutloc'], as_index=False, sort=True).mean()\n"
     ]
    },
    {
     "name": "stdout",
     "output_type": "stream",
     "text": [
      "loc = [4, 2, 5]\n",
      "XKBLAS_nocache_data_p mean perf = 6245.683039 Gflops/s\n",
      "BLASxEx_data_p mean perf = 9984.417625 Gflops/s\n",
      "BLASxEx_data_p mean perf = 9984.417625 Gflops/s\n",
      "CoCopeLia_data_nohops_alldev_p mean perf = 7210.589119 Gflops/s\n",
      "CoCopeLia_data_rhops_02pen_alldev_p mean perf = 15745.438710 Gflops/s\n",
      "CoCopeLia_data_allhops_02pen_alldev_p mean perf = 17445.973034 Gflops/s\n",
      "CoCopeLia_data_allhops_02pen_ESPA_alldev_p mean perf = nan Gflops/s\n"
     ]
    },
    {
     "name": "stderr",
     "output_type": "stream",
     "text": [
      "/tmp/ipykernel_20899/4290392213.py:3: FutureWarning: The default value of numeric_only in DataFrameGroupBy.mean is deprecated. In a future version, numeric_only will default to False. Either specify numeric_only or select only columns which should be valid for the function.\n",
      "  'alpha','beta','M','N','K','Asloc','Bsloc','Csloc', 'CsOutloc'], as_index=False, sort=True).mean()\n",
      "/tmp/ipykernel_20899/4290392213.py:3: FutureWarning: The default value of numeric_only in DataFrameGroupBy.mean is deprecated. In a future version, numeric_only will default to False. Either specify numeric_only or select only columns which should be valid for the function.\n",
      "  'alpha','beta','M','N','K','Asloc','Bsloc','Csloc', 'CsOutloc'], as_index=False, sort=True).mean()\n",
      "/tmp/ipykernel_20899/4290392213.py:3: FutureWarning: The default value of numeric_only in DataFrameGroupBy.mean is deprecated. In a future version, numeric_only will default to False. Either specify numeric_only or select only columns which should be valid for the function.\n",
      "  'alpha','beta','M','N','K','Asloc','Bsloc','Csloc', 'CsOutloc'], as_index=False, sort=True).mean()\n",
      "/tmp/ipykernel_20899/4290392213.py:3: FutureWarning: The default value of numeric_only in DataFrameGroupBy.mean is deprecated. In a future version, numeric_only will default to False. Either specify numeric_only or select only columns which should be valid for the function.\n",
      "  'alpha','beta','M','N','K','Asloc','Bsloc','Csloc', 'CsOutloc'], as_index=False, sort=True).mean()\n",
      "/tmp/ipykernel_20899/4290392213.py:3: FutureWarning: The default value of numeric_only in DataFrameGroupBy.mean is deprecated. In a future version, numeric_only will default to False. Either specify numeric_only or select only columns which should be valid for the function.\n",
      "  'alpha','beta','M','N','K','Asloc','Bsloc','Csloc', 'CsOutloc'], as_index=False, sort=True).mean()\n",
      "/tmp/ipykernel_20899/4290392213.py:3: FutureWarning: The default value of numeric_only in DataFrameGroupBy.mean is deprecated. In a future version, numeric_only will default to False. Either specify numeric_only or select only columns which should be valid for the function.\n",
      "  'alpha','beta','M','N','K','Asloc','Bsloc','Csloc', 'CsOutloc'], as_index=False, sort=True).mean()\n",
      "/tmp/ipykernel_20899/4290392213.py:3: FutureWarning: The default value of numeric_only in DataFrameGroupBy.mean is deprecated. In a future version, numeric_only will default to False. Either specify numeric_only or select only columns which should be valid for the function.\n",
      "  'alpha','beta','M','N','K','Asloc','Bsloc','Csloc', 'CsOutloc'], as_index=False, sort=True).mean()\n"
     ]
    },
    {
     "name": "stdout",
     "output_type": "stream",
     "text": [
      "loc = [1, 6, 7]\n",
      "XKBLAS_nocache_data_p mean perf = 6688.007987 Gflops/s\n",
      "BLASxEx_data_p mean perf = 9527.277699 Gflops/s\n",
      "BLASxEx_data_p mean perf = 9527.277699 Gflops/s\n",
      "CoCopeLia_data_nohops_alldev_p mean perf = 8182.227681 Gflops/s\n",
      "CoCopeLia_data_rhops_02pen_alldev_p mean perf = 15218.411019 Gflops/s\n",
      "CoCopeLia_data_allhops_02pen_alldev_p mean perf = 16462.790029 Gflops/s\n",
      "CoCopeLia_data_allhops_02pen_ESPA_alldev_p mean perf = nan Gflops/s\n"
     ]
    },
    {
     "name": "stderr",
     "output_type": "stream",
     "text": [
      "/tmp/ipykernel_20899/4290392213.py:3: FutureWarning: The default value of numeric_only in DataFrameGroupBy.mean is deprecated. In a future version, numeric_only will default to False. Either specify numeric_only or select only columns which should be valid for the function.\n",
      "  'alpha','beta','M','N','K','Asloc','Bsloc','Csloc', 'CsOutloc'], as_index=False, sort=True).mean()\n",
      "/tmp/ipykernel_20899/4290392213.py:3: FutureWarning: The default value of numeric_only in DataFrameGroupBy.mean is deprecated. In a future version, numeric_only will default to False. Either specify numeric_only or select only columns which should be valid for the function.\n",
      "  'alpha','beta','M','N','K','Asloc','Bsloc','Csloc', 'CsOutloc'], as_index=False, sort=True).mean()\n",
      "/tmp/ipykernel_20899/4290392213.py:3: FutureWarning: The default value of numeric_only in DataFrameGroupBy.mean is deprecated. In a future version, numeric_only will default to False. Either specify numeric_only or select only columns which should be valid for the function.\n",
      "  'alpha','beta','M','N','K','Asloc','Bsloc','Csloc', 'CsOutloc'], as_index=False, sort=True).mean()\n",
      "/tmp/ipykernel_20899/4290392213.py:3: FutureWarning: The default value of numeric_only in DataFrameGroupBy.mean is deprecated. In a future version, numeric_only will default to False. Either specify numeric_only or select only columns which should be valid for the function.\n",
      "  'alpha','beta','M','N','K','Asloc','Bsloc','Csloc', 'CsOutloc'], as_index=False, sort=True).mean()\n",
      "/tmp/ipykernel_20899/4290392213.py:3: FutureWarning: The default value of numeric_only in DataFrameGroupBy.mean is deprecated. In a future version, numeric_only will default to False. Either specify numeric_only or select only columns which should be valid for the function.\n",
      "  'alpha','beta','M','N','K','Asloc','Bsloc','Csloc', 'CsOutloc'], as_index=False, sort=True).mean()\n",
      "/tmp/ipykernel_20899/4290392213.py:3: FutureWarning: The default value of numeric_only in DataFrameGroupBy.mean is deprecated. In a future version, numeric_only will default to False. Either specify numeric_only or select only columns which should be valid for the function.\n",
      "  'alpha','beta','M','N','K','Asloc','Bsloc','Csloc', 'CsOutloc'], as_index=False, sort=True).mean()\n",
      "/tmp/ipykernel_20899/4290392213.py:3: FutureWarning: The default value of numeric_only in DataFrameGroupBy.mean is deprecated. In a future version, numeric_only will default to False. Either specify numeric_only or select only columns which should be valid for the function.\n",
      "  'alpha','beta','M','N','K','Asloc','Bsloc','Csloc', 'CsOutloc'], as_index=False, sort=True).mean()\n"
     ]
    }
   ],
   "source": [
    "# Plot all, in respect to Problem size\n",
    "for loc in [[-1,-1,-1], [0,0,-1], [4,2,-1], [-1,-1,0], [-1,0,5], [0,0,0], [0,1,2], [0,3,6], [4,2,5], [1,6,7]]:\n",
    "    print(\"loc = \" + str(loc))\n",
    "    fig, ax = plt.subplots()\n",
    "    fig.subplots_adjust(left=.16, bottom=.16, right=.99, top=.86)\n",
    "\n",
    "    XKBLAS_nocache_data_p = CoCoPeLia_grouby_avg(CoCoPeLia_select_indata_locs(XKBLAS_nocache_data, loc[0], loc[1], loc[2]))\n",
    "    XKBLAS_nocache_data_p.sort_values(inplace = True, by = ['bytes'])\n",
    "    print(\"XKBLAS_nocache_data_p mean perf = %lf Gflops/s\" % XKBLAS_nocache_data_p['perf'].mean())\n",
    "    plt.plot(XKBLAS_nocache_data_p['bytes'], XKBLAS_nocache_data_p['perf'], color=cp4[0], label='XKBLAS-fair')\n",
    "\n",
    "    BLASxEx_data_p = CoCoPeLia_grouby_avg(CoCoPeLia_select_indata_locs(BLASxEx_data, loc[0], loc[1], loc[2]))\n",
    "    BLASxEx_data_p.sort_values(inplace = True, by = ['bytes'])\n",
    "    print(\"BLASxEx_data_p mean perf = %lf Gflops/s\" % BLASxEx_data_p['perf'].mean())\n",
    "    plt.plot(BLASxEx_data_p['bytes'], BLASxEx_data_p['perf'], color=cp4[1], label='BLASX-buf-reuse')\n",
    "\n",
    "    cuBLASXt_best_data_p = CoCoPeLia_grouby_avg(CoCoPeLia_select_indata_locs(cuBLASXt_best_data, loc[0], loc[1], loc[2]))\n",
    "    cuBLASXt_best_data_p.sort_values(inplace = True, by = ['bytes'])\n",
    "    print(\"BLASxEx_data_p mean perf = %lf Gflops/s\" % BLASxEx_data_p['perf'].mean())\n",
    "    plt.plot(dgemm_bytes(cuBLASXt_best_data_p), dgemm_flops(cuBLASXt_best_data_p)/(1e9*cuBLASXt_best_data_p['timer']),  color=cp4[2], label='cuBLASXt-best')\n",
    "\n",
    "           \n",
    "    CoCopeLia_data_nohops_alldev_p = CoCoPeLia_grouby_avg(CoCoPeLia_select_indata_locs(CoCopeLia_data_nohops_alldev, loc[0], loc[1], loc[2]))\n",
    "    CoCopeLia_data_nohops_alldev_p.sort_values(inplace = True, by = ['bytes'])\n",
    "    print(\"CoCopeLia_data_nohops_alldev_p mean perf = %lf Gflops/s\" % CoCopeLia_data_nohops_alldev_p['perf'].mean())\n",
    "    plt.plot(CoCopeLia_data_nohops_alldev_p['bytes'], CoCopeLia_data_nohops_alldev_p['perf'], color=cp4[3], label='CoCopeLia.1.2')\n",
    "\n",
    "    CoCopeLia_data_rhops_02pen_alldev_p = CoCoPeLia_grouby_avg(CoCoPeLia_select_indata_locs(CoCopeLia_data_rhops_02pen_alldev, loc[0], loc[1], loc[2]))\n",
    "    CoCopeLia_data_rhops_02pen_alldev_p.sort_values(inplace = True, by = ['bytes'])    \n",
    "    print(\"CoCopeLia_data_rhops_02pen_alldev_p mean perf = %lf Gflops/s\" % CoCopeLia_data_rhops_02pen_alldev_p['perf'].mean())\n",
    "    plt.plot(CoCopeLia_data_rhops_02pen_alldev_p['bytes'], CoCopeLia_data_rhops_02pen_alldev_p['perf'], color='c', label='CoCopeLia.1.4 Allhops')\n",
    "         \n",
    "    CoCopeLia_data_allhops_02pen_alldev_p = CoCoPeLia_grouby_avg(CoCoPeLia_select_indata_locs(CoCopeLia_data_allhops_02pen_alldev, loc[0], loc[1], loc[2]))\n",
    "    CoCopeLia_data_allhops_02pen_alldev_p.sort_values(inplace = True, by = ['bytes'])    \n",
    "    print(\"CoCopeLia_data_allhops_02pen_alldev_p mean perf = %lf Gflops/s\" % CoCopeLia_data_allhops_02pen_alldev_p['perf'].mean())\n",
    "    plt.plot(CoCopeLia_data_allhops_02pen_alldev_p['bytes'], CoCopeLia_data_allhops_02pen_alldev_p['perf'], color='m', label='CoCopeLia.1.4 Rhops')\n",
    "   \n",
    "    CoCopeLia_data_allhops_02pen_ESPA_alldev_p = CoCoPeLia_grouby_avg(CoCoPeLia_select_indata_locs(CoCopeLia_data_allhops_02pen_ESPA_alldev, loc[0], loc[1], loc[2]))\n",
    "    CoCopeLia_data_allhops_02pen_ESPA_alldev_p.sort_values(inplace = True, by = ['bytes'])    \n",
    "    print(\"CoCopeLia_data_allhops_02pen_ESPA_alldev_p mean perf = %lf Gflops/s\" % CoCopeLia_data_allhops_02pen_ESPA_alldev_p['perf'].mean())\n",
    "    plt.plot(CoCopeLia_data_allhops_02pen_ESPA_alldev_p['bytes'], CoCopeLia_data_allhops_02pen_ESPA_alldev_p['perf'], color='b', label='CoCopeLia.1.4 ESPA')\n",
    "    \n",
    "    plt.grid(axis='y')\n",
    "    plt.ylabel('Performance (Gflops/s)')\n",
    "    plt.xlabel('Problem Size')\n",
    "\n",
    "    #ymin, ymax = ax.get_ylim()\n",
    "    xmin, xmax = ax.get_xlim()\n",
    "    plt.axhline(Rmax_Gflops, linewidth = 0.5, color='b', linestyle = '--')\n",
    "    plt.text(xmax - (xmax-xmin)*0.05, Rmax_Gflops*0.95, 'Peak' , fontsize = font -2, color='b')\n",
    "    #plt.axvline(MemMax,color='c',linewidth = 0.5, linestyle = '--')\n",
    "    #plt.text(MemMax*1.01, ymin + (ymax-ymin)*0.05, 'Combined GPU Mem', fontsize = font -2, color='c')\n",
    "\n",
    "    plt.xscale('log')\n",
    "    #fig.set_size_inches(width, height)\n",
    "    fig.legend(loc = 'upper center',#title=\"Model\",  # Title for the legend\n",
    "        fontsize=font, fancybox = False, ncol=3)\n",
    "    #fig.savefig('Plot-Transpose-Comparisson-%s.pdf' % machine)\n",
    "    fig.savefig('Plots/MaxDev/Plot_testbed-%s_gflops_dataloc_%d_%d_%d.png' % (machine, loc[0], loc[1], loc[2]))\n",
    "    fig.savefig('Plots/MaxDev/Plot_testbed-%s_gflops_dataloc_%d_%d_%d.pdf' % (machine, loc[0], loc[1], loc[2]))\n",
    "    plt.close()"
   ]
  },
  {
   "cell_type": "code",
   "execution_count": null,
   "metadata": {},
   "outputs": [],
   "source": []
  },
  {
   "cell_type": "code",
   "execution_count": null,
   "metadata": {},
   "outputs": [],
   "source": []
  },
  {
   "cell_type": "code",
   "execution_count": null,
   "metadata": {},
   "outputs": [],
   "source": []
  }
 ],
 "metadata": {
  "kernelspec": {
   "display_name": "Python 3 (ipykernel)",
   "language": "python",
   "name": "python3"
  },
  "language_info": {
   "codemirror_mode": {
    "name": "ipython",
    "version": 3
   },
   "file_extension": ".py",
   "mimetype": "text/x-python",
   "name": "python",
   "nbconvert_exporter": "python",
   "pygments_lexer": "ipython3",
   "version": "3.10.6"
  }
 },
 "nbformat": 4,
 "nbformat_minor": 4
}
