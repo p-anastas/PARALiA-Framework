{
 "cells": [
  {
   "cell_type": "code",
   "execution_count": 1,
   "metadata": {},
   "outputs": [],
   "source": [
    "import pandas as pd\n",
    "import math\n",
    "import matplotlib as mpl\n",
    "#mpl.use('pdf')\n",
    "import matplotlib.pyplot as plt\n",
    "import numpy as np\n",
    "from collections import OrderedDict\n",
    "import matplotlib\n",
    "import seaborn as sns\n",
    "#Red\n",
    "red1= sns.color_palette(\"Reds_d\",1)\n",
    "red2= sns.color_palette(\"Reds_d\",2)\n",
    "red3= sns.color_palette(\"Reds_d\",3)\n",
    "red4= sns.color_palette(\"Reds_d\",4)\n",
    "red5= sns.color_palette(\"Reds_d\",5)\n",
    "red6= sns.color_palette(\"Reds_d\",6)\n",
    "red7= sns.color_palette(\"Reds_d\",7)\n",
    "red8= sns.color_palette(\"Reds_d\",8)\n",
    "\n",
    "#YellowGreen\n",
    "yg1= sns.color_palette(\"YlGn_d\",1)\n",
    "yg2= sns.color_palette(\"YlGn_d\",2)\n",
    "yg3= sns.color_palette(\"YlGn_d\",3)\n",
    "yg4= sns.color_palette(\"YlGn_d\",4)\n",
    "yg5= sns.color_palette(\"YlGn_d\",5)\n",
    "yg7= sns.color_palette(\"YlGn_d\",7)\n",
    "\n",
    "#GreenBlue\n",
    "gb1= sns.color_palette(\"GnBu_d\",1)\n",
    "gb2= sns.color_palette(\"GnBu_d\",2)\n",
    "gb3= sns.color_palette(\"GnBu_d\",3)\n",
    "gb4= sns.color_palette(\"GnBu_d\",4)\n",
    "gb5= sns.color_palette(\"GnBu_d\",5)\n",
    "gb6= sns.color_palette(\"GnBu_d\",6)\n",
    "gb7= sns.color_palette(\"GnBu_d\",7)\n",
    "gb8= sns.color_palette(\"GnBu_d\",8)\n",
    "\n",
    "cp2 = list(map(lambda x: sns.desaturate(x,0.9),[red7[2],gb7[4]]))\n",
    "cp2v1 = list(map(lambda x: sns.desaturate(x,0.9),[red7[2],yg7[0]]))\n",
    "cp3 = list(map(lambda x: sns.desaturate(x,0.9),[yg7[0],gb7[4],red7[2]]))\n",
    "cp4 = list(map(lambda x: sns.desaturate(x,0.9),[yg7[6],gb7[4],red7[2],yg7[0]]))\n",
    "cp2_2 = list(map(lambda x: sns.desaturate(x,0.9),[red7[0],red7[3],gb7[4],gb7[6]]))\n",
    "cp_total_spectrum = list(map(lambda x: sns.desaturate(x,0.9),gb7 + yg7 + red7))"
   ]
  },
  {
   "cell_type": "code",
   "execution_count": 2,
   "metadata": {},
   "outputs": [
    {
     "data": {
      "text/html": [
       "<svg  width=\"220\" height=\"55\"><rect x=\"0\" y=\"0\" width=\"55\" height=\"55\" style=\"fill:#354c3c;stroke-width:2;stroke:rgb(255,255,255)\"/><rect x=\"55\" y=\"0\" width=\"55\" height=\"55\" style=\"fill:#4486a0;stroke-width:2;stroke:rgb(255,255,255)\"/><rect x=\"110\" y=\"0\" width=\"55\" height=\"55\" style=\"fill:#e15246;stroke-width:2;stroke:rgb(255,255,255)\"/><rect x=\"165\" y=\"0\" width=\"55\" height=\"55\" style=\"fill:#9cce89;stroke-width:2;stroke:rgb(255,255,255)\"/></svg>"
      ],
      "text/plain": [
       "[(0.20872433679354097, 0.2971118800461361, 0.23389619377162635),\n",
       " (0.2649160579264386, 0.5270152505446624, 0.6269460463924131),\n",
       " (0.8807358708189157, 0.32277047289504046, 0.2744659746251443),\n",
       " (0.6120315263360248, 0.8081330257593233, 0.5357962322183778)]"
      ]
     },
     "execution_count": 2,
     "metadata": {},
     "output_type": "execute_result"
    }
   ],
   "source": [
    "sns.set_palette(cp4)\n",
    "sns.color_palette()"
   ]
  },
  {
   "cell_type": "code",
   "execution_count": 3,
   "metadata": {},
   "outputs": [
    {
     "data": {
      "text/html": [
       "<svg  width=\"110\" height=\"55\"><rect x=\"0\" y=\"0\" width=\"55\" height=\"55\" style=\"fill:#e15246;stroke-width:2;stroke:rgb(255,255,255)\"/><rect x=\"55\" y=\"0\" width=\"55\" height=\"55\" style=\"fill:#9cce89;stroke-width:2;stroke:rgb(255,255,255)\"/></svg>"
      ],
      "text/plain": [
       "[(0.8807358708189157, 0.32277047289504046, 0.2744659746251443),\n",
       " (0.6120315263360248, 0.8081330257593233, 0.5357962322183778)]"
      ]
     },
     "execution_count": 3,
     "metadata": {},
     "output_type": "execute_result"
    }
   ],
   "source": [
    "sns.set_palette(cp2v1)\n",
    "sns.color_palette()"
   ]
  },
  {
   "cell_type": "code",
   "execution_count": 4,
   "metadata": {},
   "outputs": [
    {
     "data": {
      "text/html": [
       "<svg  width=\"165\" height=\"55\"><rect x=\"0\" y=\"0\" width=\"55\" height=\"55\" style=\"fill:#9cce89;stroke-width:2;stroke:rgb(255,255,255)\"/><rect x=\"55\" y=\"0\" width=\"55\" height=\"55\" style=\"fill:#4486a0;stroke-width:2;stroke:rgb(255,255,255)\"/><rect x=\"110\" y=\"0\" width=\"55\" height=\"55\" style=\"fill:#e15246;stroke-width:2;stroke:rgb(255,255,255)\"/></svg>"
      ],
      "text/plain": [
       "[(0.6120315263360248, 0.8081330257593233, 0.5357962322183778),\n",
       " (0.2649160579264386, 0.5270152505446624, 0.6269460463924131),\n",
       " (0.8807358708189157, 0.32277047289504046, 0.2744659746251443)]"
      ]
     },
     "execution_count": 4,
     "metadata": {},
     "output_type": "execute_result"
    }
   ],
   "source": [
    "sns.set_palette(cp3)\n",
    "sns.color_palette()"
   ]
  },
  {
   "cell_type": "code",
   "execution_count": 7,
   "metadata": {},
   "outputs": [
    {
     "name": "stdout",
     "output_type": "stream",
     "text": [
      "CoCopeLia_data_rhops len: 6060\n",
      "CoCopeLia_data_rhops_alldev len: 6020\n",
      "\n",
      "CoCopeLia_data_nosel_nohops_alldev len: 620\n",
      "cuBLASXt_best_data len: 610\n",
      "\n"
     ]
    },
    {
     "ename": "FileNotFoundError",
     "evalue": "[Errno 2] No such file or directory: '/home/panastas/mount_vulcan/PhD_stuff/CoCoPeLia-Framework-bench-Rhops-0.2pen/vulcan-build/vulcan-install/Benchmarking/testLogs/CoCoPeLiaDgemmRunner_predefined_vals_ST-2D-BLOCK-CYCLIC__UN-PB-L4_RONLY-HOPS-1-0.20_PW-PRED-PERF_1.4.log'",
     "output_type": "error",
     "traceback": [
      "\u001b[0;31m---------------------------------------------------------------------------\u001b[0m",
      "\u001b[0;31mFileNotFoundError\u001b[0m                         Traceback (most recent call last)",
      "Cell \u001b[0;32mIn [7], line 59\u001b[0m\n\u001b[1;32m     57\u001b[0m impl_hops\u001b[38;5;241m=\u001b[39m\u001b[38;5;124m\"\u001b[39m\u001b[38;5;124m_RONLY-HOPS-1-0.20\u001b[39m\u001b[38;5;124m\"\u001b[39m\n\u001b[1;32m     58\u001b[0m benchdir\u001b[38;5;241m=\u001b[39m homedir \u001b[38;5;241m+\u001b[39m \u001b[38;5;124m\"\u001b[39m\u001b[38;5;124m/PhD_stuff/CoCoPeLia-Framework-bench-Rhops-0.2pen\u001b[39m\u001b[38;5;124m\"\u001b[39m\n\u001b[0;32m---> 59\u001b[0m CoCopeLia_data_rhops_02pen_alldev \u001b[38;5;241m=\u001b[39m keep_dev_8(CoCoPeLia_log_read(\u001b[38;5;124m'\u001b[39m\u001b[38;5;132;01m%s\u001b[39;00m\u001b[38;5;124m/\u001b[39m\u001b[38;5;132;01m%s\u001b[39;00m\u001b[38;5;124m-build/\u001b[39m\u001b[38;5;132;01m%s\u001b[39;00m\u001b[38;5;124m-install/Benchmarking/testLogs/CoCoPeLiaDgemmRunner_predefined_vals_\u001b[39m\u001b[38;5;132;01m%s\u001b[39;00m\u001b[38;5;124m_\u001b[39m\u001b[38;5;132;01m%s\u001b[39;00m\u001b[38;5;132;01m%s\u001b[39;00m\u001b[38;5;132;01m%s\u001b[39;00m\u001b[38;5;132;01m%s\u001b[39;00m\u001b[38;5;124m_\u001b[39m\u001b[38;5;132;01m%s\u001b[39;00m\u001b[38;5;124m.log\u001b[39m\u001b[38;5;124m'\u001b[39m \n\u001b[1;32m     60\u001b[0m                                                                   \u001b[38;5;241m%\u001b[39m(benchdir, machine, machine, split, sr_over, implementation, impl_hops, pw_optimize, version)))\n\u001b[1;32m     61\u001b[0m \u001b[38;5;28mprint\u001b[39m(\u001b[38;5;124m'\u001b[39m\u001b[38;5;124mCoCopeLia_data_rhops_02pen_alldev len: \u001b[39m\u001b[38;5;132;01m%d\u001b[39;00m\u001b[38;5;124m'\u001b[39m \u001b[38;5;241m%\u001b[39m \u001b[38;5;28mlen\u001b[39m(CoCopeLia_data_rhops_02pen_alldev))\n\u001b[1;32m     62\u001b[0m BLASxEx_data \u001b[38;5;241m=\u001b[39m CoCoPeLia_log_read(\u001b[38;5;124m'\u001b[39m\u001b[38;5;132;01m%s\u001b[39;00m\u001b[38;5;124m/\u001b[39m\u001b[38;5;132;01m%s\u001b[39;00m\u001b[38;5;124m-build/\u001b[39m\u001b[38;5;132;01m%s\u001b[39;00m\u001b[38;5;124m-install/Benchmarking/testLogs/BLASxExDgemmRunner_\u001b[39m\u001b[38;5;132;01m%s\u001b[39;00m\u001b[38;5;124m_\u001b[39m\u001b[38;5;132;01m%s\u001b[39;00m\u001b[38;5;132;01m%s\u001b[39;00m\u001b[38;5;132;01m%s\u001b[39;00m\u001b[38;5;132;01m%s\u001b[39;00m\u001b[38;5;124m_\u001b[39m\u001b[38;5;132;01m%s\u001b[39;00m\u001b[38;5;124m.log\u001b[39m\u001b[38;5;124m'\u001b[39m \u001b[38;5;241m%\u001b[39m(benchdir, machine, machine, split, sr_over, implementation, impl_hops, pw_optimize, version))\n",
      "Cell \u001b[0;32mIn [7], line 2\u001b[0m, in \u001b[0;36mCoCoPeLia_log_read\u001b[0;34m(filename)\u001b[0m\n\u001b[1;32m      1\u001b[0m \u001b[38;5;28;01mdef\u001b[39;00m \u001b[38;5;21mCoCoPeLia_log_read\u001b[39m(filename):\n\u001b[0;32m----> 2\u001b[0m     temp \u001b[38;5;241m=\u001b[39m \u001b[43mpd\u001b[49m\u001b[38;5;241;43m.\u001b[39;49m\u001b[43mread_csv\u001b[49m\u001b[43m(\u001b[49m\u001b[43mfilename\u001b[49m\u001b[43m,\u001b[49m\u001b[43m \u001b[49m\u001b[43mheader\u001b[49m\u001b[38;5;241;43m=\u001b[39;49m\u001b[38;5;28;43;01mNone\u001b[39;49;00m\u001b[43m,\u001b[49m\u001b[43m \u001b[49m\u001b[43mnames\u001b[49m\u001b[43m \u001b[49m\u001b[38;5;241;43m=\u001b[39;49m\u001b[43m \u001b[49m\u001b[43m[\u001b[49m\u001b[38;5;124;43m'\u001b[39;49m\u001b[38;5;124;43mT\u001b[39;49m\u001b[38;5;124;43m'\u001b[39;49m\u001b[43m,\u001b[49m\u001b[38;5;124;43m'\u001b[39;49m\u001b[38;5;124;43mdev_num\u001b[39;49m\u001b[38;5;124;43m'\u001b[39;49m\u001b[43m,\u001b[49m\u001b[43m \u001b[49m\u001b[38;5;124;43m'\u001b[39;49m\u001b[38;5;124;43mdev_id_token\u001b[39;49m\u001b[38;5;124;43m'\u001b[39;49m\u001b[43m,\u001b[49m\u001b[43m \u001b[49m\u001b[38;5;124;43m'\u001b[39;49m\u001b[38;5;124;43mcachesize_limit\u001b[39;49m\u001b[38;5;124;43m'\u001b[39;49m\u001b[43m,\u001b[49m\u001b[38;5;124;43m'\u001b[39;49m\u001b[38;5;124;43mTransA\u001b[39;49m\u001b[38;5;124;43m'\u001b[39;49m\u001b[43m,\u001b[49m\u001b[38;5;124;43m'\u001b[39;49m\u001b[38;5;124;43mTransB\u001b[39;49m\u001b[38;5;124;43m'\u001b[39;49m\u001b[43m,\u001b[49m\n\u001b[1;32m      3\u001b[0m \u001b[43m                                                    \u001b[49m\u001b[38;5;124;43m'\u001b[39;49m\u001b[38;5;124;43malpha\u001b[39;49m\u001b[38;5;124;43m'\u001b[39;49m\u001b[43m,\u001b[49m\u001b[38;5;124;43m'\u001b[39;49m\u001b[38;5;124;43mbeta\u001b[39;49m\u001b[38;5;124;43m'\u001b[39;49m\u001b[43m,\u001b[49m\u001b[38;5;124;43m'\u001b[39;49m\u001b[38;5;124;43mM\u001b[39;49m\u001b[38;5;124;43m'\u001b[39;49m\u001b[43m,\u001b[49m\u001b[38;5;124;43m'\u001b[39;49m\u001b[38;5;124;43mN\u001b[39;49m\u001b[38;5;124;43m'\u001b[39;49m\u001b[43m,\u001b[49m\u001b[38;5;124;43m'\u001b[39;49m\u001b[38;5;124;43mK\u001b[39;49m\u001b[38;5;124;43m'\u001b[39;49m\u001b[43m,\u001b[49m\u001b[38;5;124;43m'\u001b[39;49m\u001b[38;5;124;43mAsloc\u001b[39;49m\u001b[38;5;124;43m'\u001b[39;49m\u001b[43m,\u001b[49m\u001b[38;5;124;43m'\u001b[39;49m\u001b[38;5;124;43mBsloc\u001b[39;49m\u001b[38;5;124;43m'\u001b[39;49m\u001b[43m,\u001b[49m\u001b[38;5;124;43m'\u001b[39;49m\u001b[38;5;124;43mCsloc\u001b[39;49m\u001b[38;5;124;43m'\u001b[39;49m\u001b[43m,\u001b[49m\u001b[43m \u001b[49m\u001b[38;5;124;43m'\u001b[39;49m\u001b[38;5;124;43mCsOutloc\u001b[39;49m\u001b[38;5;124;43m'\u001b[39;49m\u001b[43m,\u001b[49m\u001b[43m \u001b[49m\u001b[38;5;124;43m'\u001b[39;49m\u001b[38;5;124;43mtimer\u001b[39;49m\u001b[38;5;124;43m'\u001b[39;49m\u001b[43m]\u001b[49m\u001b[43m,\u001b[49m\u001b[43m \u001b[49m\n\u001b[1;32m      4\u001b[0m \u001b[43m                                                     \u001b[49m\u001b[43mdtype\u001b[49m\u001b[43m \u001b[49m\u001b[38;5;241;43m=\u001b[39;49m\u001b[43m \u001b[49m\u001b[43m{\u001b[49m\u001b[38;5;124;43m'\u001b[39;49m\u001b[38;5;124;43mM\u001b[39;49m\u001b[38;5;124;43m'\u001b[39;49m\u001b[43m:\u001b[49m\u001b[43m \u001b[49m\u001b[43mnp\u001b[49m\u001b[38;5;241;43m.\u001b[39;49m\u001b[43mint64\u001b[49m\u001b[43m,\u001b[49m\u001b[43m \u001b[49m\u001b[38;5;124;43m'\u001b[39;49m\u001b[38;5;124;43mN\u001b[39;49m\u001b[38;5;124;43m'\u001b[39;49m\u001b[43m:\u001b[49m\u001b[43m \u001b[49m\u001b[43mnp\u001b[49m\u001b[38;5;241;43m.\u001b[39;49m\u001b[43mint64\u001b[49m\u001b[43m,\u001b[49m\u001b[43m \u001b[49m\u001b[38;5;124;43m'\u001b[39;49m\u001b[38;5;124;43mK\u001b[39;49m\u001b[38;5;124;43m'\u001b[39;49m\u001b[43m:\u001b[49m\u001b[43m \u001b[49m\u001b[43mnp\u001b[49m\u001b[38;5;241;43m.\u001b[39;49m\u001b[43mint64\u001b[49m\u001b[43m,\u001b[49m\u001b[43m \u001b[49m\u001b[38;5;124;43m'\u001b[39;49m\u001b[38;5;124;43mtimer\u001b[39;49m\u001b[38;5;124;43m'\u001b[39;49m\u001b[43m:\u001b[49m\u001b[43m \u001b[49m\u001b[43mnp\u001b[49m\u001b[38;5;241;43m.\u001b[39;49m\u001b[43mfloat64\u001b[49m\u001b[43m}\u001b[49m\u001b[43m \u001b[49m\u001b[43m)\u001b[49m\n\u001b[1;32m      5\u001b[0m     temp\u001b[38;5;241m.\u001b[39msort_values(by\u001b[38;5;241m=\u001b[39m[\u001b[38;5;124m'\u001b[39m\u001b[38;5;124mM\u001b[39m\u001b[38;5;124m'\u001b[39m,\u001b[38;5;124m'\u001b[39m\u001b[38;5;124mN\u001b[39m\u001b[38;5;124m'\u001b[39m,\u001b[38;5;124m'\u001b[39m\u001b[38;5;124mK\u001b[39m\u001b[38;5;124m'\u001b[39m])\n\u001b[1;32m      6\u001b[0m     \u001b[38;5;28;01mreturn\u001b[39;00m temp\n",
      "File \u001b[0;32m~/.local/lib/python3.10/site-packages/pandas/util/_decorators.py:311\u001b[0m, in \u001b[0;36mdeprecate_nonkeyword_arguments.<locals>.decorate.<locals>.wrapper\u001b[0;34m(*args, **kwargs)\u001b[0m\n\u001b[1;32m    305\u001b[0m \u001b[38;5;28;01mif\u001b[39;00m \u001b[38;5;28mlen\u001b[39m(args) \u001b[38;5;241m>\u001b[39m num_allow_args:\n\u001b[1;32m    306\u001b[0m     warnings\u001b[38;5;241m.\u001b[39mwarn(\n\u001b[1;32m    307\u001b[0m         msg\u001b[38;5;241m.\u001b[39mformat(arguments\u001b[38;5;241m=\u001b[39marguments),\n\u001b[1;32m    308\u001b[0m         \u001b[38;5;167;01mFutureWarning\u001b[39;00m,\n\u001b[1;32m    309\u001b[0m         stacklevel\u001b[38;5;241m=\u001b[39mstacklevel,\n\u001b[1;32m    310\u001b[0m     )\n\u001b[0;32m--> 311\u001b[0m \u001b[38;5;28;01mreturn\u001b[39;00m \u001b[43mfunc\u001b[49m\u001b[43m(\u001b[49m\u001b[38;5;241;43m*\u001b[39;49m\u001b[43margs\u001b[49m\u001b[43m,\u001b[49m\u001b[43m \u001b[49m\u001b[38;5;241;43m*\u001b[39;49m\u001b[38;5;241;43m*\u001b[39;49m\u001b[43mkwargs\u001b[49m\u001b[43m)\u001b[49m\n",
      "File \u001b[0;32m~/.local/lib/python3.10/site-packages/pandas/io/parsers/readers.py:678\u001b[0m, in \u001b[0;36mread_csv\u001b[0;34m(filepath_or_buffer, sep, delimiter, header, names, index_col, usecols, squeeze, prefix, mangle_dupe_cols, dtype, engine, converters, true_values, false_values, skipinitialspace, skiprows, skipfooter, nrows, na_values, keep_default_na, na_filter, verbose, skip_blank_lines, parse_dates, infer_datetime_format, keep_date_col, date_parser, dayfirst, cache_dates, iterator, chunksize, compression, thousands, decimal, lineterminator, quotechar, quoting, doublequote, escapechar, comment, encoding, encoding_errors, dialect, error_bad_lines, warn_bad_lines, on_bad_lines, delim_whitespace, low_memory, memory_map, float_precision, storage_options)\u001b[0m\n\u001b[1;32m    663\u001b[0m kwds_defaults \u001b[38;5;241m=\u001b[39m _refine_defaults_read(\n\u001b[1;32m    664\u001b[0m     dialect,\n\u001b[1;32m    665\u001b[0m     delimiter,\n\u001b[0;32m   (...)\u001b[0m\n\u001b[1;32m    674\u001b[0m     defaults\u001b[38;5;241m=\u001b[39m{\u001b[38;5;124m\"\u001b[39m\u001b[38;5;124mdelimiter\u001b[39m\u001b[38;5;124m\"\u001b[39m: \u001b[38;5;124m\"\u001b[39m\u001b[38;5;124m,\u001b[39m\u001b[38;5;124m\"\u001b[39m},\n\u001b[1;32m    675\u001b[0m )\n\u001b[1;32m    676\u001b[0m kwds\u001b[38;5;241m.\u001b[39mupdate(kwds_defaults)\n\u001b[0;32m--> 678\u001b[0m \u001b[38;5;28;01mreturn\u001b[39;00m \u001b[43m_read\u001b[49m\u001b[43m(\u001b[49m\u001b[43mfilepath_or_buffer\u001b[49m\u001b[43m,\u001b[49m\u001b[43m \u001b[49m\u001b[43mkwds\u001b[49m\u001b[43m)\u001b[49m\n",
      "File \u001b[0;32m~/.local/lib/python3.10/site-packages/pandas/io/parsers/readers.py:575\u001b[0m, in \u001b[0;36m_read\u001b[0;34m(filepath_or_buffer, kwds)\u001b[0m\n\u001b[1;32m    572\u001b[0m _validate_names(kwds\u001b[38;5;241m.\u001b[39mget(\u001b[38;5;124m\"\u001b[39m\u001b[38;5;124mnames\u001b[39m\u001b[38;5;124m\"\u001b[39m, \u001b[38;5;28;01mNone\u001b[39;00m))\n\u001b[1;32m    574\u001b[0m \u001b[38;5;66;03m# Create the parser.\u001b[39;00m\n\u001b[0;32m--> 575\u001b[0m parser \u001b[38;5;241m=\u001b[39m \u001b[43mTextFileReader\u001b[49m\u001b[43m(\u001b[49m\u001b[43mfilepath_or_buffer\u001b[49m\u001b[43m,\u001b[49m\u001b[43m \u001b[49m\u001b[38;5;241;43m*\u001b[39;49m\u001b[38;5;241;43m*\u001b[39;49m\u001b[43mkwds\u001b[49m\u001b[43m)\u001b[49m\n\u001b[1;32m    577\u001b[0m \u001b[38;5;28;01mif\u001b[39;00m chunksize \u001b[38;5;129;01mor\u001b[39;00m iterator:\n\u001b[1;32m    578\u001b[0m     \u001b[38;5;28;01mreturn\u001b[39;00m parser\n",
      "File \u001b[0;32m~/.local/lib/python3.10/site-packages/pandas/io/parsers/readers.py:932\u001b[0m, in \u001b[0;36mTextFileReader.__init__\u001b[0;34m(self, f, engine, **kwds)\u001b[0m\n\u001b[1;32m    929\u001b[0m     \u001b[38;5;28mself\u001b[39m\u001b[38;5;241m.\u001b[39moptions[\u001b[38;5;124m\"\u001b[39m\u001b[38;5;124mhas_index_names\u001b[39m\u001b[38;5;124m\"\u001b[39m] \u001b[38;5;241m=\u001b[39m kwds[\u001b[38;5;124m\"\u001b[39m\u001b[38;5;124mhas_index_names\u001b[39m\u001b[38;5;124m\"\u001b[39m]\n\u001b[1;32m    931\u001b[0m \u001b[38;5;28mself\u001b[39m\u001b[38;5;241m.\u001b[39mhandles: IOHandles \u001b[38;5;241m|\u001b[39m \u001b[38;5;28;01mNone\u001b[39;00m \u001b[38;5;241m=\u001b[39m \u001b[38;5;28;01mNone\u001b[39;00m\n\u001b[0;32m--> 932\u001b[0m \u001b[38;5;28mself\u001b[39m\u001b[38;5;241m.\u001b[39m_engine \u001b[38;5;241m=\u001b[39m \u001b[38;5;28;43mself\u001b[39;49m\u001b[38;5;241;43m.\u001b[39;49m\u001b[43m_make_engine\u001b[49m\u001b[43m(\u001b[49m\u001b[43mf\u001b[49m\u001b[43m,\u001b[49m\u001b[43m \u001b[49m\u001b[38;5;28;43mself\u001b[39;49m\u001b[38;5;241;43m.\u001b[39;49m\u001b[43mengine\u001b[49m\u001b[43m)\u001b[49m\n",
      "File \u001b[0;32m~/.local/lib/python3.10/site-packages/pandas/io/parsers/readers.py:1216\u001b[0m, in \u001b[0;36mTextFileReader._make_engine\u001b[0;34m(self, f, engine)\u001b[0m\n\u001b[1;32m   1212\u001b[0m     mode \u001b[38;5;241m=\u001b[39m \u001b[38;5;124m\"\u001b[39m\u001b[38;5;124mrb\u001b[39m\u001b[38;5;124m\"\u001b[39m\n\u001b[1;32m   1213\u001b[0m \u001b[38;5;66;03m# error: No overload variant of \"get_handle\" matches argument types\u001b[39;00m\n\u001b[1;32m   1214\u001b[0m \u001b[38;5;66;03m# \"Union[str, PathLike[str], ReadCsvBuffer[bytes], ReadCsvBuffer[str]]\"\u001b[39;00m\n\u001b[1;32m   1215\u001b[0m \u001b[38;5;66;03m# , \"str\", \"bool\", \"Any\", \"Any\", \"Any\", \"Any\", \"Any\"\u001b[39;00m\n\u001b[0;32m-> 1216\u001b[0m \u001b[38;5;28mself\u001b[39m\u001b[38;5;241m.\u001b[39mhandles \u001b[38;5;241m=\u001b[39m \u001b[43mget_handle\u001b[49m\u001b[43m(\u001b[49m\u001b[43m  \u001b[49m\u001b[38;5;66;43;03m# type: ignore[call-overload]\u001b[39;49;00m\n\u001b[1;32m   1217\u001b[0m \u001b[43m    \u001b[49m\u001b[43mf\u001b[49m\u001b[43m,\u001b[49m\n\u001b[1;32m   1218\u001b[0m \u001b[43m    \u001b[49m\u001b[43mmode\u001b[49m\u001b[43m,\u001b[49m\n\u001b[1;32m   1219\u001b[0m \u001b[43m    \u001b[49m\u001b[43mencoding\u001b[49m\u001b[38;5;241;43m=\u001b[39;49m\u001b[38;5;28;43mself\u001b[39;49m\u001b[38;5;241;43m.\u001b[39;49m\u001b[43moptions\u001b[49m\u001b[38;5;241;43m.\u001b[39;49m\u001b[43mget\u001b[49m\u001b[43m(\u001b[49m\u001b[38;5;124;43m\"\u001b[39;49m\u001b[38;5;124;43mencoding\u001b[39;49m\u001b[38;5;124;43m\"\u001b[39;49m\u001b[43m,\u001b[49m\u001b[43m \u001b[49m\u001b[38;5;28;43;01mNone\u001b[39;49;00m\u001b[43m)\u001b[49m\u001b[43m,\u001b[49m\n\u001b[1;32m   1220\u001b[0m \u001b[43m    \u001b[49m\u001b[43mcompression\u001b[49m\u001b[38;5;241;43m=\u001b[39;49m\u001b[38;5;28;43mself\u001b[39;49m\u001b[38;5;241;43m.\u001b[39;49m\u001b[43moptions\u001b[49m\u001b[38;5;241;43m.\u001b[39;49m\u001b[43mget\u001b[49m\u001b[43m(\u001b[49m\u001b[38;5;124;43m\"\u001b[39;49m\u001b[38;5;124;43mcompression\u001b[39;49m\u001b[38;5;124;43m\"\u001b[39;49m\u001b[43m,\u001b[49m\u001b[43m \u001b[49m\u001b[38;5;28;43;01mNone\u001b[39;49;00m\u001b[43m)\u001b[49m\u001b[43m,\u001b[49m\n\u001b[1;32m   1221\u001b[0m \u001b[43m    \u001b[49m\u001b[43mmemory_map\u001b[49m\u001b[38;5;241;43m=\u001b[39;49m\u001b[38;5;28;43mself\u001b[39;49m\u001b[38;5;241;43m.\u001b[39;49m\u001b[43moptions\u001b[49m\u001b[38;5;241;43m.\u001b[39;49m\u001b[43mget\u001b[49m\u001b[43m(\u001b[49m\u001b[38;5;124;43m\"\u001b[39;49m\u001b[38;5;124;43mmemory_map\u001b[39;49m\u001b[38;5;124;43m\"\u001b[39;49m\u001b[43m,\u001b[49m\u001b[43m \u001b[49m\u001b[38;5;28;43;01mFalse\u001b[39;49;00m\u001b[43m)\u001b[49m\u001b[43m,\u001b[49m\n\u001b[1;32m   1222\u001b[0m \u001b[43m    \u001b[49m\u001b[43mis_text\u001b[49m\u001b[38;5;241;43m=\u001b[39;49m\u001b[43mis_text\u001b[49m\u001b[43m,\u001b[49m\n\u001b[1;32m   1223\u001b[0m \u001b[43m    \u001b[49m\u001b[43merrors\u001b[49m\u001b[38;5;241;43m=\u001b[39;49m\u001b[38;5;28;43mself\u001b[39;49m\u001b[38;5;241;43m.\u001b[39;49m\u001b[43moptions\u001b[49m\u001b[38;5;241;43m.\u001b[39;49m\u001b[43mget\u001b[49m\u001b[43m(\u001b[49m\u001b[38;5;124;43m\"\u001b[39;49m\u001b[38;5;124;43mencoding_errors\u001b[39;49m\u001b[38;5;124;43m\"\u001b[39;49m\u001b[43m,\u001b[49m\u001b[43m \u001b[49m\u001b[38;5;124;43m\"\u001b[39;49m\u001b[38;5;124;43mstrict\u001b[39;49m\u001b[38;5;124;43m\"\u001b[39;49m\u001b[43m)\u001b[49m\u001b[43m,\u001b[49m\n\u001b[1;32m   1224\u001b[0m \u001b[43m    \u001b[49m\u001b[43mstorage_options\u001b[49m\u001b[38;5;241;43m=\u001b[39;49m\u001b[38;5;28;43mself\u001b[39;49m\u001b[38;5;241;43m.\u001b[39;49m\u001b[43moptions\u001b[49m\u001b[38;5;241;43m.\u001b[39;49m\u001b[43mget\u001b[49m\u001b[43m(\u001b[49m\u001b[38;5;124;43m\"\u001b[39;49m\u001b[38;5;124;43mstorage_options\u001b[39;49m\u001b[38;5;124;43m\"\u001b[39;49m\u001b[43m,\u001b[49m\u001b[43m \u001b[49m\u001b[38;5;28;43;01mNone\u001b[39;49;00m\u001b[43m)\u001b[49m\u001b[43m,\u001b[49m\n\u001b[1;32m   1225\u001b[0m \u001b[43m\u001b[49m\u001b[43m)\u001b[49m\n\u001b[1;32m   1226\u001b[0m \u001b[38;5;28;01massert\u001b[39;00m \u001b[38;5;28mself\u001b[39m\u001b[38;5;241m.\u001b[39mhandles \u001b[38;5;129;01mis\u001b[39;00m \u001b[38;5;129;01mnot\u001b[39;00m \u001b[38;5;28;01mNone\u001b[39;00m\n\u001b[1;32m   1227\u001b[0m f \u001b[38;5;241m=\u001b[39m \u001b[38;5;28mself\u001b[39m\u001b[38;5;241m.\u001b[39mhandles\u001b[38;5;241m.\u001b[39mhandle\n",
      "File \u001b[0;32m~/.local/lib/python3.10/site-packages/pandas/io/common.py:786\u001b[0m, in \u001b[0;36mget_handle\u001b[0;34m(path_or_buf, mode, encoding, compression, memory_map, is_text, errors, storage_options)\u001b[0m\n\u001b[1;32m    781\u001b[0m \u001b[38;5;28;01melif\u001b[39;00m \u001b[38;5;28misinstance\u001b[39m(handle, \u001b[38;5;28mstr\u001b[39m):\n\u001b[1;32m    782\u001b[0m     \u001b[38;5;66;03m# Check whether the filename is to be opened in binary mode.\u001b[39;00m\n\u001b[1;32m    783\u001b[0m     \u001b[38;5;66;03m# Binary mode does not support 'encoding' and 'newline'.\u001b[39;00m\n\u001b[1;32m    784\u001b[0m     \u001b[38;5;28;01mif\u001b[39;00m ioargs\u001b[38;5;241m.\u001b[39mencoding \u001b[38;5;129;01mand\u001b[39;00m \u001b[38;5;124m\"\u001b[39m\u001b[38;5;124mb\u001b[39m\u001b[38;5;124m\"\u001b[39m \u001b[38;5;129;01mnot\u001b[39;00m \u001b[38;5;129;01min\u001b[39;00m ioargs\u001b[38;5;241m.\u001b[39mmode:\n\u001b[1;32m    785\u001b[0m         \u001b[38;5;66;03m# Encoding\u001b[39;00m\n\u001b[0;32m--> 786\u001b[0m         handle \u001b[38;5;241m=\u001b[39m \u001b[38;5;28;43mopen\u001b[39;49m\u001b[43m(\u001b[49m\n\u001b[1;32m    787\u001b[0m \u001b[43m            \u001b[49m\u001b[43mhandle\u001b[49m\u001b[43m,\u001b[49m\n\u001b[1;32m    788\u001b[0m \u001b[43m            \u001b[49m\u001b[43mioargs\u001b[49m\u001b[38;5;241;43m.\u001b[39;49m\u001b[43mmode\u001b[49m\u001b[43m,\u001b[49m\n\u001b[1;32m    789\u001b[0m \u001b[43m            \u001b[49m\u001b[43mencoding\u001b[49m\u001b[38;5;241;43m=\u001b[39;49m\u001b[43mioargs\u001b[49m\u001b[38;5;241;43m.\u001b[39;49m\u001b[43mencoding\u001b[49m\u001b[43m,\u001b[49m\n\u001b[1;32m    790\u001b[0m \u001b[43m            \u001b[49m\u001b[43merrors\u001b[49m\u001b[38;5;241;43m=\u001b[39;49m\u001b[43merrors\u001b[49m\u001b[43m,\u001b[49m\n\u001b[1;32m    791\u001b[0m \u001b[43m            \u001b[49m\u001b[43mnewline\u001b[49m\u001b[38;5;241;43m=\u001b[39;49m\u001b[38;5;124;43m\"\u001b[39;49m\u001b[38;5;124;43m\"\u001b[39;49m\u001b[43m,\u001b[49m\n\u001b[1;32m    792\u001b[0m \u001b[43m        \u001b[49m\u001b[43m)\u001b[49m\n\u001b[1;32m    793\u001b[0m     \u001b[38;5;28;01melse\u001b[39;00m:\n\u001b[1;32m    794\u001b[0m         \u001b[38;5;66;03m# Binary mode\u001b[39;00m\n\u001b[1;32m    795\u001b[0m         handle \u001b[38;5;241m=\u001b[39m \u001b[38;5;28mopen\u001b[39m(handle, ioargs\u001b[38;5;241m.\u001b[39mmode)\n",
      "\u001b[0;31mFileNotFoundError\u001b[0m: [Errno 2] No such file or directory: '/home/panastas/mount_vulcan/PhD_stuff/CoCoPeLia-Framework-bench-Rhops-0.2pen/vulcan-build/vulcan-install/Benchmarking/testLogs/CoCoPeLiaDgemmRunner_predefined_vals_ST-2D-BLOCK-CYCLIC__UN-PB-L4_RONLY-HOPS-1-0.20_PW-PRED-PERF_1.4.log'"
     ]
    }
   ],
   "source": [
    "def CoCoPeLia_log_read(filename):\n",
    "    temp = pd.read_csv(filename, header=None, names = ['T','dev_num', 'dev_id_token', 'cachesize_limit','TransA','TransB',\n",
    "                                                    'alpha','beta','M','N','K','Asloc','Bsloc','Csloc', 'CsOutloc', 'timer'], \n",
    "                                                     dtype = {'M': np.int64, 'N': np.int64, 'K': np.int64, 'timer': np.float64} )\n",
    "    temp.sort_values(by=['M','N','K'])\n",
    "    return temp\n",
    "\n",
    "all_dev = 8\n",
    "def keep_dev_8(dataframe):\n",
    "    return dataframe[dataframe['dev_num'] == all_dev]\n",
    "\n",
    "    \n",
    "devices=8\n",
    "machine = 'vulcan'\n",
    "Mmax = math.sqrt(32*1e9/(3*8))/256 #Tesla-V100\n",
    "MemMax = 4*(1024*1024*1024)*devices # Questionable limit\n",
    "Rmax_Gflops = 7*1024*devices\n",
    "#Mmax = math.sqrt(11*1e9/(3*8))/256 #Tesla-K40\n",
    "#machine = 'testbed-II_Tesla-V100'\n",
    "\n",
    "version=\"1.4\"\n",
    "split=\"ST-2D-BLOCK-CYCLIC\"\n",
    "sr_over=\"\"\n",
    "implementation=\"_UN-PB-L4\"\n",
    "pw_optimize=\"_PW-PRED-PERF\"\n",
    "\n",
    "impl_hops=\"_ALL-HOPS-1-0.15\"\n",
    "homedir = \"~/mount_vulcan\"\n",
    "benchdir= homedir + \"/PhD_stuff/CoCoPeLia-Framework-bench\"\n",
    "#XKBLAS_nocache_data = CoCoPeLia_log_read('%s/%s-build/%s-install/Benchmarking/testLogs/XKBLASDgemmRunner_%s_%s%s%s%s_%s.log' %(benchdir, machine, machine, split, sr_over, implementation, impl_hops, pw_optimize, version))\n",
    "#print('XKBLAS_nocache_data len: %d' % len(XKBLAS_nocache_data))\n",
    "#BLASx_data = CoCoPeLia_log_read('%s/%s-build/%s-install/Benchmarking/testLogs/BLASxDgemmRunner_%s_%s%s%s%s_%s.log' %(benchdir, machine, machine, split, sr_over, implementation, impl_hops, pw_optimize, version))\n",
    "#print('BLASx_data len: %d' % len(BLASx_data))\n",
    "#BLASxEx_data = CoCoPeLia_log_read('%s/%s-build/%s-install/Benchmarking/testLogs/BLASxExDgemmRunner_%s_%s%s%s%s_%s.log' %(benchdir, machine, machine, split, sr_over, implementation, impl_hops, pw_optimize, version))\n",
    "#print('BLASxEx_data len: %d' % len(BLASxEx_data))\n",
    "#cuBLASXt_best_data = CoCoPeLia_log_read('%s/%s-build/%s-install/Benchmarking/testLogs/cuBLASXtDgemmRunner_%s_%s%s%s%s_%s.log' %(benchdir, machine, machine, split, sr_over, implementation, impl_hops, pw_optimize, version))\n",
    "#print('cuBLASXt_best_data len: %d' % len(cuBLASXt_best_data))\n",
    "\n",
    "sr_over=\"\"\n",
    "impl_hops=\"_RONLY-HOPS-1-0.15\"\n",
    "benchdir= homedir + \"/PhD_stuff/CoCoPeLia-Framework-bench-Rhops-old\"\n",
    "CoCopeLia_data_rhops = CoCoPeLia_log_read('%s/%s-build/%s-install/Benchmarking/testLogs/CoCoPeLiaDgemmRunner_%s_%s%s%s%s_%s.log' \n",
    "                                          %(benchdir, machine, machine, split, sr_over, implementation, impl_hops, pw_optimize, version))\n",
    "print('CoCopeLia_data_rhops len: %d' % len(CoCopeLia_data_rhops))\n",
    "CoCopeLia_data_rhops_alldev = keep_dev_8(CoCoPeLia_log_read('%s/%s-build/%s-install/Benchmarking/testLogs/CoCoPeLiaDgemmRunner_predefined_vals_%s_%s%s%s%s_%s.log' \n",
    "                                                 %(benchdir, machine, machine, split, sr_over, implementation, impl_hops, pw_optimize, version)))\n",
    "print('CoCopeLia_data_rhops_alldev len: %d\\n' % len(CoCopeLia_data_rhops_alldev))\n",
    "\n",
    "impl_hops=\"\"\n",
    "benchdir= homedir + \"/PhD_stuff/CoCoPeLia-Framework-bench-Nohops\"\n",
    "CoCopeLia_data_nosel_nohops_alldev = keep_dev_8(CoCoPeLia_log_read('%s/%s-build/%s-install/Benchmarking/testLogs/CoCoPeLiaDgemmRunner_predefined_vals_%s_%s%s%s%s_%s.log' \n",
    "                                                                  %(benchdir, machine, machine, split, sr_over, implementation, impl_hops, pw_optimize, version)))\n",
    "print('CoCopeLia_data_nosel_nohops_alldev len: %d' % len(CoCopeLia_data_nosel_nohops_alldev))\n",
    "cuBLASXt_best_data = CoCoPeLia_log_read('%s/%s-build/%s-install/Benchmarking/testLogs/cuBLASXtDgemmRunner_%s_%s%s%s%s_%s.log' %(benchdir, machine, machine, split, sr_over, implementation, impl_hops, pw_optimize, version))\n",
    "print('cuBLASXt_best_data len: %d\\n' % len(cuBLASXt_best_data))\n",
    "\n",
    "impl_hops=\"_RONLY-HOPS-1-0.20\"\n",
    "benchdir= homedir + \"/PhD_stuff/CoCoPeLia-Framework-bench-Rhops-0.2pen\"\n",
    "CoCopeLia_data_rhops_02pen_alldev = keep_dev_8(CoCoPeLia_log_read('%s/%s-build/%s-install/Benchmarking/testLogs/CoCoPeLiaDgemmRunner_predefined_vals_%s_%s%s%s%s_%s.log' \n",
    "                                                                  %(benchdir, machine, machine, split, sr_over, implementation, impl_hops, pw_optimize, version)))\n",
    "print('CoCopeLia_data_rhops_02pen_alldev len: %d' % len(CoCopeLia_data_rhops_02pen_alldev))\n",
    "BLASxEx_data = CoCoPeLia_log_read('%s/%s-build/%s-install/Benchmarking/testLogs/BLASxExDgemmRunner_%s_%s%s%s%s_%s.log' %(benchdir, machine, machine, split, sr_over, implementation, impl_hops, pw_optimize, version))\n",
    "print('BLASxEx_data len: %d\\n' % len(BLASxEx_data))\n",
    "\n",
    "impl_hops=\"_ALL-HOPS-1-0.20\"\n",
    "benchdir= homedir + \"/PhD_stuff/CoCoPeLia-Framework-bench-Allhops-0.2pen\"\n",
    "CoCopeLia_data_nosel_allhops_02pen_alldev = keep_dev_8(CoCoPeLia_log_read('%s/%s-build/%s-install/Benchmarking/testLogs/CoCoPeLiaDgemmRunner_predefined_vals_%s_%s%s%s%s_%s.log' \n",
    "                                                                  %(benchdir, machine, machine, split, sr_over, implementation, impl_hops, pw_optimize, version)))\n",
    "print('CoCopeLia_data_nosel_allhops_02pen_alldev len: %d' % len(CoCopeLia_data_nosel_allhops_02pen_alldev))\n",
    "XKBLAS_nocache_data = CoCoPeLia_log_read('%s/%s-build/%s-install/Benchmarking/testLogs/XKBLASDgemmRunner_%s_%s%s%s%s_%s.log' %(benchdir, machine, machine, split, sr_over, implementation, impl_hops, pw_optimize, version))\n",
    "print('XKBLAS_nocache_data len: %d\\n' % len(XKBLAS_nocache_data))"
   ]
  },
  {
   "cell_type": "code",
   "execution_count": null,
   "metadata": {},
   "outputs": [],
   "source": [
    "def CoCoPeLia_grouby_avg(df):\n",
    "    result = df.groupby(['T','dev_num', 'dev_id_token', 'cachesize_limit','TransA','TransB',\n",
    "        'alpha','beta','M','N','K','Asloc','Bsloc','Csloc', 'CsOutloc'], as_index=False, sort=True).mean()\n",
    "    #print(result)\n",
    "    return result\n",
    "#CoCoPeLia_group = CoCoPeLia_grouby_list_avg(CoCopeLia_data)\n",
    "#print(CoCoPeLia_plot_data)\n",
    "\n",
    "def CoCoPeLia_modified_grouby_avg(df):\n",
    "    result = df.groupby(['T','dev_num', 'dev_id_token', 'cachesize_limit','TransA','TransB',\n",
    "        'alpha','beta','M','N','K','Asloc','Bsloc','Csloc', 'CsOutloc', 'flops', 'bytes', 'loc_str', 'imp'], as_index=False, sort=True).mean()\n",
    "    #print(result)\n",
    "    return result\n",
    "#CoCoPeLia_group = CoCoPeLia_grouby_list_avg(CoCopeLia_data)\n",
    "#print(CoCoPeLia_plot_data)\n",
    "\n",
    "def CoCoPeLia_grouby_min(df):\n",
    "    return df.groupby(['T','dev_num', 'dev_id_token', 'cachesize_limit','TransA','TransB',\n",
    "        'alpha','beta','M','N','K','Asloc','Bsloc','Csloc', 'CsOutloc'], as_index=False, sort=True).min()\n",
    "\n",
    "def CoCoPeLia_select_subset(df, subset_str):\n",
    "    if subset_str == 'square': \n",
    "        return df.loc[(df['M'] == df['N']) & (df['M'] == df['K'])]\n",
    "    elif subset_str == 'fat-thin':\n",
    "        return df.loc[(df['M'] == df['N']) & (df['M'] > df['K'])]\n",
    "    elif subset_str == 'thin-fat':        \n",
    "        return df.loc[(df['M'] == df['N']) & (df['M'] < df['K'])]\n",
    "    \n",
    "def CoCoPeLia_select_indata_locs(df, loc1, loc2, loc3):\n",
    "    return df.loc[(df['Asloc'] == loc1) & (df['Bsloc'] == loc2) & (df['Csloc'] == loc3) & (df['M'] == df['N']) & (df['M'] == df['K'])]"
   ]
  },
  {
   "cell_type": "code",
   "execution_count": null,
   "metadata": {},
   "outputs": [],
   "source": [
    "font=8\n",
    "#plt.rc('font', family='serif', serif='Times') #annoying warning filling my view, so disabled until needed\n",
    "#plt.rc('text', usetex=True)\n",
    "plt.rc('xtick', labelsize=font)\n",
    "plt.rc('ytick', labelsize=font)\n",
    "plt.rc('axes', labelsize=font)\n",
    "\n",
    "# width as measured in inkscape\n",
    "width = 3.487\n",
    "height = width / 1.618\n",
    "\n",
    "#fig, ax = plt.subplots()\n",
    "#fig.subplots_adjust(left=.15, bottom=.17, right=.99, top=.97)"
   ]
  },
  {
   "cell_type": "code",
   "execution_count": null,
   "metadata": {},
   "outputs": [],
   "source": [
    "def dgemm_flops(df):\n",
    "    df['flops'] = df['M']*df['N']*(2*df['K'] + 2)\n",
    "    return df['M']*df['N']*(2*df['K'] + 2)\n",
    "def dgemm_bytes(df):\n",
    "    df['bytes'] = 8*(df['M']*(df['N']+df['K']) + df['N']*df['K']) \n",
    "    return 8*(df['M']*(df['N']+df['K']) + df['N']*df['K']) "
   ]
  },
  {
   "cell_type": "code",
   "execution_count": null,
   "metadata": {},
   "outputs": [],
   "source": [
    "    dgemm_bytes(BLASxEx_data)\n",
    "    dgemm_flops(BLASxEx_data)\n",
    "    BLASxEx_data['perf'] = BLASxEx_data['flops']/(1e9*BLASxEx_data['timer'])\n",
    "    print(\"BLASxEx_data mean perf = %lf Gflops/s\" % BLASxEx_data['perf'].mean())\n",
    "    BLASxEx_data['loc_str'] = str(BLASxEx_data['Asloc']) + '_' +  str(BLASxEx_data['Bsloc']) + '_' + str(BLASxEx_data['Csloc'])\n",
    "    BLASxEx_data['loc_str'] = 100*(BLASxEx_data['Asloc']+1) + 10*(BLASxEx_data['Bsloc']+1) + BLASxEx_data['Csloc']+1\n",
    "    BLASxEx_data['imp'] = 'BLASX'\n",
    "    \n",
    "    dgemm_bytes(XKBLAS_nocache_data)\n",
    "    dgemm_flops(XKBLAS_nocache_data)\n",
    "    XKBLAS_nocache_data['perf'] = XKBLAS_nocache_data['flops']/(1e9*XKBLAS_nocache_data['timer'])\n",
    "    print(\"XKBLAS_nocache_data mean perf = %lf Gflops/s\" % XKBLAS_nocache_data['perf'].mean())\n",
    "    XKBLAS_nocache_data['loc_str'] = str(XKBLAS_nocache_data['Asloc']) + '_' +  str(XKBLAS_nocache_data['Bsloc']) + '_' + str(XKBLAS_nocache_data['Csloc'])\n",
    "    XKBLAS_nocache_data['loc_str'] = 100*(XKBLAS_nocache_data['Asloc']+1) + 10*(XKBLAS_nocache_data['Bsloc']+1) + XKBLAS_nocache_data['Csloc']+1\n",
    "    XKBLAS_nocache_data['imp'] = 'XKBLAS'\n",
    "    \n",
    "    dgemm_bytes(CoCopeLia_data_rhops_alldev)\n",
    "    dgemm_flops(CoCopeLia_data_rhops_alldev)\n",
    "    CoCopeLia_data_rhops_alldev['perf'] = CoCopeLia_data_rhops_alldev['flops']/(1e9*CoCopeLia_data_rhops_alldev['timer'])\n",
    "    print(\"CoCopeLia_data_rhops_alldev mean perf = %lf Gflops/s\" % CoCopeLia_data_rhops_alldev['perf'].mean())\n",
    "    CoCopeLia_data_rhops_alldev['loc_str'] = 100*(CoCopeLia_data_rhops_alldev['Asloc']+1) + 10*(CoCopeLia_data_rhops_alldev['Bsloc']+1) + CoCopeLia_data_rhops_alldev['Csloc']+1\n",
    "    CoCopeLia_data_rhops_alldev['imp'] = 'Rhops-0.15-old'\n",
    "    \n",
    "    dgemm_bytes(CoCopeLia_data_nosel_nohops_alldev)\n",
    "    dgemm_flops(CoCopeLia_data_nosel_nohops_alldev)\n",
    "    CoCopeLia_data_nosel_nohops_alldev['perf'] = CoCopeLia_data_nosel_nohops_alldev['flops']/(1e9*CoCopeLia_data_nosel_nohops_alldev['timer'])\n",
    "    print(\"CoCopeLia_data_nosel_nohops_alldev mean perf = %lf Gflops/s\" % CoCopeLia_data_nosel_nohops_alldev['perf'].mean())\n",
    "    CoCopeLia_data_nosel_nohops_alldev['loc_str'] = 100*(CoCopeLia_data_nosel_nohops_alldev['Asloc']+1) + 10*(CoCopeLia_data_nosel_nohops_alldev['Bsloc']+1) + CoCopeLia_data_nosel_nohops_alldev['Csloc']+1\n",
    "    CoCopeLia_data_nosel_nohops_alldev['imp'] = 'Nohops'\n",
    "    \n",
    "    dgemm_bytes(CoCopeLia_data_nosel_rhops_02pen_alldev)\n",
    "    dgemm_flops(CoCopeLia_data_nosel_rhops_02pen_alldev)\n",
    "    CoCopeLia_data_nosel_rhops_02pen_alldev['perf'] = CoCopeLia_data_nosel_rhops_02pen_alldev['flops']/(1e9*CoCopeLia_data_nosel_rhops_02pen_alldev['timer'])\n",
    "    print(\"CoCopeLia_data_nosel_rhops_02pen_alldev mean perf = %lf Gflops/s\" % CoCopeLia_data_nosel_rhops_02pen_alldev['perf'].mean())\n",
    "    CoCopeLia_data_nosel_rhops_02pen_alldev['loc_str'] = 100*(CoCopeLia_data_nosel_rhops_02pen_alldev['Asloc']+1) + 10*(CoCopeLia_data_nosel_rhops_02pen_alldev['Bsloc']+1) + CoCopeLia_data_nosel_rhops_02pen_alldev['Csloc']+1\n",
    "    CoCopeLia_data_nosel_rhops_02pen_alldev['imp'] = 'Rhops-0.2'\n",
    "\n",
    "    dgemm_bytes(CoCopeLia_data_nosel_allhops_02pen_alldev)\n",
    "    dgemm_flops(CoCopeLia_data_nosel_allhops_02pen_alldev)\n",
    "    CoCopeLia_data_nosel_allhops_02pen_alldev['perf'] = CoCopeLia_data_nosel_allhops_02pen_alldev['flops']/(1e9*CoCopeLia_data_nosel_allhops_02pen_alldev['timer'])\n",
    "    print(\"CoCopeLia_data_nosel_allhops_02pen_alldev mean perf = %lf Gflops/s\" % CoCopeLia_data_nosel_allhops_02pen_alldev['perf'].mean())\n",
    "    CoCopeLia_data_nosel_allhops_02pen_alldev['loc_str'] = 100*(CoCopeLia_data_nosel_allhops_02pen_alldev['Asloc']+1) + 10*(CoCopeLia_data_nosel_allhops_02pen_alldev['Bsloc']+1) + CoCopeLia_data_nosel_allhops_02pen_alldev['Csloc']+1\n",
    "    CoCopeLia_data_nosel_allhops_02pen_alldev['imp'] = 'Allhops-0.2'\n",
    "    "
   ]
  },
  {
   "cell_type": "code",
   "execution_count": null,
   "metadata": {},
   "outputs": [],
   "source": [
    "CoCopeLia_all_data_alldev = pd.concat([BLASxEx_data,XKBLAS_nocache_data])\n",
    "#CoCopeLia_all_data_alldev = pd.concat([CoCopeLia_all_data_alldev,CoCopeLia_data_rhops_alldev])\n",
    "CoCopeLia_all_data_alldev = pd.concat([CoCopeLia_all_data_alldev,CoCopeLia_data_nosel_nohops_alldev])\n",
    "CoCopeLia_all_data_alldev = pd.concat([CoCopeLia_all_data_alldev,CoCopeLia_data_nosel_rhops_02pen_alldev])\n",
    "CoCopeLia_all_data_alldev = pd.concat([CoCopeLia_all_data_alldev,CoCopeLia_data_nosel_allhops_02pen_alldev])\n",
    "CoCopeLia_all_data_mean = CoCoPeLia_modified_grouby_avg(CoCopeLia_all_data_alldev)\n",
    "print(CoCopeLia_all_data_mean.head(5))\n",
    "CoCopeLia_all_data_alldev_list = []\n",
    "CoCopeLia_all_data_alldev_list.append(CoCoPeLia_select_subset(CoCopeLia_all_data_mean,'square'))\n",
    "CoCopeLia_all_data_alldev_list.append(CoCoPeLia_select_subset(CoCopeLia_all_data_mean,'fat-thin'))\n",
    "CoCopeLia_all_data_alldev_list.append(CoCoPeLia_select_subset(CoCopeLia_all_data_mean,'thin-fat'))\n",
    "elem_name=['Square ( M = N = K)', 'Fat-thin ( M = N > K )', 'Thin-fat (M = N < K )']\n",
    "fig, ax = plt.subplots(1,3)\n",
    "fig.set_size_inches(width*4, 2*height)\n",
    "fig.subplots_adjust(left=.05, bottom=.06, right=.99, top=.86)\n",
    "for ctr in range(0,len(ax)):\n",
    "    sns.boxplot(data=CoCopeLia_all_data_alldev_list[ctr], x = 'loc_str', y = 'perf', hue = 'imp', ax=ax[ctr])\n",
    "    ax[ctr].set_title(elem_name[ctr])\n",
    "    ax[ctr].get_legend().remove()\n",
    "    #ax[ctr].set_xticks([])\n",
    "    ax[ctr].set_xlabel('')\n",
    "    #ax[ctr].set_xticklabels(['[-1,-1,-1]', '[0,0,-1]', '[4,2,-1]', '[-1,-1,0]', '[-1,0,5]', '[0,0,0]', '[0,1,2]', '[0,3,6]', '[4,2,5]', '[1,6,7]'])\n",
    "    if ctr == 0: \n",
    "        fig.legend(loc = 'upper center',#title=\"Model\",  # Title for the legend\n",
    "            fontsize=font, fancybox = False, ncol=6)\n",
    "fig.savefig('Plots/MaxDev/Plot_testbed-%s_gflops_sumup.pdf' % (machine))        "
   ]
  },
  {
   "cell_type": "code",
   "execution_count": null,
   "metadata": {},
   "outputs": [],
   "source": [
    "# Plot all, in respect to Problem size\n",
    "for loc in [[-1,-1,-1], [0,0,-1], [4,2,0], [-1,-1,0], [-1,0,5], [0,0,0], [0,1,2], [0,3,6], [4,2,5], [1,6,7]]:\n",
    "    print(\"loc = \" + str(loc))\n",
    "    fig, ax = plt.subplots()\n",
    "    fig.subplots_adjust(left=.16, bottom=.16, right=.99, top=.86)\n",
    "\n",
    "    XKBLAS_nocache_data_p = CoCoPeLia_grouby_avg(CoCoPeLia_select_indata_locs(XKBLAS_nocache_data, loc[0], loc[1], loc[2]))\n",
    "    XKBLAS_nocache_data_p.sort_values(inplace = True, by = ['bytes'])\n",
    "    print(\"XKBLAS_nocache_data_p mean perf = %lf Gflops/s\" % XKBLAS_nocache_data_p['perf'].mean())\n",
    "    plt.plot(XKBLAS_nocache_data_p['bytes'], XKBLAS_nocache_data_p['perf'], color=cp4[0], label='XKBLAS-fair')\n",
    "\n",
    "    BLASxEx_data_p = CoCoPeLia_grouby_avg(CoCoPeLia_select_indata_locs(BLASxEx_data, loc[0], loc[1], loc[2]))\n",
    "    BLASxEx_data_p.sort_values(inplace = True, by = ['bytes'])\n",
    "    print(\"BLASxEx_data_p mean perf = %lf Gflops/s\" % BLASxEx_data_p['perf'].mean())\n",
    "    plt.plot(BLASxEx_data_p['bytes'], BLASxEx_data_p['perf'], color=cp4[1], label='BLASX-buf-reuse')\n",
    "\n",
    "    #cuBLASXt_best_data_p = CoCoPeLia_grouby_avg(CoCoPeLia_select_indata_locs(cuBLASXt_best_data, loc[0], loc[1], loc[2]))\n",
    "    #plt.plot(dgemm_bytes(cuBLASXt_best_data_p), dgemm_flops(cuBLASXt_best_data_p)/(1e9*cuBLASXt_best_data_p['timer']),  color=cp4[4], label='cuBLASXt-best')\n",
    "    \n",
    "    CoCopeLia_data_rhops_alldev_p = CoCoPeLia_grouby_avg(CoCoPeLia_select_indata_locs(CoCopeLia_data_rhops_alldev, loc[0], loc[1], loc[2]))\n",
    "    CoCopeLia_data_rhops_alldev_p.sort_values(inplace = True, by = ['bytes'])\n",
    "    print(\"CoCopeLia_data_rhops_alldev_p mean perf = %lf Gflops/s\" % CoCopeLia_data_rhops_alldev_p['perf'].mean())\n",
    "    plt.plot(CoCopeLia_data_rhops_alldev_p['bytes'], CoCopeLia_data_rhops_alldev_p['perf'], color=cp4[3], label='CoCopeLia.1.4 Rhops old')\n",
    "    \n",
    "    CoCopeLia_data_rhops_02pen_alldev_p = CoCoPeLia_grouby_avg(CoCoPeLia_select_indata_locs(CoCopeLia_data_rhops_02pen_alldev, loc[0], loc[1], loc[2]))\n",
    "    CoCopeLia_data_rhops_02pen_alldev_p.sort_values(inplace = True, by = ['bytes'])    \n",
    "    print(\"CoCopeLia_data_rhops_02pen_alldev_p mean perf = %lf Gflops/s\" % CoCopeLia_data_rhops_02pen_alldev_p['perf'].mean())\n",
    "    plt.plot(CoCopeLia_data_rhops_02pen_alldev_p['bytes'], CoCopeLia_data_rhops_02pen_alldev_p['perf'], color='c', label='CoCopeLia.1.4 Rhops selection')\n",
    "    \n",
    "    CoCopeLia_data_nosel_rhops_02pen_alldev_p = CoCoPeLia_grouby_avg(CoCoPeLia_select_indata_locs(CoCopeLia_data_nosel_rhops_02pen_alldev, loc[0], loc[1], loc[2]))\n",
    "    CoCopeLia_data_nosel_rhops_02pen_alldev_p.sort_values(inplace = True, by = ['bytes'])    \n",
    "    print(\"CoCopeLia_data_nosel_rhops_02pen_alldev_p mean perf = %lf Gflops/s\" % CoCopeLia_data_nosel_rhops_02pen_alldev_p['perf'].mean())\n",
    "    plt.plot(CoCopeLia_data_nosel_rhops_02pen_alldev_p['bytes'], CoCopeLia_data_nosel_rhops_02pen_alldev_p['perf'], color='m', label='CoCopeLia.1.4 Rhops no selection')\n",
    "       \n",
    "    CoCopeLia_data_nosel_nohops_alldev_p = CoCoPeLia_grouby_avg(CoCoPeLia_select_indata_locs(CoCopeLia_data_nosel_nohops_alldev, loc[0], loc[1], loc[2]))\n",
    "    CoCopeLia_data_nosel_nohops_alldev_p.sort_values(inplace = True, by = ['bytes'])\n",
    "    print(\"CoCopeLia_data_nosel_nohops_alldev_p mean perf = %lf Gflops/s\" % CoCopeLia_data_nosel_nohops_alldev_p['perf'].mean())\n",
    "    plt.plot(CoCopeLia_data_nosel_nohops_alldev_p['bytes'], CoCopeLia_data_nosel_nohops_alldev_p['perf'], color=cp4[2], label='CoCopeLia.1.2 no selection')\n",
    "    \n",
    "    plt.grid(axis='y')\n",
    "    plt.ylabel('Performance (Gflops/s)')\n",
    "    plt.xlabel('Problem Size')\n",
    "\n",
    "    ymin, ymax = ax.get_ylim()\n",
    "    xmin, xmax = ax.get_xlim()\n",
    "    plt.axhline(Rmax_Gflops, linewidth = 0.5, color='b', linestyle = '--')\n",
    "    plt.text(xmax - (xmax-xmin)*0.05, Rmax_Gflops*0.95, 'Peak' , fontsize = font -2, color='b')\n",
    "    plt.axvline(MemMax,color='c',linewidth = 0.5, linestyle = '--')\n",
    "    plt.text(MemMax*1.01, ymin + (ymax-ymin)*0.05, 'Combined GPU Mem', fontsize = font -2, color='c')\n",
    "\n",
    "    plt.xscale('log')\n",
    "    #fig.set_size_inches(width, height)\n",
    "    fig.legend(loc = 'upper center',#title=\"Model\",  # Title for the legend\n",
    "        fontsize=font, fancybox = False, ncol=3)\n",
    "    #fig.savefig('Plot-Transpose-Comparisson-%s.pdf' % machine)\n",
    "    fig.savefig('Plots/MaxDev/Plot_testbed-%s_gflops_dataloc_%d_%d_%d.png' % (machine, loc[0], loc[1], loc[2]))\n",
    "    fig.savefig('Plots/MaxDev/Plot_testbed-%s_gflops_dataloc_%d_%d_%d.pdf' % (machine, loc[0], loc[1], loc[2]))\n",
    "    plt.close()"
   ]
  },
  {
   "cell_type": "code",
   "execution_count": null,
   "metadata": {},
   "outputs": [],
   "source": []
  },
  {
   "cell_type": "code",
   "execution_count": null,
   "metadata": {},
   "outputs": [],
   "source": []
  },
  {
   "cell_type": "code",
   "execution_count": null,
   "metadata": {},
   "outputs": [],
   "source": []
  }
 ],
 "metadata": {
  "kernelspec": {
   "display_name": "Python 3 (ipykernel)",
   "language": "python",
   "name": "python3"
  },
  "language_info": {
   "codemirror_mode": {
    "name": "ipython",
    "version": 3
   },
   "file_extension": ".py",
   "mimetype": "text/x-python",
   "name": "python",
   "nbconvert_exporter": "python",
   "pygments_lexer": "ipython3",
   "version": "3.10.6"
  }
 },
 "nbformat": 4,
 "nbformat_minor": 4
}
