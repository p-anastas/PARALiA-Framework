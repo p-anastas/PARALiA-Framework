{
 "cells": [
  {
   "cell_type": "code",
   "execution_count": null,
   "metadata": {},
   "outputs": [],
   "source": [
    "import pandas as pd\n",
    "import matplotlib as mpl\n",
    "#mpl.use('pdf')\n",
    "import matplotlib.pyplot as plt\n",
    "import numpy as np\n",
    "from collections import OrderedDict\n",
    "import matplotlib\n",
    "import seaborn as sns\n",
    "#Red\n",
    "red1= sns.color_palette(\"Reds_d\",1)\n",
    "red2= sns.color_palette(\"Reds_d\",2)\n",
    "red3= sns.color_palette(\"Reds_d\",3)\n",
    "red4= sns.color_palette(\"Reds_d\",4)\n",
    "red5= sns.color_palette(\"Reds_d\",5)\n",
    "red6= sns.color_palette(\"Reds_d\",6)\n",
    "red7= sns.color_palette(\"Reds_d\",7)\n",
    "red8= sns.color_palette(\"Reds_d\",8)\n",
    "\n",
    "#YellowGreen\n",
    "yg1= sns.color_palette(\"YlGn_d\",1)\n",
    "yg2= sns.color_palette(\"YlGn_d\",2)\n",
    "yg3= sns.color_palette(\"YlGn_d\",3)\n",
    "yg4= sns.color_palette(\"YlGn_d\",4)\n",
    "yg5= sns.color_palette(\"YlGn_d\",5)\n",
    "yg7= sns.color_palette(\"YlGn_d\",7)\n",
    "\n",
    "#GreenBlue\n",
    "gb1= sns.color_palette(\"GnBu_d\",1)\n",
    "gb2= sns.color_palette(\"GnBu_d\",2)\n",
    "gb3= sns.color_palette(\"GnBu_d\",3)\n",
    "gb4= sns.color_palette(\"GnBu_d\",4)\n",
    "gb5= sns.color_palette(\"GnBu_d\",5)\n",
    "gb6= sns.color_palette(\"GnBu_d\",6)\n",
    "gb7= sns.color_palette(\"GnBu_d\",7)\n",
    "gb8= sns.color_palette(\"GnBu_d\",8)\n",
    "\n",
    "cp2 = list(map(lambda x: sns.desaturate(x,0.9),[red7[2],gb7[4]]))\n",
    "cp2v1 = list(map(lambda x: sns.desaturate(x,0.9),[red7[2],yg7[0]]))\n",
    "cp3 = list(map(lambda x: sns.desaturate(x,0.9),[yg7[0],gb7[4],red7[2]]))\n",
    "cp4 = list(map(lambda x: sns.desaturate(x,0.9),[yg7[0],gb7[4],red7[2],yg7[6]]))\n",
    "cp2_2 = list(map(lambda x: sns.desaturate(x,0.9),[red7[0],red7[3],gb7[4],gb7[6]]))\n",
    "cp_total_spectrum = list(map(lambda x: sns.desaturate(x,0.9),gb7 + yg7 + red7))"
   ]
  },
  {
   "cell_type": "code",
   "execution_count": null,
   "metadata": {},
   "outputs": [],
   "source": [
    "sns.set_palette(cp4)\n",
    "sns.color_palette()"
   ]
  },
  {
   "cell_type": "code",
   "execution_count": null,
   "metadata": {},
   "outputs": [],
   "source": [
    "sns.set_palette(cp2v1)\n",
    "sns.color_palette()"
   ]
  },
  {
   "cell_type": "code",
   "execution_count": null,
   "metadata": {},
   "outputs": [],
   "source": [
    "sns.set_palette(cp3)\n",
    "sns.color_palette()"
   ]
  },
  {
   "cell_type": "code",
   "execution_count": null,
   "metadata": {},
   "outputs": [],
   "source": [
    "machine = 'silver1'\n",
    "plot_data_gpu = []\n",
    "plot_data_cpu = []\n",
    "microbench_master_dir = \n",
    "for TransA in ['N', 'T']:\n",
    "    for TransB in ['N', 'T']:\n",
    "        plot_data_gpu.append(pd.read_csv('../%s_build/%s-install/Deployment_phase/Database/Benchmark-Results/cublasDgemm_dev-0_TransA-%s_TransB-%s.log' % (machine, machine, TransA, TransB), header=None, names = ['M','N','K','avg_t','margin_err', 'itter', 'bench_t'], \n",
    "            dtype = {'M': np.int64, 'M': np.int64, 'K': np.int64, 'avg_t': np.float64, 'margin_err': np.float64, 'itter': np.int64, 'bench_t': np.float64} ))\n",
    "        plot_data_cpu.append(pd.read_csv('../%s_build/%s-install/Deployment_phase/Database/Benchmark-Results/cblasDgemm_TransA-%s_TransB-%s.log' % (machine, machine, TransA, TransB), header=None, names = ['M','N','K','avg_t','margin_err', 'itter', 'bench_t'], \n",
    "            dtype = {'M': np.int64, 'M': np.int64, 'K': np.int64, 'avg_t': np.float64, 'margin_err': np.float64, 'itter': np.int64, 'bench_t': np.float64} ))\n",
    "plot_data_cpu[0]\n"
   ]
  },
  {
   "cell_type": "code",
   "execution_count": null,
   "metadata": {},
   "outputs": [],
   "source": [
    "font=8\n",
    "plt.rc('font', family='serif', serif='Times')\n",
    "#plt.rc('text', usetex=True)\n",
    "plt.rc('xtick', labelsize=font)\n",
    "plt.rc('ytick', labelsize=font)\n",
    "plt.rc('axes', labelsize=font)\n",
    "\n",
    "# width as measured in inkscape\n",
    "width = 3.487\n",
    "height = width / 1.618\n",
    "\n",
    "#fig, ax = plt.subplots()\n",
    "#fig.subplots_adjust(left=.15, bottom=.17, right=.99, top=.97)"
   ]
  },
  {
   "cell_type": "code",
   "execution_count": null,
   "metadata": {},
   "outputs": [],
   "source": []
  },
  {
   "cell_type": "code",
   "execution_count": null,
   "metadata": {},
   "outputs": [],
   "source": [
    "fig, ax = plt.subplots()\n",
    "fig.subplots_adjust(left=.16, bottom=.16, right=.99, top=.86)\n",
    "ctr = -1\n",
    "for TransA in ['N', 'T']:\n",
    "    for TransB in ['N', 'T']:\n",
    "        ctr = ctr + 1\n",
    "        plt.plot(plot_data_cpu[ctr]['M']/256, plot_data_cpu[ctr]['M']*plot_data_cpu[ctr]['N']*(2*plot_data_cpu[ctr]['K'] + 2)/(1e9*plot_data_cpu[ctr]['avg_t']), linewidth= 1, color=cp4[ctr], label = \"TransA=%c, TransB=%c\" %(TransA, TransB))\n",
    "plt.grid(axis='y')\n",
    "plt.ylabel('Performance (Gflops/s)')\n",
    "plt.xlabel('M div 256')\n",
    "#plt.yscale('log')\n",
    "#fig.set_size_inches(width, height)\n",
    "fig.legend(loc = 'upper center',#title=\"Model\",  # Title for the legend\n",
    "\tfontsize=font, fancybox = False, ncol=4)\n",
    "#fig.savefig('Plot-Transpose-Comparisson-%s.pdf' % machine)\n",
    "fig.savefig('Plots/Plot-Trans-Comparisson-%s.png' % (machine))\n",
    "fig.savefig('Plots/Plot-Trans-Comparisson-%s.pdf' % (machine))\n",
    "plt.close()"
   ]
  },
  {
   "cell_type": "code",
   "execution_count": null,
   "metadata": {},
   "outputs": [],
   "source": []
  }
 ],
 "metadata": {
  "kernelspec": {
   "display_name": "Python 3 (ipykernel)",
   "language": "python",
   "name": "python3"
  },
  "language_info": {
   "codemirror_mode": {
    "name": "ipython",
    "version": 3
   },
   "file_extension": ".py",
   "mimetype": "text/x-python",
   "name": "python",
   "nbconvert_exporter": "python",
   "pygments_lexer": "ipython3",
   "version": "3.10.12"
  }
 },
 "nbformat": 4,
 "nbformat_minor": 4
}
